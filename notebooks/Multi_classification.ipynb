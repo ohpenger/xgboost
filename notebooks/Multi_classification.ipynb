{
 "cells": [
  {
   "cell_type": "code",
   "id": "initial_id",
   "metadata": {
    "collapsed": true,
    "ExecuteTime": {
     "end_time": "2024-09-23T09:09:44.893729Z",
     "start_time": "2024-09-23T09:09:42.749195Z"
    }
   },
   "source": [
    "import numpy as np\n",
    "import pandas as pd\n",
    "import xgboost as xgb\n",
    "from sklearn import metrics\n",
    "from sklearn.model_selection import train_test_split\n",
    "from sklearn import metrics"
   ],
   "outputs": [],
   "execution_count": 1
  },
  {
   "metadata": {
    "ExecuteTime": {
     "end_time": "2024-09-23T09:09:44.932484Z",
     "start_time": "2024-09-23T09:09:44.896729Z"
    }
   },
   "cell_type": "code",
   "source": [
    "data = pd.read_csv('../data/wheat/seeds_dataset.txt',header=None,sep='\\s+',converters={7:lambda x: int(x)-1})\n",
    "data.rename(columns={7:'label'},inplace=True)\n",
    "data.head()"
   ],
   "id": "9f4c58b35b27be37",
   "outputs": [
    {
     "data": {
      "text/plain": [
       "       0      1       2      3      4      5      6  label\n",
       "0  15.26  14.84  0.8710  5.763  3.312  2.221  5.220      0\n",
       "1  14.88  14.57  0.8811  5.554  3.333  1.018  4.956      0\n",
       "2  14.29  14.09  0.9050  5.291  3.337  2.699  4.825      0\n",
       "3  13.84  13.94  0.8955  5.324  3.379  2.259  4.805      0\n",
       "4  16.14  14.99  0.9034  5.658  3.562  1.355  5.175      0"
      ],
      "text/html": [
       "<div>\n",
       "<style scoped>\n",
       "    .dataframe tbody tr th:only-of-type {\n",
       "        vertical-align: middle;\n",
       "    }\n",
       "\n",
       "    .dataframe tbody tr th {\n",
       "        vertical-align: top;\n",
       "    }\n",
       "\n",
       "    .dataframe thead th {\n",
       "        text-align: right;\n",
       "    }\n",
       "</style>\n",
       "<table border=\"1\" class=\"dataframe\">\n",
       "  <thead>\n",
       "    <tr style=\"text-align: right;\">\n",
       "      <th></th>\n",
       "      <th>0</th>\n",
       "      <th>1</th>\n",
       "      <th>2</th>\n",
       "      <th>3</th>\n",
       "      <th>4</th>\n",
       "      <th>5</th>\n",
       "      <th>6</th>\n",
       "      <th>label</th>\n",
       "    </tr>\n",
       "  </thead>\n",
       "  <tbody>\n",
       "    <tr>\n",
       "      <th>0</th>\n",
       "      <td>15.26</td>\n",
       "      <td>14.84</td>\n",
       "      <td>0.8710</td>\n",
       "      <td>5.763</td>\n",
       "      <td>3.312</td>\n",
       "      <td>2.221</td>\n",
       "      <td>5.220</td>\n",
       "      <td>0</td>\n",
       "    </tr>\n",
       "    <tr>\n",
       "      <th>1</th>\n",
       "      <td>14.88</td>\n",
       "      <td>14.57</td>\n",
       "      <td>0.8811</td>\n",
       "      <td>5.554</td>\n",
       "      <td>3.333</td>\n",
       "      <td>1.018</td>\n",
       "      <td>4.956</td>\n",
       "      <td>0</td>\n",
       "    </tr>\n",
       "    <tr>\n",
       "      <th>2</th>\n",
       "      <td>14.29</td>\n",
       "      <td>14.09</td>\n",
       "      <td>0.9050</td>\n",
       "      <td>5.291</td>\n",
       "      <td>3.337</td>\n",
       "      <td>2.699</td>\n",
       "      <td>4.825</td>\n",
       "      <td>0</td>\n",
       "    </tr>\n",
       "    <tr>\n",
       "      <th>3</th>\n",
       "      <td>13.84</td>\n",
       "      <td>13.94</td>\n",
       "      <td>0.8955</td>\n",
       "      <td>5.324</td>\n",
       "      <td>3.379</td>\n",
       "      <td>2.259</td>\n",
       "      <td>4.805</td>\n",
       "      <td>0</td>\n",
       "    </tr>\n",
       "    <tr>\n",
       "      <th>4</th>\n",
       "      <td>16.14</td>\n",
       "      <td>14.99</td>\n",
       "      <td>0.9034</td>\n",
       "      <td>5.658</td>\n",
       "      <td>3.562</td>\n",
       "      <td>1.355</td>\n",
       "      <td>5.175</td>\n",
       "      <td>0</td>\n",
       "    </tr>\n",
       "  </tbody>\n",
       "</table>\n",
       "</div>"
      ]
     },
     "execution_count": 2,
     "metadata": {},
     "output_type": "execute_result"
    }
   ],
   "execution_count": 2
  },
  {
   "metadata": {
    "ExecuteTime": {
     "end_time": "2024-09-23T09:09:44.944491Z",
     "start_time": "2024-09-23T09:09:44.934485Z"
    }
   },
   "cell_type": "code",
   "source": "data.label.value_counts()",
   "id": "5f7d5290a44161a",
   "outputs": [
    {
     "data": {
      "text/plain": [
       "label\n",
       "0    70\n",
       "1    70\n",
       "2    70\n",
       "Name: count, dtype: int64"
      ]
     },
     "execution_count": 3,
     "metadata": {},
     "output_type": "execute_result"
    }
   ],
   "execution_count": 3
  },
  {
   "metadata": {
    "ExecuteTime": {
     "end_time": "2024-09-23T09:09:44.970010Z",
     "start_time": "2024-09-23T09:09:44.946493Z"
    }
   },
   "cell_type": "code",
   "source": [
    "X = data.drop(columns='label')\n",
    "y = data['label']\n",
    "X_train, X_test, y_train, y_test = train_test_split(X, y, test_size=0.2, random_state=24)\n",
    "dtrain = xgb.DMatrix(X_train, label=y_train)\n",
    "dtest = xgb.DMatrix(X_test, label=y_test)\n"
   ],
   "id": "4b16a863b3900df3",
   "outputs": [],
   "execution_count": 4
  },
  {
   "metadata": {
    "ExecuteTime": {
     "end_time": "2024-09-23T09:09:45.243688Z",
     "start_time": "2024-09-23T09:09:44.975018Z"
    }
   },
   "cell_type": "code",
   "source": [
    "params = {\"objective\":'multi:softmax',\n",
    "          'eval_metric':\"merror\",\n",
    "          'booster':'gbtree',\n",
    "          'eta': 0.1,\n",
    "          'max_depth': 5,\n",
    "          'num_class': 3}\n",
    "watchlist = [(dtrain,'train'),(dtest,'eval')]\n",
    "num_round = 50\n",
    "bst =xgb.train(params,dtrain,num_round,watchlist)"
   ],
   "id": "6e5a8be2d1a6128c",
   "outputs": [
    {
     "name": "stdout",
     "output_type": "stream",
     "text": [
      "[0]\ttrain-merror:0.00595\teval-merror:0.14286\n",
      "[1]\ttrain-merror:0.00000\teval-merror:0.14286\n",
      "[2]\ttrain-merror:0.01190\teval-merror:0.14286\n",
      "[3]\ttrain-merror:0.01786\teval-merror:0.14286\n",
      "[4]\ttrain-merror:0.01786\teval-merror:0.14286\n",
      "[5]\ttrain-merror:0.01190\teval-merror:0.14286\n",
      "[6]\ttrain-merror:0.01190\teval-merror:0.14286\n",
      "[7]\ttrain-merror:0.01190\teval-merror:0.14286\n",
      "[8]\ttrain-merror:0.01190\teval-merror:0.14286\n",
      "[9]\ttrain-merror:0.00595\teval-merror:0.14286\n",
      "[10]\ttrain-merror:0.00595\teval-merror:0.14286\n",
      "[11]\ttrain-merror:0.00595\teval-merror:0.14286\n",
      "[12]\ttrain-merror:0.00595\teval-merror:0.14286\n",
      "[13]\ttrain-merror:0.00595\teval-merror:0.14286\n",
      "[14]\ttrain-merror:0.00595\teval-merror:0.14286\n",
      "[15]\ttrain-merror:0.00595\teval-merror:0.14286\n",
      "[16]\ttrain-merror:0.00595\teval-merror:0.14286\n",
      "[17]\ttrain-merror:0.00595\teval-merror:0.14286\n",
      "[18]\ttrain-merror:0.00595\teval-merror:0.14286\n",
      "[19]\ttrain-merror:0.00595\teval-merror:0.14286\n",
      "[20]\ttrain-merror:0.00595\teval-merror:0.14286\n",
      "[21]\ttrain-merror:0.00000\teval-merror:0.14286\n",
      "[22]\ttrain-merror:0.00000\teval-merror:0.14286\n",
      "[23]\ttrain-merror:0.00000\teval-merror:0.14286\n",
      "[24]\ttrain-merror:0.00000\teval-merror:0.14286\n",
      "[25]\ttrain-merror:0.00000\teval-merror:0.14286\n",
      "[26]\ttrain-merror:0.00000\teval-merror:0.14286\n",
      "[27]\ttrain-merror:0.00000\teval-merror:0.14286\n",
      "[28]\ttrain-merror:0.00000\teval-merror:0.14286\n",
      "[29]\ttrain-merror:0.00000\teval-merror:0.14286\n",
      "[30]\ttrain-merror:0.00000\teval-merror:0.14286\n",
      "[31]\ttrain-merror:0.00000\teval-merror:0.14286\n",
      "[32]\ttrain-merror:0.00000\teval-merror:0.14286\n",
      "[33]\ttrain-merror:0.00000\teval-merror:0.14286\n",
      "[34]\ttrain-merror:0.00000\teval-merror:0.14286\n",
      "[35]\ttrain-merror:0.00000\teval-merror:0.14286\n"
     ]
    },
    {
     "name": "stderr",
     "output_type": "stream",
     "text": [
      "F:\\envs\\ML\\lib\\site-packages\\xgboost\\core.py:723: FutureWarning: Pass `evals` as keyword args.\n",
      "  warnings.warn(msg, FutureWarning)\n"
     ]
    },
    {
     "name": "stdout",
     "output_type": "stream",
     "text": [
      "[36]\ttrain-merror:0.00000\teval-merror:0.14286\n",
      "[37]\ttrain-merror:0.00000\teval-merror:0.14286\n",
      "[38]\ttrain-merror:0.00000\teval-merror:0.14286\n",
      "[39]\ttrain-merror:0.00000\teval-merror:0.14286\n",
      "[40]\ttrain-merror:0.00000\teval-merror:0.14286\n",
      "[41]\ttrain-merror:0.00000\teval-merror:0.14286\n",
      "[42]\ttrain-merror:0.00000\teval-merror:0.14286\n",
      "[43]\ttrain-merror:0.00000\teval-merror:0.14286\n",
      "[44]\ttrain-merror:0.00000\teval-merror:0.14286\n",
      "[45]\ttrain-merror:0.00000\teval-merror:0.14286\n",
      "[46]\ttrain-merror:0.00000\teval-merror:0.14286\n",
      "[47]\ttrain-merror:0.00000\teval-merror:0.14286\n",
      "[48]\ttrain-merror:0.00000\teval-merror:0.14286\n",
      "[49]\ttrain-merror:0.00000\teval-merror:0.14286\n"
     ]
    }
   ],
   "execution_count": 5
  },
  {
   "metadata": {
    "ExecuteTime": {
     "end_time": "2024-09-23T09:09:45.258459Z",
     "start_time": "2024-09-23T09:09:45.247690Z"
    }
   },
   "cell_type": "code",
   "source": [
    "pred = bst.predict(dtest)\n",
    "error_rate = np.sum(pred!=y_test)/y_test.shape[0]\n",
    "print('Error Rate:',error_rate)"
   ],
   "id": "5d5e5cf16fe40136",
   "outputs": [
    {
     "name": "stdout",
     "output_type": "stream",
     "text": [
      "Error Rate: 0.14285714285714285\n"
     ]
    }
   ],
   "execution_count": 6
  },
  {
   "metadata": {
    "ExecuteTime": {
     "end_time": "2024-09-23T09:09:45.540343Z",
     "start_time": "2024-09-23T09:09:45.261606Z"
    }
   },
   "cell_type": "code",
   "source": [
    "params['objective']='multi:softprob'\n",
    "bst = xgb.train(params,dtrain,num_round,watchlist)"
   ],
   "id": "418b3384b23e405a",
   "outputs": [
    {
     "name": "stdout",
     "output_type": "stream",
     "text": [
      "[0]\ttrain-merror:0.00595\teval-merror:0.14286\n",
      "[1]\ttrain-merror:0.00000\teval-merror:0.14286\n",
      "[2]\ttrain-merror:0.01190\teval-merror:0.14286\n",
      "[3]\ttrain-merror:0.01786\teval-merror:0.14286\n",
      "[4]\ttrain-merror:0.01786\teval-merror:0.14286\n",
      "[5]\ttrain-merror:0.01190\teval-merror:0.14286\n",
      "[6]\ttrain-merror:0.01190\teval-merror:0.14286\n",
      "[7]\ttrain-merror:0.01190\teval-merror:0.14286\n",
      "[8]\ttrain-merror:0.01190\teval-merror:0.14286\n",
      "[9]\ttrain-merror:0.00595\teval-merror:0.14286\n",
      "[10]\ttrain-merror:0.00595\teval-merror:0.14286\n",
      "[11]\ttrain-merror:0.00595\teval-merror:0.14286\n",
      "[12]\ttrain-merror:0.00595\teval-merror:0.14286\n",
      "[13]\ttrain-merror:0.00595\teval-merror:0.14286\n",
      "[14]\ttrain-merror:0.00595\teval-merror:0.14286\n",
      "[15]\ttrain-merror:0.00595\teval-merror:0.14286\n",
      "[16]\ttrain-merror:0.00595\teval-merror:0.14286\n",
      "[17]\ttrain-merror:0.00595\teval-merror:0.14286\n",
      "[18]\ttrain-merror:0.00595\teval-merror:0.14286\n",
      "[19]\ttrain-merror:0.00595\teval-merror:0.14286\n",
      "[20]\ttrain-merror:0.00595\teval-merror:0.14286\n",
      "[21]\ttrain-merror:0.00000\teval-merror:0.14286\n",
      "[22]\ttrain-merror:0.00000\teval-merror:0.14286\n",
      "[23]\ttrain-merror:0.00000\teval-merror:0.14286\n",
      "[24]\ttrain-merror:0.00000\teval-merror:0.14286\n",
      "[25]\ttrain-merror:0.00000\teval-merror:0.14286\n",
      "[26]\ttrain-merror:0.00000\teval-merror:0.14286\n",
      "[27]\ttrain-merror:0.00000\teval-merror:0.14286\n",
      "[28]\ttrain-merror:0.00000\teval-merror:0.14286\n",
      "[29]\ttrain-merror:0.00000\teval-merror:0.14286\n",
      "[30]\ttrain-merror:0.00000\teval-merror:0.14286\n",
      "[31]\ttrain-merror:0.00000\teval-merror:0.14286\n",
      "[32]\ttrain-merror:0.00000\teval-merror:0.14286\n",
      "[33]\ttrain-merror:0.00000\teval-merror:0.14286\n",
      "[34]\ttrain-merror:0.00000\teval-merror:0.14286\n",
      "[35]\ttrain-merror:0.00000\teval-merror:0.14286\n",
      "[36]\ttrain-merror:0.00000\teval-merror:0.14286\n",
      "[37]\ttrain-merror:0.00000\teval-merror:0.14286\n",
      "[38]\ttrain-merror:0.00000\teval-merror:0.14286\n",
      "[39]\ttrain-merror:0.00000\teval-merror:0.14286\n",
      "[40]\ttrain-merror:0.00000\teval-merror:0.14286\n",
      "[41]\ttrain-merror:0.00000\teval-merror:0.14286\n",
      "[42]\ttrain-merror:0.00000\teval-merror:0.14286\n",
      "[43]\ttrain-merror:0.00000\teval-merror:0.14286\n",
      "[44]\ttrain-merror:0.00000\teval-merror:0.14286\n",
      "[45]\ttrain-merror:0.00000\teval-merror:0.14286\n",
      "[46]\ttrain-merror:0.00000\teval-merror:0.14286\n",
      "[47]\ttrain-merror:0.00000\teval-merror:0.14286\n",
      "[48]\ttrain-merror:0.00000\teval-merror:0.14286\n",
      "[49]\ttrain-merror:0.00000\teval-merror:0.14286\n"
     ]
    }
   ],
   "execution_count": 7
  },
  {
   "metadata": {
    "ExecuteTime": {
     "end_time": "2024-09-23T09:09:45.555358Z",
     "start_time": "2024-09-23T09:09:45.544363Z"
    }
   },
   "cell_type": "code",
   "source": [
    "pred = bst.predict(dtest)\n",
    "class_ = np.argmax(pred,axis=1)\n",
    "print(class_)"
   ],
   "id": "1eabac918e9d4f8c",
   "outputs": [
    {
     "name": "stdout",
     "output_type": "stream",
     "text": [
      "[2 0 2 1 1 2 0 1 2 2 2 1 2 0 1 2 2 2 1 2 0 2 2 2 1 2 2 2 0 1 2 2 2 2 1 1 0\n",
      " 0 2 2 2 1]\n"
     ]
    }
   ],
   "execution_count": 8
  },
  {
   "metadata": {
    "ExecuteTime": {
     "end_time": "2024-09-23T09:09:45.567887Z",
     "start_time": "2024-09-23T09:09:45.558870Z"
    }
   },
   "cell_type": "code",
   "source": "# dump_model = bst.dump_model('../saved_models/dump_multi_class.txt')",
   "id": "8fb2fb84f3be924f",
   "outputs": [],
   "execution_count": 9
  },
  {
   "metadata": {
    "ExecuteTime": {
     "end_time": "2024-09-23T09:10:20.074270Z",
     "start_time": "2024-09-23T09:10:19.902421Z"
    }
   },
   "cell_type": "code",
   "source": "xgb.plot_tree(bst)",
   "id": "b02f3dfb2b27475c",
   "outputs": [
    {
     "ename": "ImportError",
     "evalue": "You must install graphviz to plot tree",
     "output_type": "error",
     "traceback": [
      "\u001B[1;31m---------------------------------------------------------------------------\u001B[0m",
      "\u001B[1;31mModuleNotFoundError\u001B[0m                       Traceback (most recent call last)",
      "File \u001B[1;32mF:\\envs\\ML\\lib\\site-packages\\xgboost\\plotting.py:205\u001B[0m, in \u001B[0;36mto_graphviz\u001B[1;34m(booster, fmap, num_trees, rankdir, yes_color, no_color, condition_node_params, leaf_node_params, **kwargs)\u001B[0m\n\u001B[0;32m    204\u001B[0m \u001B[38;5;28;01mtry\u001B[39;00m:\n\u001B[1;32m--> 205\u001B[0m     \u001B[38;5;28;01mfrom\u001B[39;00m \u001B[38;5;21;01mgraphviz\u001B[39;00m \u001B[38;5;28;01mimport\u001B[39;00m Source\n\u001B[0;32m    206\u001B[0m \u001B[38;5;28;01mexcept\u001B[39;00m \u001B[38;5;167;01mImportError\u001B[39;00m \u001B[38;5;28;01mas\u001B[39;00m e:\n",
      "\u001B[1;31mModuleNotFoundError\u001B[0m: No module named 'graphviz'",
      "\nThe above exception was the direct cause of the following exception:\n",
      "\u001B[1;31mImportError\u001B[0m                               Traceback (most recent call last)",
      "Cell \u001B[1;32mIn[11], line 1\u001B[0m\n\u001B[1;32m----> 1\u001B[0m \u001B[43mxgb\u001B[49m\u001B[38;5;241;43m.\u001B[39;49m\u001B[43mplot_tree\u001B[49m\u001B[43m(\u001B[49m\u001B[43mbst\u001B[49m\u001B[43m)\u001B[49m\n",
      "File \u001B[1;32mF:\\envs\\ML\\lib\\site-packages\\xgboost\\plotting.py:286\u001B[0m, in \u001B[0;36mplot_tree\u001B[1;34m(booster, fmap, num_trees, rankdir, ax, **kwargs)\u001B[0m\n\u001B[0;32m    283\u001B[0m \u001B[38;5;28;01mif\u001B[39;00m ax \u001B[38;5;129;01mis\u001B[39;00m \u001B[38;5;28;01mNone\u001B[39;00m:\n\u001B[0;32m    284\u001B[0m     _, ax \u001B[38;5;241m=\u001B[39m plt\u001B[38;5;241m.\u001B[39msubplots(\u001B[38;5;241m1\u001B[39m, \u001B[38;5;241m1\u001B[39m)\n\u001B[1;32m--> 286\u001B[0m g \u001B[38;5;241m=\u001B[39m to_graphviz(booster, fmap\u001B[38;5;241m=\u001B[39mfmap, num_trees\u001B[38;5;241m=\u001B[39mnum_trees, rankdir\u001B[38;5;241m=\u001B[39mrankdir, \u001B[38;5;241m*\u001B[39m\u001B[38;5;241m*\u001B[39mkwargs)\n\u001B[0;32m    288\u001B[0m s \u001B[38;5;241m=\u001B[39m BytesIO()\n\u001B[0;32m    289\u001B[0m s\u001B[38;5;241m.\u001B[39mwrite(g\u001B[38;5;241m.\u001B[39mpipe(\u001B[38;5;28mformat\u001B[39m\u001B[38;5;241m=\u001B[39m\u001B[38;5;124m\"\u001B[39m\u001B[38;5;124mpng\u001B[39m\u001B[38;5;124m\"\u001B[39m))\n",
      "File \u001B[1;32mF:\\envs\\ML\\lib\\site-packages\\xgboost\\plotting.py:207\u001B[0m, in \u001B[0;36mto_graphviz\u001B[1;34m(booster, fmap, num_trees, rankdir, yes_color, no_color, condition_node_params, leaf_node_params, **kwargs)\u001B[0m\n\u001B[0;32m    205\u001B[0m     \u001B[38;5;28;01mfrom\u001B[39;00m \u001B[38;5;21;01mgraphviz\u001B[39;00m \u001B[38;5;28;01mimport\u001B[39;00m Source\n\u001B[0;32m    206\u001B[0m \u001B[38;5;28;01mexcept\u001B[39;00m \u001B[38;5;167;01mImportError\u001B[39;00m \u001B[38;5;28;01mas\u001B[39;00m e:\n\u001B[1;32m--> 207\u001B[0m     \u001B[38;5;28;01mraise\u001B[39;00m \u001B[38;5;167;01mImportError\u001B[39;00m(\u001B[38;5;124m\"\u001B[39m\u001B[38;5;124mYou must install graphviz to plot tree\u001B[39m\u001B[38;5;124m\"\u001B[39m) \u001B[38;5;28;01mfrom\u001B[39;00m \u001B[38;5;21;01me\u001B[39;00m\n\u001B[0;32m    208\u001B[0m \u001B[38;5;28;01mif\u001B[39;00m \u001B[38;5;28misinstance\u001B[39m(booster, XGBModel):\n\u001B[0;32m    209\u001B[0m     booster \u001B[38;5;241m=\u001B[39m booster\u001B[38;5;241m.\u001B[39mget_booster()\n",
      "\u001B[1;31mImportError\u001B[0m: You must install graphviz to plot tree"
     ]
    },
    {
     "data": {
      "text/plain": [
       "<Figure size 640x480 with 1 Axes>"
      ],
      "image/png": "[encoded data removed]"
     },
     "metadata": {},
     "output_type": "display_data"
    }
   ],
   "execution_count": 11
  },
  {
   "metadata": {},
   "cell_type": "code",
   "source": "",
   "id": "a0c955c9b502115",
   "outputs": [],
   "execution_count": null
  }
 ],
 "metadata": {
  "kernelspec": {
   "display_name": "Python 3",
   "language": "python",
   "name": "python3"
  },
  "language_info": {
   "codemirror_mode": {
    "name": "ipython",
    "version": 2
   },
   "file_extension": ".py",
   "mimetype": "text/x-python",
   "name": "python",
   "nbconvert_exporter": "python",
   "pygments_lexer": "ipython2",
   "version": "2.7.6"
  }
 },
 "nbformat": 4,
 "nbformat_minor": 5
}
