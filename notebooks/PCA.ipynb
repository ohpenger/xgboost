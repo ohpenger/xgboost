{
 "cells": [
  {
   "cell_type": "code",
   "id": "initial_id",
   "metadata": {
    "collapsed": true,
    "ExecuteTime": {
     "end_time": "2024-10-02T03:53:05.409935Z",
     "start_time": "2024-10-02T03:53:05.404936Z"
    }
   },
   "source": [
    "import numpy as np\n",
    "import pandas as pd\n",
    "import matplotlib.pyplot as plt\n",
    "import xgboost as xgb\n",
    "from sklearn.model_selection import train_test_split\n",
    "from sklearn import datasets\n",
    "from sklearn.decomposition import PCA\n",
    "import time\n",
    "from sklearn import metrics"
   ],
   "outputs": [],
   "execution_count": 14
  },
  {
   "metadata": {
    "ExecuteTime": {
     "end_time": "2024-10-02T03:14:48.101788Z",
     "start_time": "2024-10-02T03:14:48.014016Z"
    }
   },
   "cell_type": "code",
   "source": [
    "lfw_people = datasets.fetch_lfw_people(min_faces_per_person=70, resize=0.4)\n",
    "X = lfw_people.data\n",
    "y = lfw_people.target\n",
    "\n",
    "num_samples = X.shape[0]\n",
    "num_features = X.shape[1]\n",
    "target_names = lfw_people.target_names\n",
    "num_classes = target_names.shape[0]\n",
    "\n",
    "print(f'Number of samples: {num_samples}')\n",
    "print(f'Number of features: {num_features}')\n",
    "print(f'target names: {target_names}')\n",
    "print(f'Number of classes: {num_classes}')"
   ],
   "id": "57f12602048ec16a",
   "outputs": [
    {
     "name": "stdout",
     "output_type": "stream",
     "text": [
      "Number of samples: 1288\n",
      "Number of features: 1850\n",
      "target names: ['Ariel Sharon' 'Colin Powell' 'Donald Rumsfeld' 'George W Bush'\n",
      " 'Gerhard Schroeder' 'Hugo Chavez' 'Tony Blair']\n",
      "Number of classes: 7\n"
     ]
    }
   ],
   "execution_count": 2
  },
  {
   "metadata": {
    "ExecuteTime": {
     "end_time": "2024-10-02T03:14:50.351322Z",
     "start_time": "2024-10-02T03:14:49.952799Z"
    }
   },
   "cell_type": "code",
   "source": [
    "X_train, X_test, y_train, y_test = train_test_split(X, y, test_size=0.25, random_state=24)\n",
    "n_components = 200\n",
    "pca = PCA(n_components=n_components).fit(X_train)\n",
    "X_train_pca = pca.transform(X_train)\n",
    "X_test_pca = pca.transform(X_test)\n"
   ],
   "id": "71507bc30a9f0bf5",
   "outputs": [],
   "execution_count": 3
  },
  {
   "metadata": {
    "ExecuteTime": {
     "end_time": "2024-10-02T03:54:59.914752Z",
     "start_time": "2024-10-02T03:54:45.325505Z"
    }
   },
   "cell_type": "code",
   "source": [
    "params = {'objective': 'multi:softmax',\n",
    "          'eval_metric': 'mlogloss',\n",
    "          'num_class': num_classes,\n",
    "          'n_estimators': 50,\n",
    "          'booster': 'gbtree',\n",
    "          'nthread': -1,\n",
    "          'eta': 0.1,\n",
    "          'gamma': 0,\n",
    "          'max_depth': 6,\n",
    "          'min_child_weight': 1,\n",
    "          'subsample': 0.9,\n",
    "          'colsample_bytree': 0.8,}\n",
    "model_original = xgb.sklearn.XGBClassifier(**params)\n",
    "t = time.time()\n",
    "model_original.fit(X_train, y_train,eval_set=[(X_train, y_train)], verbose=True)\n",
    "print(f'Training time before performing PCA: {time.time() - t:.2f} seconds')\n",
    "y_pred = model_original.predict(X_test)\n",
    "print(metrics.classification_report(y_test, y_pred,target_names=target_names))"
   ],
   "id": "f6a26723818bca72",
   "outputs": [
    {
     "name": "stdout",
     "output_type": "stream",
     "text": [
      "[0]\tvalidation_0-mlogloss:1.73093\n",
      "[1]\tvalidation_0-mlogloss:1.55367\n",
      "[2]\tvalidation_0-mlogloss:1.40094\n",
      "[3]\tvalidation_0-mlogloss:1.27297\n",
      "[4]\tvalidation_0-mlogloss:1.16054\n",
      "[5]\tvalidation_0-mlogloss:1.06282\n",
      "[6]\tvalidation_0-mlogloss:0.97411\n",
      "[7]\tvalidation_0-mlogloss:0.89331\n",
      "[8]\tvalidation_0-mlogloss:0.82055\n",
      "[9]\tvalidation_0-mlogloss:0.75577\n",
      "[10]\tvalidation_0-mlogloss:0.69694\n",
      "[11]\tvalidation_0-mlogloss:0.64377\n",
      "[12]\tvalidation_0-mlogloss:0.59633\n",
      "[13]\tvalidation_0-mlogloss:0.55242\n",
      "[14]\tvalidation_0-mlogloss:0.51255\n",
      "[15]\tvalidation_0-mlogloss:0.47620\n",
      "[16]\tvalidation_0-mlogloss:0.44223\n",
      "[17]\tvalidation_0-mlogloss:0.41183\n",
      "[18]\tvalidation_0-mlogloss:0.38481\n",
      "[19]\tvalidation_0-mlogloss:0.35875\n",
      "[20]\tvalidation_0-mlogloss:0.33524\n",
      "[21]\tvalidation_0-mlogloss:0.31316\n",
      "[22]\tvalidation_0-mlogloss:0.29242\n",
      "[23]\tvalidation_0-mlogloss:0.27347\n",
      "[24]\tvalidation_0-mlogloss:0.25652\n",
      "[25]\tvalidation_0-mlogloss:0.24039\n",
      "[26]\tvalidation_0-mlogloss:0.22551\n",
      "[27]\tvalidation_0-mlogloss:0.21158\n",
      "[28]\tvalidation_0-mlogloss:0.19886\n",
      "[29]\tvalidation_0-mlogloss:0.18757\n",
      "[30]\tvalidation_0-mlogloss:0.17639\n",
      "[31]\tvalidation_0-mlogloss:0.16625\n",
      "[32]\tvalidation_0-mlogloss:0.15700\n",
      "[33]\tvalidation_0-mlogloss:0.14852\n",
      "[34]\tvalidation_0-mlogloss:0.14018\n",
      "[35]\tvalidation_0-mlogloss:0.13246\n",
      "[36]\tvalidation_0-mlogloss:0.12526\n",
      "[37]\tvalidation_0-mlogloss:0.11868\n",
      "[38]\tvalidation_0-mlogloss:0.11262\n",
      "[39]\tvalidation_0-mlogloss:0.10695\n",
      "[40]\tvalidation_0-mlogloss:0.10160\n",
      "[41]\tvalidation_0-mlogloss:0.09656\n",
      "[42]\tvalidation_0-mlogloss:0.09203\n",
      "[43]\tvalidation_0-mlogloss:0.08769\n",
      "[44]\tvalidation_0-mlogloss:0.08361\n",
      "[45]\tvalidation_0-mlogloss:0.08004\n",
      "[46]\tvalidation_0-mlogloss:0.07645\n",
      "[47]\tvalidation_0-mlogloss:0.07309\n",
      "[48]\tvalidation_0-mlogloss:0.07000\n",
      "[49]\tvalidation_0-mlogloss:0.06698\n",
      "Training time before performing PCA: 14.57 seconds\n",
      "                   precision    recall  f1-score   support\n",
      "\n",
      "     Ariel Sharon       0.70      0.70      0.70        10\n",
      "     Colin Powell       0.68      0.73      0.71        56\n",
      "  Donald Rumsfeld       0.82      0.38      0.52        37\n",
      "    George W Bush       0.70      0.94      0.80       132\n",
      "Gerhard Schroeder       0.58      0.41      0.48        27\n",
      "      Hugo Chavez       0.75      0.67      0.71        18\n",
      "       Tony Blair       0.95      0.50      0.66        42\n",
      "\n",
      "         accuracy                           0.71       322\n",
      "        macro avg       0.74      0.62      0.65       322\n",
      "     weighted avg       0.74      0.71      0.70       322\n",
      "\n"
     ]
    }
   ],
   "execution_count": 16
  },
  {
   "metadata": {
    "ExecuteTime": {
     "end_time": "2024-10-02T03:55:08.923368Z",
     "start_time": "2024-10-02T03:55:06.824399Z"
    }
   },
   "cell_type": "code",
   "source": [
    "t = time.time()\n",
    "model_original.fit(X_train_pca, y_train,eval_set=[(X_train_pca, y_train)], verbose=True)\n",
    "print(f'Training time after performing PCA: {time.time() - t:.2f} seconds')\n",
    "y_pred = model_original.predict(X_test_pca)\n",
    "print(metrics.classification_report(y_test, y_pred, target_names=target_names))"
   ],
   "id": "4fb6131363ca830d",
   "outputs": [
    {
     "name": "stdout",
     "output_type": "stream",
     "text": [
      "[0]\tvalidation_0-mlogloss:1.75716\n",
      "[1]\tvalidation_0-mlogloss:1.59657\n",
      "[2]\tvalidation_0-mlogloss:1.46392\n",
      "[3]\tvalidation_0-mlogloss:1.34017\n",
      "[4]\tvalidation_0-mlogloss:1.23517\n",
      "[5]\tvalidation_0-mlogloss:1.14045\n",
      "[6]\tvalidation_0-mlogloss:1.05204\n",
      "[7]\tvalidation_0-mlogloss:0.97258\n",
      "[8]\tvalidation_0-mlogloss:0.90574\n",
      "[9]\tvalidation_0-mlogloss:0.84310\n",
      "[10]\tvalidation_0-mlogloss:0.78494\n",
      "[11]\tvalidation_0-mlogloss:0.73133\n",
      "[12]\tvalidation_0-mlogloss:0.68074\n",
      "[13]\tvalidation_0-mlogloss:0.63400\n",
      "[14]\tvalidation_0-mlogloss:0.59335\n",
      "[15]\tvalidation_0-mlogloss:0.55519\n",
      "[16]\tvalidation_0-mlogloss:0.52022\n",
      "[17]\tvalidation_0-mlogloss:0.48761\n",
      "[18]\tvalidation_0-mlogloss:0.45759\n",
      "[19]\tvalidation_0-mlogloss:0.42852\n",
      "[20]\tvalidation_0-mlogloss:0.40228\n",
      "[21]\tvalidation_0-mlogloss:0.37860\n",
      "[22]\tvalidation_0-mlogloss:0.35528\n",
      "[23]\tvalidation_0-mlogloss:0.33462\n",
      "[24]\tvalidation_0-mlogloss:0.31535\n",
      "[25]\tvalidation_0-mlogloss:0.29804\n",
      "[26]\tvalidation_0-mlogloss:0.28152\n",
      "[27]\tvalidation_0-mlogloss:0.26587\n",
      "[28]\tvalidation_0-mlogloss:0.25146\n",
      "[29]\tvalidation_0-mlogloss:0.23737\n",
      "[30]\tvalidation_0-mlogloss:0.22502\n",
      "[31]\tvalidation_0-mlogloss:0.21276\n",
      "[32]\tvalidation_0-mlogloss:0.20148\n",
      "[33]\tvalidation_0-mlogloss:0.19137\n",
      "[34]\tvalidation_0-mlogloss:0.18177\n",
      "[35]\tvalidation_0-mlogloss:0.17276\n",
      "[36]\tvalidation_0-mlogloss:0.16420\n",
      "[37]\tvalidation_0-mlogloss:0.15654\n",
      "[38]\tvalidation_0-mlogloss:0.14907\n",
      "[39]\tvalidation_0-mlogloss:0.14234\n",
      "[40]\tvalidation_0-mlogloss:0.13591\n",
      "[41]\tvalidation_0-mlogloss:0.12963\n",
      "[42]\tvalidation_0-mlogloss:0.12403\n",
      "[43]\tvalidation_0-mlogloss:0.11848\n",
      "[44]\tvalidation_0-mlogloss:0.11335\n",
      "[45]\tvalidation_0-mlogloss:0.10864\n",
      "[46]\tvalidation_0-mlogloss:0.10397\n",
      "[47]\tvalidation_0-mlogloss:0.09961\n",
      "[48]\tvalidation_0-mlogloss:0.09549\n",
      "[49]\tvalidation_0-mlogloss:0.09186\n",
      "Training time after performing PCA: 2.08 seconds\n",
      "                   precision    recall  f1-score   support\n",
      "\n",
      "     Ariel Sharon       0.50      0.30      0.38        10\n",
      "     Colin Powell       0.78      0.62      0.69        56\n",
      "  Donald Rumsfeld       0.83      0.41      0.55        37\n",
      "    George W Bush       0.62      0.95      0.75       132\n",
      "Gerhard Schroeder       0.70      0.59      0.64        27\n",
      "      Hugo Chavez       1.00      0.28      0.43        18\n",
      "       Tony Blair       0.72      0.43      0.54        42\n",
      "\n",
      "         accuracy                           0.67       322\n",
      "        macro avg       0.74      0.51      0.57       322\n",
      "     weighted avg       0.71      0.67      0.65       322\n",
      "\n"
     ]
    }
   ],
   "execution_count": 17
  },
  {
   "metadata": {},
   "cell_type": "code",
   "outputs": [],
   "execution_count": null,
   "source": "",
   "id": "9878d4dac6436801"
  }
 ],
 "metadata": {
  "kernelspec": {
   "display_name": "Python 3",
   "language": "python",
   "name": "python3"
  },
  "language_info": {
   "codemirror_mode": {
    "name": "ipython",
    "version": 2
   },
   "file_extension": ".py",
   "mimetype": "text/x-python",
   "name": "python",
   "nbconvert_exporter": "python",
   "pygments_lexer": "ipython2",
   "version": "2.7.6"
  }
 },
 "nbformat": 4,
 "nbformat_minor": 5
}
