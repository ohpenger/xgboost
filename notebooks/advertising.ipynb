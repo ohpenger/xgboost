{
 "cells": [
  {
   "cell_type": "code",
   "id": "initial_id",
   "metadata": {
    "collapsed": true,
    "ExecuteTime": {
     "end_time": "2024-10-04T01:57:23.723834Z",
     "start_time": "2024-10-04T01:57:23.708785Z"
    }
   },
   "source": [
    "import pandas as pd\n",
    "import numpy as np\n",
    "import matplotlib.pyplot as plt\n",
    "import seaborn as sns\n",
    "from sklearn import datasets\n",
    "from sklearn import metrics\n",
    "from sklearn import model_selection\n",
    "import xgboost as xgb\n",
    "from bayes_opt import BayesianOptimization"
   ],
   "outputs": [],
   "execution_count": 2
  },
  {
   "metadata": {
    "ExecuteTime": {
     "end_time": "2024-10-04T01:57:24.055541Z",
     "start_time": "2024-10-04T01:57:23.745886Z"
    }
   },
   "cell_type": "code",
   "source": [
    "data = pd.read_csv('../data/advertisements/ad.data', header=None, on_bad_lines='skip')\n",
    "data.head(10)"
   ],
   "id": "b0c7292305b8b3d2",
   "outputs": [
    {
     "name": "stderr",
     "output_type": "stream",
     "text": [
      "C:\\Users\\zippen\\AppData\\Local\\Temp\\ipykernel_13428\\3798430458.py:1: DtypeWarning: Columns (3) have mixed types. Specify dtype option on import or set low_memory=False.\n",
      "  data = pd.read_csv('../data/advertisements/ad.data', header=None, on_bad_lines='skip')\n"
     ]
    },
    {
     "data": {
      "text/plain": [
       "   0     1       2    3     4     5     6     7     8     9     ...  1549  \\\n",
       "0   125   125     1.0    1     0     0     0     0     0     0  ...     0   \n",
       "1    57   468  8.2105    1     0     0     0     0     0     0  ...     0   \n",
       "2    33   230  6.9696    1     0     0     0     0     0     0  ...     0   \n",
       "3    60   468     7.8    1     0     0     0     0     0     0  ...     0   \n",
       "4    60   468     7.8    1     0     0     0     0     0     0  ...     0   \n",
       "5    60   468     7.8    1     0     0     0     0     0     0  ...     0   \n",
       "6    59   460  7.7966    1     0     0     0     0     0     0  ...     0   \n",
       "7    60   234     3.9    1     0     0     0     0     0     0  ...     0   \n",
       "8    60   468     7.8    1     0     0     0     0     0     0  ...     0   \n",
       "9    60   468     7.8    1     0     0     0     0     0     0  ...     0   \n",
       "\n",
       "   1550  1551  1552  1553  1554  1555  1556  1557  1558  \n",
       "0     0     0     0     0     0     0     0     0   ad.  \n",
       "1     0     0     0     0     0     0     0     0   ad.  \n",
       "2     0     0     0     0     0     0     0     0   ad.  \n",
       "3     0     0     0     0     0     0     0     0   ad.  \n",
       "4     0     0     0     0     0     0     0     0   ad.  \n",
       "5     0     0     0     0     0     0     0     0   ad.  \n",
       "6     0     0     0     0     0     0     0     0   ad.  \n",
       "7     0     0     0     0     0     0     0     0   ad.  \n",
       "8     0     0     0     0     0     0     0     0   ad.  \n",
       "9     0     0     0     0     0     0     0     0   ad.  \n",
       "\n",
       "[10 rows x 1559 columns]"
      ],
      "text/html": [
       "<div>\n",
       "<style scoped>\n",
       "    .dataframe tbody tr th:only-of-type {\n",
       "        vertical-align: middle;\n",
       "    }\n",
       "\n",
       "    .dataframe tbody tr th {\n",
       "        vertical-align: top;\n",
       "    }\n",
       "\n",
       "    .dataframe thead th {\n",
       "        text-align: right;\n",
       "    }\n",
       "</style>\n",
       "<table border=\"1\" class=\"dataframe\">\n",
       "  <thead>\n",
       "    <tr style=\"text-align: right;\">\n",
       "      <th></th>\n",
       "      <th>0</th>\n",
       "      <th>1</th>\n",
       "      <th>2</th>\n",
       "      <th>3</th>\n",
       "      <th>4</th>\n",
       "      <th>5</th>\n",
       "      <th>6</th>\n",
       "      <th>7</th>\n",
       "      <th>8</th>\n",
       "      <th>9</th>\n",
       "      <th>...</th>\n",
       "      <th>1549</th>\n",
       "      <th>1550</th>\n",
       "      <th>1551</th>\n",
       "      <th>1552</th>\n",
       "      <th>1553</th>\n",
       "      <th>1554</th>\n",
       "      <th>1555</th>\n",
       "      <th>1556</th>\n",
       "      <th>1557</th>\n",
       "      <th>1558</th>\n",
       "    </tr>\n",
       "  </thead>\n",
       "  <tbody>\n",
       "    <tr>\n",
       "      <th>0</th>\n",
       "      <td>125</td>\n",
       "      <td>125</td>\n",
       "      <td>1.0</td>\n",
       "      <td>1</td>\n",
       "      <td>0</td>\n",
       "      <td>0</td>\n",
       "      <td>0</td>\n",
       "      <td>0</td>\n",
       "      <td>0</td>\n",
       "      <td>0</td>\n",
       "      <td>...</td>\n",
       "      <td>0</td>\n",
       "      <td>0</td>\n",
       "      <td>0</td>\n",
       "      <td>0</td>\n",
       "      <td>0</td>\n",
       "      <td>0</td>\n",
       "      <td>0</td>\n",
       "      <td>0</td>\n",
       "      <td>0</td>\n",
       "      <td>ad.</td>\n",
       "    </tr>\n",
       "    <tr>\n",
       "      <th>1</th>\n",
       "      <td>57</td>\n",
       "      <td>468</td>\n",
       "      <td>8.2105</td>\n",
       "      <td>1</td>\n",
       "      <td>0</td>\n",
       "      <td>0</td>\n",
       "      <td>0</td>\n",
       "      <td>0</td>\n",
       "      <td>0</td>\n",
       "      <td>0</td>\n",
       "      <td>...</td>\n",
       "      <td>0</td>\n",
       "      <td>0</td>\n",
       "      <td>0</td>\n",
       "      <td>0</td>\n",
       "      <td>0</td>\n",
       "      <td>0</td>\n",
       "      <td>0</td>\n",
       "      <td>0</td>\n",
       "      <td>0</td>\n",
       "      <td>ad.</td>\n",
       "    </tr>\n",
       "    <tr>\n",
       "      <th>2</th>\n",
       "      <td>33</td>\n",
       "      <td>230</td>\n",
       "      <td>6.9696</td>\n",
       "      <td>1</td>\n",
       "      <td>0</td>\n",
       "      <td>0</td>\n",
       "      <td>0</td>\n",
       "      <td>0</td>\n",
       "      <td>0</td>\n",
       "      <td>0</td>\n",
       "      <td>...</td>\n",
       "      <td>0</td>\n",
       "      <td>0</td>\n",
       "      <td>0</td>\n",
       "      <td>0</td>\n",
       "      <td>0</td>\n",
       "      <td>0</td>\n",
       "      <td>0</td>\n",
       "      <td>0</td>\n",
       "      <td>0</td>\n",
       "      <td>ad.</td>\n",
       "    </tr>\n",
       "    <tr>\n",
       "      <th>3</th>\n",
       "      <td>60</td>\n",
       "      <td>468</td>\n",
       "      <td>7.8</td>\n",
       "      <td>1</td>\n",
       "      <td>0</td>\n",
       "      <td>0</td>\n",
       "      <td>0</td>\n",
       "      <td>0</td>\n",
       "      <td>0</td>\n",
       "      <td>0</td>\n",
       "      <td>...</td>\n",
       "      <td>0</td>\n",
       "      <td>0</td>\n",
       "      <td>0</td>\n",
       "      <td>0</td>\n",
       "      <td>0</td>\n",
       "      <td>0</td>\n",
       "      <td>0</td>\n",
       "      <td>0</td>\n",
       "      <td>0</td>\n",
       "      <td>ad.</td>\n",
       "    </tr>\n",
       "    <tr>\n",
       "      <th>4</th>\n",
       "      <td>60</td>\n",
       "      <td>468</td>\n",
       "      <td>7.8</td>\n",
       "      <td>1</td>\n",
       "      <td>0</td>\n",
       "      <td>0</td>\n",
       "      <td>0</td>\n",
       "      <td>0</td>\n",
       "      <td>0</td>\n",
       "      <td>0</td>\n",
       "      <td>...</td>\n",
       "      <td>0</td>\n",
       "      <td>0</td>\n",
       "      <td>0</td>\n",
       "      <td>0</td>\n",
       "      <td>0</td>\n",
       "      <td>0</td>\n",
       "      <td>0</td>\n",
       "      <td>0</td>\n",
       "      <td>0</td>\n",
       "      <td>ad.</td>\n",
       "    </tr>\n",
       "    <tr>\n",
       "      <th>5</th>\n",
       "      <td>60</td>\n",
       "      <td>468</td>\n",
       "      <td>7.8</td>\n",
       "      <td>1</td>\n",
       "      <td>0</td>\n",
       "      <td>0</td>\n",
       "      <td>0</td>\n",
       "      <td>0</td>\n",
       "      <td>0</td>\n",
       "      <td>0</td>\n",
       "      <td>...</td>\n",
       "      <td>0</td>\n",
       "      <td>0</td>\n",
       "      <td>0</td>\n",
       "      <td>0</td>\n",
       "      <td>0</td>\n",
       "      <td>0</td>\n",
       "      <td>0</td>\n",
       "      <td>0</td>\n",
       "      <td>0</td>\n",
       "      <td>ad.</td>\n",
       "    </tr>\n",
       "    <tr>\n",
       "      <th>6</th>\n",
       "      <td>59</td>\n",
       "      <td>460</td>\n",
       "      <td>7.7966</td>\n",
       "      <td>1</td>\n",
       "      <td>0</td>\n",
       "      <td>0</td>\n",
       "      <td>0</td>\n",
       "      <td>0</td>\n",
       "      <td>0</td>\n",
       "      <td>0</td>\n",
       "      <td>...</td>\n",
       "      <td>0</td>\n",
       "      <td>0</td>\n",
       "      <td>0</td>\n",
       "      <td>0</td>\n",
       "      <td>0</td>\n",
       "      <td>0</td>\n",
       "      <td>0</td>\n",
       "      <td>0</td>\n",
       "      <td>0</td>\n",
       "      <td>ad.</td>\n",
       "    </tr>\n",
       "    <tr>\n",
       "      <th>7</th>\n",
       "      <td>60</td>\n",
       "      <td>234</td>\n",
       "      <td>3.9</td>\n",
       "      <td>1</td>\n",
       "      <td>0</td>\n",
       "      <td>0</td>\n",
       "      <td>0</td>\n",
       "      <td>0</td>\n",
       "      <td>0</td>\n",
       "      <td>0</td>\n",
       "      <td>...</td>\n",
       "      <td>0</td>\n",
       "      <td>0</td>\n",
       "      <td>0</td>\n",
       "      <td>0</td>\n",
       "      <td>0</td>\n",
       "      <td>0</td>\n",
       "      <td>0</td>\n",
       "      <td>0</td>\n",
       "      <td>0</td>\n",
       "      <td>ad.</td>\n",
       "    </tr>\n",
       "    <tr>\n",
       "      <th>8</th>\n",
       "      <td>60</td>\n",
       "      <td>468</td>\n",
       "      <td>7.8</td>\n",
       "      <td>1</td>\n",
       "      <td>0</td>\n",
       "      <td>0</td>\n",
       "      <td>0</td>\n",
       "      <td>0</td>\n",
       "      <td>0</td>\n",
       "      <td>0</td>\n",
       "      <td>...</td>\n",
       "      <td>0</td>\n",
       "      <td>0</td>\n",
       "      <td>0</td>\n",
       "      <td>0</td>\n",
       "      <td>0</td>\n",
       "      <td>0</td>\n",
       "      <td>0</td>\n",
       "      <td>0</td>\n",
       "      <td>0</td>\n",
       "      <td>ad.</td>\n",
       "    </tr>\n",
       "    <tr>\n",
       "      <th>9</th>\n",
       "      <td>60</td>\n",
       "      <td>468</td>\n",
       "      <td>7.8</td>\n",
       "      <td>1</td>\n",
       "      <td>0</td>\n",
       "      <td>0</td>\n",
       "      <td>0</td>\n",
       "      <td>0</td>\n",
       "      <td>0</td>\n",
       "      <td>0</td>\n",
       "      <td>...</td>\n",
       "      <td>0</td>\n",
       "      <td>0</td>\n",
       "      <td>0</td>\n",
       "      <td>0</td>\n",
       "      <td>0</td>\n",
       "      <td>0</td>\n",
       "      <td>0</td>\n",
       "      <td>0</td>\n",
       "      <td>0</td>\n",
       "      <td>ad.</td>\n",
       "    </tr>\n",
       "  </tbody>\n",
       "</table>\n",
       "<p>10 rows × 1559 columns</p>\n",
       "</div>"
      ]
     },
     "execution_count": 3,
     "metadata": {},
     "output_type": "execute_result"
    }
   ],
   "execution_count": 3
  },
  {
   "metadata": {
    "ExecuteTime": {
     "end_time": "2024-10-04T01:57:24.070857Z",
     "start_time": "2024-10-04T01:57:24.057026Z"
    }
   },
   "cell_type": "code",
   "source": [
    "data.rename(columns={0:'height', 1: 'width', 2: 'ratio(width/height)',1558: 'label'}, inplace=True)\n",
    "data.head()"
   ],
   "id": "39f2771d7b83f79c",
   "outputs": [
    {
     "data": {
      "text/plain": [
       "  height width ratio(width/height)  3  4  5  6  7  8  9  ...  1549  1550  \\\n",
       "0    125   125                 1.0  1  0  0  0  0  0  0  ...     0     0   \n",
       "1     57   468              8.2105  1  0  0  0  0  0  0  ...     0     0   \n",
       "2     33   230              6.9696  1  0  0  0  0  0  0  ...     0     0   \n",
       "3     60   468                 7.8  1  0  0  0  0  0  0  ...     0     0   \n",
       "4     60   468                 7.8  1  0  0  0  0  0  0  ...     0     0   \n",
       "\n",
       "   1551  1552  1553  1554  1555  1556  1557  label  \n",
       "0     0     0     0     0     0     0     0    ad.  \n",
       "1     0     0     0     0     0     0     0    ad.  \n",
       "2     0     0     0     0     0     0     0    ad.  \n",
       "3     0     0     0     0     0     0     0    ad.  \n",
       "4     0     0     0     0     0     0     0    ad.  \n",
       "\n",
       "[5 rows x 1559 columns]"
      ],
      "text/html": [
       "<div>\n",
       "<style scoped>\n",
       "    .dataframe tbody tr th:only-of-type {\n",
       "        vertical-align: middle;\n",
       "    }\n",
       "\n",
       "    .dataframe tbody tr th {\n",
       "        vertical-align: top;\n",
       "    }\n",
       "\n",
       "    .dataframe thead th {\n",
       "        text-align: right;\n",
       "    }\n",
       "</style>\n",
       "<table border=\"1\" class=\"dataframe\">\n",
       "  <thead>\n",
       "    <tr style=\"text-align: right;\">\n",
       "      <th></th>\n",
       "      <th>height</th>\n",
       "      <th>width</th>\n",
       "      <th>ratio(width/height)</th>\n",
       "      <th>3</th>\n",
       "      <th>4</th>\n",
       "      <th>5</th>\n",
       "      <th>6</th>\n",
       "      <th>7</th>\n",
       "      <th>8</th>\n",
       "      <th>9</th>\n",
       "      <th>...</th>\n",
       "      <th>1549</th>\n",
       "      <th>1550</th>\n",
       "      <th>1551</th>\n",
       "      <th>1552</th>\n",
       "      <th>1553</th>\n",
       "      <th>1554</th>\n",
       "      <th>1555</th>\n",
       "      <th>1556</th>\n",
       "      <th>1557</th>\n",
       "      <th>label</th>\n",
       "    </tr>\n",
       "  </thead>\n",
       "  <tbody>\n",
       "    <tr>\n",
       "      <th>0</th>\n",
       "      <td>125</td>\n",
       "      <td>125</td>\n",
       "      <td>1.0</td>\n",
       "      <td>1</td>\n",
       "      <td>0</td>\n",
       "      <td>0</td>\n",
       "      <td>0</td>\n",
       "      <td>0</td>\n",
       "      <td>0</td>\n",
       "      <td>0</td>\n",
       "      <td>...</td>\n",
       "      <td>0</td>\n",
       "      <td>0</td>\n",
       "      <td>0</td>\n",
       "      <td>0</td>\n",
       "      <td>0</td>\n",
       "      <td>0</td>\n",
       "      <td>0</td>\n",
       "      <td>0</td>\n",
       "      <td>0</td>\n",
       "      <td>ad.</td>\n",
       "    </tr>\n",
       "    <tr>\n",
       "      <th>1</th>\n",
       "      <td>57</td>\n",
       "      <td>468</td>\n",
       "      <td>8.2105</td>\n",
       "      <td>1</td>\n",
       "      <td>0</td>\n",
       "      <td>0</td>\n",
       "      <td>0</td>\n",
       "      <td>0</td>\n",
       "      <td>0</td>\n",
       "      <td>0</td>\n",
       "      <td>...</td>\n",
       "      <td>0</td>\n",
       "      <td>0</td>\n",
       "      <td>0</td>\n",
       "      <td>0</td>\n",
       "      <td>0</td>\n",
       "      <td>0</td>\n",
       "      <td>0</td>\n",
       "      <td>0</td>\n",
       "      <td>0</td>\n",
       "      <td>ad.</td>\n",
       "    </tr>\n",
       "    <tr>\n",
       "      <th>2</th>\n",
       "      <td>33</td>\n",
       "      <td>230</td>\n",
       "      <td>6.9696</td>\n",
       "      <td>1</td>\n",
       "      <td>0</td>\n",
       "      <td>0</td>\n",
       "      <td>0</td>\n",
       "      <td>0</td>\n",
       "      <td>0</td>\n",
       "      <td>0</td>\n",
       "      <td>...</td>\n",
       "      <td>0</td>\n",
       "      <td>0</td>\n",
       "      <td>0</td>\n",
       "      <td>0</td>\n",
       "      <td>0</td>\n",
       "      <td>0</td>\n",
       "      <td>0</td>\n",
       "      <td>0</td>\n",
       "      <td>0</td>\n",
       "      <td>ad.</td>\n",
       "    </tr>\n",
       "    <tr>\n",
       "      <th>3</th>\n",
       "      <td>60</td>\n",
       "      <td>468</td>\n",
       "      <td>7.8</td>\n",
       "      <td>1</td>\n",
       "      <td>0</td>\n",
       "      <td>0</td>\n",
       "      <td>0</td>\n",
       "      <td>0</td>\n",
       "      <td>0</td>\n",
       "      <td>0</td>\n",
       "      <td>...</td>\n",
       "      <td>0</td>\n",
       "      <td>0</td>\n",
       "      <td>0</td>\n",
       "      <td>0</td>\n",
       "      <td>0</td>\n",
       "      <td>0</td>\n",
       "      <td>0</td>\n",
       "      <td>0</td>\n",
       "      <td>0</td>\n",
       "      <td>ad.</td>\n",
       "    </tr>\n",
       "    <tr>\n",
       "      <th>4</th>\n",
       "      <td>60</td>\n",
       "      <td>468</td>\n",
       "      <td>7.8</td>\n",
       "      <td>1</td>\n",
       "      <td>0</td>\n",
       "      <td>0</td>\n",
       "      <td>0</td>\n",
       "      <td>0</td>\n",
       "      <td>0</td>\n",
       "      <td>0</td>\n",
       "      <td>...</td>\n",
       "      <td>0</td>\n",
       "      <td>0</td>\n",
       "      <td>0</td>\n",
       "      <td>0</td>\n",
       "      <td>0</td>\n",
       "      <td>0</td>\n",
       "      <td>0</td>\n",
       "      <td>0</td>\n",
       "      <td>0</td>\n",
       "      <td>ad.</td>\n",
       "    </tr>\n",
       "  </tbody>\n",
       "</table>\n",
       "<p>5 rows × 1559 columns</p>\n",
       "</div>"
      ]
     },
     "execution_count": 4,
     "metadata": {},
     "output_type": "execute_result"
    }
   ],
   "execution_count": 4
  },
  {
   "metadata": {
    "ExecuteTime": {
     "end_time": "2024-10-04T01:57:24.133196Z",
     "start_time": "2024-10-04T01:57:24.072278Z"
    }
   },
   "cell_type": "code",
   "source": [
    "data = data.replace('[?]', np.nan, regex=True)\n",
    "data.info()"
   ],
   "id": "324dd2ccfe635797",
   "outputs": [
    {
     "name": "stdout",
     "output_type": "stream",
     "text": [
      "<class 'pandas.core.frame.DataFrame'>\n",
      "RangeIndex: 3279 entries, 0 to 3278\n",
      "Columns: 1559 entries, height to label\n",
      "dtypes: int64(1554), object(5)\n",
      "memory usage: 39.0+ MB\n"
     ]
    }
   ],
   "execution_count": 5
  },
  {
   "metadata": {
    "ExecuteTime": {
     "end_time": "2024-10-04T01:57:24.148825Z",
     "start_time": "2024-10-04T01:57:24.136585Z"
    }
   },
   "cell_type": "code",
   "source": [
    "missing_count = data.isna().sum()\n",
    "missing_count = missing_count[missing_count > 0]\n",
    "print(missing_count[missing_count > 0])"
   ],
   "id": "17e91c19c54ed938",
   "outputs": [
    {
     "name": "stdout",
     "output_type": "stream",
     "text": [
      "height                 903\n",
      "width                  901\n",
      "ratio(width/height)    910\n",
      "3                       15\n",
      "dtype: int64\n"
     ]
    }
   ],
   "execution_count": 6
  },
  {
   "metadata": {
    "ExecuteTime": {
     "end_time": "2024-10-04T01:57:24.164155Z",
     "start_time": "2024-10-04T01:57:24.149831Z"
    }
   },
   "cell_type": "code",
   "source": [
    "null_columns = list(missing_count.index)\n",
    "data.label.value_counts()"
   ],
   "id": "f1c9739493980952",
   "outputs": [
    {
     "data": {
      "text/plain": [
       "label\n",
       "nonad.    2820\n",
       "ad.        459\n",
       "Name: count, dtype: int64"
      ]
     },
     "execution_count": 7,
     "metadata": {},
     "output_type": "execute_result"
    }
   ],
   "execution_count": 7
  },
  {
   "metadata": {
    "ExecuteTime": {
     "end_time": "2024-10-04T01:57:24.180086Z",
     "start_time": "2024-10-04T01:57:24.165658Z"
    }
   },
   "cell_type": "code",
   "source": "data[null_columns]  = data[null_columns].astype('float')",
   "id": "2c19b930e3620a2b",
   "outputs": [],
   "execution_count": 8
  },
  {
   "metadata": {
    "ExecuteTime": {
     "end_time": "2024-10-04T01:57:24.196080Z",
     "start_time": "2024-10-04T01:57:24.181092Z"
    }
   },
   "cell_type": "code",
   "source": [
    "data.label = data.label.replace(['ad.','nonad.'],[1,0])\n",
    "data.label.value_counts()"
   ],
   "id": "9a6de51fc952d075",
   "outputs": [
    {
     "name": "stderr",
     "output_type": "stream",
     "text": [
      "C:\\Users\\zippen\\AppData\\Local\\Temp\\ipykernel_13428\\1815249773.py:1: FutureWarning: Downcasting behavior in `replace` is deprecated and will be removed in a future version. To retain the old behavior, explicitly call `result.infer_objects(copy=False)`. To opt-in to the future behavior, set `pd.set_option('future.no_silent_downcasting', True)`\n",
      "  data.label = data.label.replace(['ad.','nonad.'],[1,0])\n"
     ]
    },
    {
     "data": {
      "text/plain": [
       "label\n",
       "0    2820\n",
       "1     459\n",
       "Name: count, dtype: int64"
      ]
     },
     "execution_count": 9,
     "metadata": {},
     "output_type": "execute_result"
    }
   ],
   "execution_count": 9
  },
  {
   "metadata": {
    "ExecuteTime": {
     "end_time": "2024-10-04T01:57:25.698962Z",
     "start_time": "2024-10-04T01:57:24.197347Z"
    }
   },
   "cell_type": "code",
   "source": [
    "y = data.label\n",
    "X = data.drop(columns='label')\n",
    "X_train, X_test, y_train, y_test = model_selection.train_test_split(X, y, test_size=0.25, random_state=24)\n",
    "X_train.describe()"
   ],
   "id": "8fbe27d3587faccc",
   "outputs": [
    {
     "data": {
      "text/plain": [
       "            height        width  ratio(width/height)            3  \\\n",
       "count  1782.000000  1786.000000          1779.000000  2448.000000   \n",
       "mean     64.317059   156.138298             3.864639     0.773284   \n",
       "std      55.498293   129.374290             5.724463     0.418793   \n",
       "min       1.000000     1.000000             0.001500     0.000000   \n",
       "25%      25.000000    82.250000             1.039050     1.000000   \n",
       "50%      51.000000   110.000000             2.140000     1.000000   \n",
       "75%      85.750000   195.500000             5.333300     1.000000   \n",
       "max     640.000000   640.000000            60.000000     1.000000   \n",
       "\n",
       "                 4            5           6            7            8  \\\n",
       "count  2459.000000  2459.000000  2459.00000  2459.000000  2459.000000   \n",
       "mean      0.005287     0.011387     0.00366     0.004067     0.004067   \n",
       "std       0.072532     0.106121     0.06040     0.063654     0.063654   \n",
       "min       0.000000     0.000000     0.00000     0.000000     0.000000   \n",
       "25%       0.000000     0.000000     0.00000     0.000000     0.000000   \n",
       "50%       0.000000     0.000000     0.00000     0.000000     0.000000   \n",
       "75%       0.000000     0.000000     0.00000     0.000000     0.000000   \n",
       "max       1.000000     1.000000     1.00000     1.000000     1.000000   \n",
       "\n",
       "                 9  ...        1548         1549         1550         1551  \\\n",
       "count  2459.000000  ...  2459.00000  2459.000000  2459.000000  2459.000000   \n",
       "mean      0.011793  ...     0.00610     0.004473     0.004067     0.002440   \n",
       "std       0.107977  ...     0.07788     0.066747     0.063654     0.049346   \n",
       "min       0.000000  ...     0.00000     0.000000     0.000000     0.000000   \n",
       "25%       0.000000  ...     0.00000     0.000000     0.000000     0.000000   \n",
       "50%       0.000000  ...     0.00000     0.000000     0.000000     0.000000   \n",
       "75%       0.000000  ...     0.00000     0.000000     0.000000     0.000000   \n",
       "max       1.000000  ...     1.00000     1.000000     1.000000     1.000000   \n",
       "\n",
       "             1552         1553         1554         1555         1556  \\\n",
       "count  2459.00000  2459.000000  2459.000000  2459.000000  2459.000000   \n",
       "mean      0.00366     0.005693     0.012607     0.013013     0.010573   \n",
       "std       0.06040     0.075255     0.111592     0.113355     0.102303   \n",
       "min       0.00000     0.000000     0.000000     0.000000     0.000000   \n",
       "25%       0.00000     0.000000     0.000000     0.000000     0.000000   \n",
       "50%       0.00000     0.000000     0.000000     0.000000     0.000000   \n",
       "75%       0.00000     0.000000     0.000000     0.000000     0.000000   \n",
       "max       1.00000     1.000000     1.000000     1.000000     1.000000   \n",
       "\n",
       "              1557  \n",
       "count  2459.000000  \n",
       "mean      0.001220  \n",
       "std       0.034914  \n",
       "min       0.000000  \n",
       "25%       0.000000  \n",
       "50%       0.000000  \n",
       "75%       0.000000  \n",
       "max       1.000000  \n",
       "\n",
       "[8 rows x 1558 columns]"
      ],
      "text/html": [
       "<div>\n",
       "<style scoped>\n",
       "    .dataframe tbody tr th:only-of-type {\n",
       "        vertical-align: middle;\n",
       "    }\n",
       "\n",
       "    .dataframe tbody tr th {\n",
       "        vertical-align: top;\n",
       "    }\n",
       "\n",
       "    .dataframe thead th {\n",
       "        text-align: right;\n",
       "    }\n",
       "</style>\n",
       "<table border=\"1\" class=\"dataframe\">\n",
       "  <thead>\n",
       "    <tr style=\"text-align: right;\">\n",
       "      <th></th>\n",
       "      <th>height</th>\n",
       "      <th>width</th>\n",
       "      <th>ratio(width/height)</th>\n",
       "      <th>3</th>\n",
       "      <th>4</th>\n",
       "      <th>5</th>\n",
       "      <th>6</th>\n",
       "      <th>7</th>\n",
       "      <th>8</th>\n",
       "      <th>9</th>\n",
       "      <th>...</th>\n",
       "      <th>1548</th>\n",
       "      <th>1549</th>\n",
       "      <th>1550</th>\n",
       "      <th>1551</th>\n",
       "      <th>1552</th>\n",
       "      <th>1553</th>\n",
       "      <th>1554</th>\n",
       "      <th>1555</th>\n",
       "      <th>1556</th>\n",
       "      <th>1557</th>\n",
       "    </tr>\n",
       "  </thead>\n",
       "  <tbody>\n",
       "    <tr>\n",
       "      <th>count</th>\n",
       "      <td>1782.000000</td>\n",
       "      <td>1786.000000</td>\n",
       "      <td>1779.000000</td>\n",
       "      <td>2448.000000</td>\n",
       "      <td>2459.000000</td>\n",
       "      <td>2459.000000</td>\n",
       "      <td>2459.00000</td>\n",
       "      <td>2459.000000</td>\n",
       "      <td>2459.000000</td>\n",
       "      <td>2459.000000</td>\n",
       "      <td>...</td>\n",
       "      <td>2459.00000</td>\n",
       "      <td>2459.000000</td>\n",
       "      <td>2459.000000</td>\n",
       "      <td>2459.000000</td>\n",
       "      <td>2459.00000</td>\n",
       "      <td>2459.000000</td>\n",
       "      <td>2459.000000</td>\n",
       "      <td>2459.000000</td>\n",
       "      <td>2459.000000</td>\n",
       "      <td>2459.000000</td>\n",
       "    </tr>\n",
       "    <tr>\n",
       "      <th>mean</th>\n",
       "      <td>64.317059</td>\n",
       "      <td>156.138298</td>\n",
       "      <td>3.864639</td>\n",
       "      <td>0.773284</td>\n",
       "      <td>0.005287</td>\n",
       "      <td>0.011387</td>\n",
       "      <td>0.00366</td>\n",
       "      <td>0.004067</td>\n",
       "      <td>0.004067</td>\n",
       "      <td>0.011793</td>\n",
       "      <td>...</td>\n",
       "      <td>0.00610</td>\n",
       "      <td>0.004473</td>\n",
       "      <td>0.004067</td>\n",
       "      <td>0.002440</td>\n",
       "      <td>0.00366</td>\n",
       "      <td>0.005693</td>\n",
       "      <td>0.012607</td>\n",
       "      <td>0.013013</td>\n",
       "      <td>0.010573</td>\n",
       "      <td>0.001220</td>\n",
       "    </tr>\n",
       "    <tr>\n",
       "      <th>std</th>\n",
       "      <td>55.498293</td>\n",
       "      <td>129.374290</td>\n",
       "      <td>5.724463</td>\n",
       "      <td>0.418793</td>\n",
       "      <td>0.072532</td>\n",
       "      <td>0.106121</td>\n",
       "      <td>0.06040</td>\n",
       "      <td>0.063654</td>\n",
       "      <td>0.063654</td>\n",
       "      <td>0.107977</td>\n",
       "      <td>...</td>\n",
       "      <td>0.07788</td>\n",
       "      <td>0.066747</td>\n",
       "      <td>0.063654</td>\n",
       "      <td>0.049346</td>\n",
       "      <td>0.06040</td>\n",
       "      <td>0.075255</td>\n",
       "      <td>0.111592</td>\n",
       "      <td>0.113355</td>\n",
       "      <td>0.102303</td>\n",
       "      <td>0.034914</td>\n",
       "    </tr>\n",
       "    <tr>\n",
       "      <th>min</th>\n",
       "      <td>1.000000</td>\n",
       "      <td>1.000000</td>\n",
       "      <td>0.001500</td>\n",
       "      <td>0.000000</td>\n",
       "      <td>0.000000</td>\n",
       "      <td>0.000000</td>\n",
       "      <td>0.00000</td>\n",
       "      <td>0.000000</td>\n",
       "      <td>0.000000</td>\n",
       "      <td>0.000000</td>\n",
       "      <td>...</td>\n",
       "      <td>0.00000</td>\n",
       "      <td>0.000000</td>\n",
       "      <td>0.000000</td>\n",
       "      <td>0.000000</td>\n",
       "      <td>0.00000</td>\n",
       "      <td>0.000000</td>\n",
       "      <td>0.000000</td>\n",
       "      <td>0.000000</td>\n",
       "      <td>0.000000</td>\n",
       "      <td>0.000000</td>\n",
       "    </tr>\n",
       "    <tr>\n",
       "      <th>25%</th>\n",
       "      <td>25.000000</td>\n",
       "      <td>82.250000</td>\n",
       "      <td>1.039050</td>\n",
       "      <td>1.000000</td>\n",
       "      <td>0.000000</td>\n",
       "      <td>0.000000</td>\n",
       "      <td>0.00000</td>\n",
       "      <td>0.000000</td>\n",
       "      <td>0.000000</td>\n",
       "      <td>0.000000</td>\n",
       "      <td>...</td>\n",
       "      <td>0.00000</td>\n",
       "      <td>0.000000</td>\n",
       "      <td>0.000000</td>\n",
       "      <td>0.000000</td>\n",
       "      <td>0.00000</td>\n",
       "      <td>0.000000</td>\n",
       "      <td>0.000000</td>\n",
       "      <td>0.000000</td>\n",
       "      <td>0.000000</td>\n",
       "      <td>0.000000</td>\n",
       "    </tr>\n",
       "    <tr>\n",
       "      <th>50%</th>\n",
       "      <td>51.000000</td>\n",
       "      <td>110.000000</td>\n",
       "      <td>2.140000</td>\n",
       "      <td>1.000000</td>\n",
       "      <td>0.000000</td>\n",
       "      <td>0.000000</td>\n",
       "      <td>0.00000</td>\n",
       "      <td>0.000000</td>\n",
       "      <td>0.000000</td>\n",
       "      <td>0.000000</td>\n",
       "      <td>...</td>\n",
       "      <td>0.00000</td>\n",
       "      <td>0.000000</td>\n",
       "      <td>0.000000</td>\n",
       "      <td>0.000000</td>\n",
       "      <td>0.00000</td>\n",
       "      <td>0.000000</td>\n",
       "      <td>0.000000</td>\n",
       "      <td>0.000000</td>\n",
       "      <td>0.000000</td>\n",
       "      <td>0.000000</td>\n",
       "    </tr>\n",
       "    <tr>\n",
       "      <th>75%</th>\n",
       "      <td>85.750000</td>\n",
       "      <td>195.500000</td>\n",
       "      <td>5.333300</td>\n",
       "      <td>1.000000</td>\n",
       "      <td>0.000000</td>\n",
       "      <td>0.000000</td>\n",
       "      <td>0.00000</td>\n",
       "      <td>0.000000</td>\n",
       "      <td>0.000000</td>\n",
       "      <td>0.000000</td>\n",
       "      <td>...</td>\n",
       "      <td>0.00000</td>\n",
       "      <td>0.000000</td>\n",
       "      <td>0.000000</td>\n",
       "      <td>0.000000</td>\n",
       "      <td>0.00000</td>\n",
       "      <td>0.000000</td>\n",
       "      <td>0.000000</td>\n",
       "      <td>0.000000</td>\n",
       "      <td>0.000000</td>\n",
       "      <td>0.000000</td>\n",
       "    </tr>\n",
       "    <tr>\n",
       "      <th>max</th>\n",
       "      <td>640.000000</td>\n",
       "      <td>640.000000</td>\n",
       "      <td>60.000000</td>\n",
       "      <td>1.000000</td>\n",
       "      <td>1.000000</td>\n",
       "      <td>1.000000</td>\n",
       "      <td>1.00000</td>\n",
       "      <td>1.000000</td>\n",
       "      <td>1.000000</td>\n",
       "      <td>1.000000</td>\n",
       "      <td>...</td>\n",
       "      <td>1.00000</td>\n",
       "      <td>1.000000</td>\n",
       "      <td>1.000000</td>\n",
       "      <td>1.000000</td>\n",
       "      <td>1.00000</td>\n",
       "      <td>1.000000</td>\n",
       "      <td>1.000000</td>\n",
       "      <td>1.000000</td>\n",
       "      <td>1.000000</td>\n",
       "      <td>1.000000</td>\n",
       "    </tr>\n",
       "  </tbody>\n",
       "</table>\n",
       "<p>8 rows × 1558 columns</p>\n",
       "</div>"
      ]
     },
     "execution_count": 10,
     "metadata": {},
     "output_type": "execute_result"
    }
   ],
   "execution_count": 10
  },
  {
   "metadata": {
    "ExecuteTime": {
     "end_time": "2024-10-04T01:57:25.705912Z",
     "start_time": "2024-10-04T01:57:25.699917Z"
    }
   },
   "cell_type": "code",
   "source": "y_train.value_counts()",
   "id": "a5c5f80a6f91e209",
   "outputs": [
    {
     "data": {
      "text/plain": [
       "label\n",
       "0    2109\n",
       "1     350\n",
       "Name: count, dtype: int64"
      ]
     },
     "execution_count": 11,
     "metadata": {},
     "output_type": "execute_result"
    }
   ],
   "execution_count": 11
  },
  {
   "metadata": {
    "ExecuteTime": {
     "end_time": "2024-10-04T01:57:25.990301Z",
     "start_time": "2024-10-04T01:57:25.708066Z"
    }
   },
   "cell_type": "code",
   "source": [
    "y.hist(bins=5, figsize=(4,3))\n",
    "plt.show()"
   ],
   "id": "84a0a4d6f2145a01",
   "outputs": [
    {
     "data": {
      "text/plain": [
       "<Figure size 400x300 with 1 Axes>"
      ],
      "image/png": "[encoded data removed]"
     },
     "metadata": {},
     "output_type": "display_data"
    }
   ],
   "execution_count": 12
  },
  {
   "metadata": {
    "ExecuteTime": {
     "end_time": "2024-10-04T01:57:26.505940Z",
     "start_time": "2024-10-04T01:57:25.991299Z"
    }
   },
   "cell_type": "code",
   "source": [
    "cont_feas = ['height', 'width', 'ratio(width/height)']\n",
    "X_train.hist(column=cont_feas, bins=100, figsize=(9,5))"
   ],
   "id": "ab8c607a25d9cc84",
   "outputs": [
    {
     "data": {
      "text/plain": [
       "array([[<Axes: title={'center': 'height'}>,\n",
       "        <Axes: title={'center': 'width'}>],\n",
       "       [<Axes: title={'center': 'ratio(width/height)'}>, <Axes: >]],\n",
       "      dtype=object)"
      ]
     },
     "execution_count": 13,
     "metadata": {},
     "output_type": "execute_result"
    },
    {
     "data": {
      "text/plain": [
       "<Figure size 900x500 with 4 Axes>"
      ],
      "image/png": "[encoded data removed]"
     },
     "metadata": {},
     "output_type": "display_data"
    }
   ],
   "execution_count": 13
  },
  {
   "metadata": {
    "ExecuteTime": {
     "end_time": "2024-10-04T01:57:26.647658Z",
     "start_time": "2024-10-04T01:57:26.506914Z"
    }
   },
   "cell_type": "code",
   "source": [
    "sns.violinplot(x='label', y='width', data=data)\n",
    "plt.show()"
   ],
   "id": "8fa49c70bfe782f8",
   "outputs": [
    {
     "data": {
      "text/plain": [
       "<Figure size 640x480 with 1 Axes>"
      ],
      "image/png": "[encoded data removed]"
     },
     "metadata": {},
     "output_type": "display_data"
    }
   ],
   "execution_count": 14
  },
  {
   "metadata": {
    "ExecuteTime": {
     "end_time": "2024-10-04T01:57:26.794476Z",
     "start_time": "2024-10-04T01:57:26.649613Z"
    }
   },
   "cell_type": "code",
   "source": "sns.violinplot(x='label', y='height', data=data)",
   "id": "27eae095a080534f",
   "outputs": [
    {
     "data": {
      "text/plain": [
       "<Axes: xlabel='label', ylabel='height'>"
      ]
     },
     "execution_count": 15,
     "metadata": {},
     "output_type": "execute_result"
    },
    {
     "data": {
      "text/plain": [
       "<Figure size 640x480 with 1 Axes>"
      ],
      "image/png": "[encoded data removed]"
     },
     "metadata": {},
     "output_type": "display_data"
    }
   ],
   "execution_count": 15
  },
  {
   "metadata": {
    "ExecuteTime": {
     "end_time": "2024-10-04T01:57:26.926063Z",
     "start_time": "2024-10-04T01:57:26.795476Z"
    }
   },
   "cell_type": "code",
   "source": [
    "plt.subplots(figsize=(12,6))\n",
    "corr = X_train[cont_feas].corr()\n",
    "sns.heatmap(corr,annot=True)\n",
    "plt.show()"
   ],
   "id": "9fd5f4f2473e1d97",
   "outputs": [
    {
     "data": {
      "text/plain": [
       "<Figure size 1200x600 with 2 Axes>"
      ],
      "image/png": "[encoded data removed]"
     },
     "metadata": {},
     "output_type": "display_data"
    }
   ],
   "execution_count": 16
  },
  {
   "metadata": {
    "ExecuteTime": {
     "end_time": "2024-10-04T01:57:26.960854Z",
     "start_time": "2024-10-04T01:57:26.927058Z"
    }
   },
   "cell_type": "code",
   "source": [
    "X_train_d = X_train.copy(deep=True).dropna()\n",
    "X_test_d = X_test.copy(deep=True).dropna()\n",
    "X_train_d['label'] = 1\n",
    "X_test_d['label'] = 0\n",
    "print(X_train_d.shape)"
   ],
   "id": "809636750d75e9d9",
   "outputs": [
    {
     "name": "stdout",
     "output_type": "stream",
     "text": [
      "(1772, 1559)\n"
     ]
    }
   ],
   "execution_count": 17
  },
  {
   "metadata": {
    "ExecuteTime": {
     "end_time": "2024-10-04T01:57:26.979857Z",
     "start_time": "2024-10-04T01:57:26.961837Z"
    }
   },
   "cell_type": "code",
   "source": [
    "all_data_d = pd.concat([X_train_d, X_test_d],axis=0)\n",
    "print(all_data_d.shape)\n",
    "all_data_d.reset_index(drop=True, inplace=True)\n",
    "all_data_d.label.value_counts()"
   ],
   "id": "696fe17ecb5a4db8",
   "outputs": [
    {
     "name": "stdout",
     "output_type": "stream",
     "text": [
      "(2359, 1559)\n"
     ]
    },
    {
     "data": {
      "text/plain": [
       "label\n",
       "1    1772\n",
       "0     587\n",
       "Name: count, dtype: int64"
      ]
     },
     "execution_count": 18,
     "metadata": {},
     "output_type": "execute_result"
    }
   ],
   "execution_count": 18
  },
  {
   "metadata": {
    "ExecuteTime": {
     "end_time": "2024-10-04T01:57:27.020837Z",
     "start_time": "2024-10-04T01:57:26.980856Z"
    }
   },
   "cell_type": "code",
   "source": [
    "all_data_d.sample(frac=1, random_state=24).reset_index(drop=True, inplace=True)\n",
    "X_d = all_data_d.drop(columns='label')\n",
    "y_d = all_data_d.label\n",
    "X_d_train,X_d_test,y_d_train,y_d_test = model_selection.train_test_split(X_d, y_d, test_size=0.25, random_state=24)"
   ],
   "id": "f435c2ddf52143cc",
   "outputs": [],
   "execution_count": 19
  },
  {
   "metadata": {
    "ExecuteTime": {
     "end_time": "2024-10-04T01:57:27.662601Z",
     "start_time": "2024-10-04T01:57:27.021343Z"
    }
   },
   "cell_type": "code",
   "source": [
    "from sklearn.linear_model import LogisticRegression\n",
    "from sklearn.tree import DecisionTreeClassifier\n",
    "\n",
    "X_d_train.columns = X_d_train.columns.astype('str')\n",
    "X_d_test.columns = X_d_test.columns.astype('str')\n",
    "clf = LogisticRegression(random_state=24)\n",
    "clf.fit(X_d_train, y_d_train)\n",
    "y_pred_d = clf.predict(X_d_test)\n",
    "linear_auc_d = metrics.roc_auc_score(y_d_test,y_pred_d)\n",
    "print(f'Logistic Regression AUC: {linear_auc_d}')\n",
    "\n",
    "clf2 =DecisionTreeClassifier(random_state=24)\n",
    "clf2.fit(X_d_train, y_d_train)\n",
    "y_pred_d_tree = clf2.predict(X_d_test)\n",
    "tree_auc_d = metrics.roc_auc_score(y_d_test,y_pred_d_tree)\n",
    "print(f'Decision Tree AUC: {tree_auc_d}')\n"
   ],
   "id": "f2cece3d83ba48af",
   "outputs": [
    {
     "name": "stderr",
     "output_type": "stream",
     "text": [
      "F:\\envs\\ML\\lib\\site-packages\\sklearn\\linear_model\\_logistic.py:469: ConvergenceWarning: lbfgs failed to converge (status=1):\n",
      "STOP: TOTAL NO. of ITERATIONS REACHED LIMIT.\n",
      "\n",
      "Increase the number of iterations (max_iter) or scale the data as shown in:\n",
      "    https://scikit-learn.org/stable/modules/preprocessing.html\n",
      "Please also refer to the documentation for alternative solver options:\n",
      "    https://scikit-learn.org/stable/modules/linear_model.html#logistic-regression\n",
      "  n_iter_i = _check_optimize_result(\n"
     ]
    },
    {
     "name": "stdout",
     "output_type": "stream",
     "text": [
      "Logistic Regression AUC: 0.4987617708205943\n",
      "Decision Tree AUC: 0.4971413721413721\n"
     ]
    }
   ],
   "execution_count": 20
  },
  {
   "metadata": {
    "ExecuteTime": {
     "end_time": "2024-10-04T01:57:29.370897Z",
     "start_time": "2024-10-04T01:57:27.663600Z"
    }
   },
   "cell_type": "code",
   "source": [
    "X_d.columns = X_d.columns.astype('str')\n",
    "scores = model_selection.cross_val_score(clf2, X_d, y_d, cv=5,scoring='roc_auc')\n",
    "print(f'auc mean: {scores.mean():.2f} +- {scores.std():.2f}')"
   ],
   "id": "186a20bdc39d13cf",
   "outputs": [
    {
     "name": "stdout",
     "output_type": "stream",
     "text": [
      "auc mean: 0.49 +- 0.01\n"
     ]
    }
   ],
   "execution_count": 21
  },
  {
   "metadata": {
    "ExecuteTime": {
     "end_time": "2024-10-04T01:57:29.576737Z",
     "start_time": "2024-10-04T01:57:29.371842Z"
    }
   },
   "cell_type": "code",
   "source": [
    "from sklearn.decomposition import PCA\n",
    "pca = PCA(n_components=2)\n",
    "X_pca = pca.fit_transform(X_d)\n",
    "pos_mask = y_d > 0\n",
    "neg_mask = y_d <= 0\n",
    "X_pos_pca = X_pca[pos_mask]\n",
    "X_neg_pca = X_pca[neg_mask]\n",
    "\n",
    "plt.scatter(X_pos_pca[:,0], X_pos_pca[:,1], c='r',marker='o', s=60)\n",
    "plt.scatter(X_neg_pca[:,0], X_neg_pca[:,1], c='g', marker='^', s=60)\n",
    "plt.title('PCA')\n",
    "plt.show()"
   ],
   "id": "107a7f3baeb4c7fa",
   "outputs": [
    {
     "data": {
      "text/plain": [
       "<Figure size 640x480 with 1 Axes>"
      ],
      "image/png": "[encoded data removed]"
     },
     "metadata": {},
     "output_type": "display_data"
    }
   ],
   "execution_count": 22
  },
  {
   "metadata": {
    "ExecuteTime": {
     "end_time": "2024-10-04T01:57:29.583756Z",
     "start_time": "2024-10-04T01:57:29.577728Z"
    }
   },
   "cell_type": "code",
   "source": "print(type(data.label.value_counts()))",
   "id": "a8daad67359e7364",
   "outputs": [
    {
     "name": "stdout",
     "output_type": "stream",
     "text": [
      "<class 'pandas.core.series.Series'>\n"
     ]
    }
   ],
   "execution_count": 23
  },
  {
   "metadata": {
    "ExecuteTime": {
     "end_time": "2024-10-04T01:57:29.591757Z",
     "start_time": "2024-10-04T01:57:29.584729Z"
    }
   },
   "cell_type": "code",
   "source": [
    "pos_label, neg_label = data.label.value_counts()[0], data.label.value_counts()[1]\n",
    "scale_pos_weight = neg_label/pos_label\n",
    "print(scale_pos_weight)"
   ],
   "id": "fd2bb7c6237b0ed4",
   "outputs": [
    {
     "name": "stdout",
     "output_type": "stream",
     "text": [
      "0.16276595744680852\n"
     ]
    }
   ],
   "execution_count": 24
  },
  {
   "metadata": {
    "ExecuteTime": {
     "end_time": "2024-10-04T02:11:57.529509Z",
     "start_time": "2024-10-04T02:11:54.846228Z"
    }
   },
   "cell_type": "code",
   "source": [
    "params = {\n",
    "    'objective': 'binary:logistic',\n",
    "    'eval_metric': 'auc',\n",
    "    'booster': 'gbtree',\n",
    "    'nthread': -1,\n",
    "    'eta': 0.1,\n",
    "    'gamma': 0,\n",
    "    'max_depth': 6,\n",
    "    'min_child_weight': 1,\n",
    "    'subsample': 0.8,\n",
    "    'colsample_bytree': 0.8,\n",
    "    'scale_pos_weight': scale_pos_weight,\n",
    "}\n",
    "dtrain = xgb.DMatrix(X_train, label=y_train)\n",
    "dtest = xgb.DMatrix(X_test, label=y_test)\n",
    "watchlist = [(dtrain, 'train'), (dtest, 'test')]\n",
    "num_round = 100\n",
    "bst = xgb.train(params, dtrain,num_boost_round= num_round, evals= watchlist)"
   ],
   "id": "425ead24091c38e3",
   "outputs": [
    {
     "name": "stdout",
     "output_type": "stream",
     "text": [
      "[0]\ttrain-auc:0.91369\ttest-auc:0.90606\n",
      "[1]\ttrain-auc:0.93554\ttest-auc:0.92450\n",
      "[2]\ttrain-auc:0.94571\ttest-auc:0.92333\n",
      "[3]\ttrain-auc:0.94532\ttest-auc:0.92257\n",
      "[4]\ttrain-auc:0.94502\ttest-auc:0.92248\n",
      "[5]\ttrain-auc:0.94505\ttest-auc:0.92672\n",
      "[6]\ttrain-auc:0.94468\ttest-auc:0.92645\n",
      "[7]\ttrain-auc:0.94427\ttest-auc:0.92610\n",
      "[8]\ttrain-auc:0.94392\ttest-auc:0.92585\n",
      "[9]\ttrain-auc:0.94471\ttest-auc:0.92543\n",
      "[10]\ttrain-auc:0.94456\ttest-auc:0.92898\n",
      "[11]\ttrain-auc:0.94433\ttest-auc:0.92892\n",
      "[12]\ttrain-auc:0.94544\ttest-auc:0.92799\n",
      "[13]\ttrain-auc:0.94533\ttest-auc:0.92782\n",
      "[14]\ttrain-auc:0.94618\ttest-auc:0.92710\n",
      "[15]\ttrain-auc:0.94621\ttest-auc:0.92727\n",
      "[16]\ttrain-auc:0.94603\ttest-auc:0.92752\n",
      "[17]\ttrain-auc:0.94588\ttest-auc:0.92692\n",
      "[18]\ttrain-auc:0.94603\ttest-auc:0.92768\n",
      "[19]\ttrain-auc:0.94499\ttest-auc:0.92654\n",
      "[20]\ttrain-auc:0.94555\ttest-auc:0.92682\n",
      "[21]\ttrain-auc:0.94544\ttest-auc:0.92686\n",
      "[22]\ttrain-auc:0.94568\ttest-auc:0.92689\n",
      "[23]\ttrain-auc:0.94986\ttest-auc:0.92154\n",
      "[24]\ttrain-auc:0.95387\ttest-auc:0.92312\n",
      "[25]\ttrain-auc:0.95703\ttest-auc:0.92617\n",
      "[26]\ttrain-auc:0.95607\ttest-auc:0.92546\n",
      "[27]\ttrain-auc:0.95703\ttest-auc:0.92426\n",
      "[28]\ttrain-auc:0.95637\ttest-auc:0.92724\n",
      "[29]\ttrain-auc:0.95856\ttest-auc:0.93209\n",
      "[30]\ttrain-auc:0.96128\ttest-auc:0.93395\n",
      "[31]\ttrain-auc:0.96263\ttest-auc:0.93919\n",
      "[32]\ttrain-auc:0.96340\ttest-auc:0.93752\n",
      "[33]\ttrain-auc:0.96314\ttest-auc:0.93693\n",
      "[34]\ttrain-auc:0.96316\ttest-auc:0.93697\n",
      "[35]\ttrain-auc:0.96644\ttest-auc:0.94824\n",
      "[36]\ttrain-auc:0.96529\ttest-auc:0.94615\n",
      "[37]\ttrain-auc:0.96711\ttest-auc:0.94563\n",
      "[38]\ttrain-auc:0.96703\ttest-auc:0.94828\n",
      "[39]\ttrain-auc:0.96786\ttest-auc:0.94949\n",
      "[40]\ttrain-auc:0.96908\ttest-auc:0.95246\n",
      "[41]\ttrain-auc:0.96803\ttest-auc:0.95192\n",
      "[42]\ttrain-auc:0.96917\ttest-auc:0.95097\n",
      "[43]\ttrain-auc:0.96981\ttest-auc:0.95199\n",
      "[44]\ttrain-auc:0.96994\ttest-auc:0.95215\n",
      "[45]\ttrain-auc:0.97064\ttest-auc:0.95450\n",
      "[46]\ttrain-auc:0.97058\ttest-auc:0.95338\n",
      "[47]\ttrain-auc:0.97030\ttest-auc:0.95197\n",
      "[48]\ttrain-auc:0.97131\ttest-auc:0.95412\n",
      "[49]\ttrain-auc:0.97052\ttest-auc:0.95339\n",
      "[50]\ttrain-auc:0.97100\ttest-auc:0.95489\n",
      "[51]\ttrain-auc:0.97171\ttest-auc:0.95586\n",
      "[52]\ttrain-auc:0.97105\ttest-auc:0.95572\n",
      "[53]\ttrain-auc:0.97145\ttest-auc:0.95663\n",
      "[54]\ttrain-auc:0.97194\ttest-auc:0.95786\n",
      "[55]\ttrain-auc:0.97216\ttest-auc:0.95883\n",
      "[56]\ttrain-auc:0.97288\ttest-auc:0.95925\n",
      "[57]\ttrain-auc:0.97309\ttest-auc:0.95946\n",
      "[58]\ttrain-auc:0.97473\ttest-auc:0.96008\n",
      "[59]\ttrain-auc:0.97541\ttest-auc:0.96079\n",
      "[60]\ttrain-auc:0.97599\ttest-auc:0.96139\n",
      "[61]\ttrain-auc:0.97636\ttest-auc:0.96164\n",
      "[62]\ttrain-auc:0.97653\ttest-auc:0.96346\n",
      "[63]\ttrain-auc:0.97676\ttest-auc:0.96330\n",
      "[64]\ttrain-auc:0.97664\ttest-auc:0.96228\n",
      "[65]\ttrain-auc:0.97675\ttest-auc:0.96224\n",
      "[66]\ttrain-auc:0.97687\ttest-auc:0.96319\n",
      "[67]\ttrain-auc:0.97696\ttest-auc:0.96312\n",
      "[68]\ttrain-auc:0.97752\ttest-auc:0.96408\n",
      "[69]\ttrain-auc:0.97730\ttest-auc:0.96417\n",
      "[70]\ttrain-auc:0.97763\ttest-auc:0.96355\n",
      "[71]\ttrain-auc:0.97766\ttest-auc:0.96423\n",
      "[72]\ttrain-auc:0.97780\ttest-auc:0.96434\n",
      "[73]\ttrain-auc:0.97812\ttest-auc:0.96395\n",
      "[74]\ttrain-auc:0.97835\ttest-auc:0.96377\n",
      "[75]\ttrain-auc:0.97832\ttest-auc:0.96474\n",
      "[76]\ttrain-auc:0.97826\ttest-auc:0.96450\n",
      "[77]\ttrain-auc:0.97822\ttest-auc:0.96497\n",
      "[78]\ttrain-auc:0.97827\ttest-auc:0.96395\n",
      "[79]\ttrain-auc:0.97841\ttest-auc:0.96444\n",
      "[80]\ttrain-auc:0.97844\ttest-auc:0.96423\n",
      "[81]\ttrain-auc:0.97851\ttest-auc:0.96343\n",
      "[82]\ttrain-auc:0.97870\ttest-auc:0.96471\n",
      "[83]\ttrain-auc:0.97853\ttest-auc:0.96422\n",
      "[84]\ttrain-auc:0.97866\ttest-auc:0.96526\n",
      "[85]\ttrain-auc:0.97876\ttest-auc:0.96568\n",
      "[86]\ttrain-auc:0.97899\ttest-auc:0.96548\n",
      "[87]\ttrain-auc:0.97913\ttest-auc:0.96654\n",
      "[88]\ttrain-auc:0.97921\ttest-auc:0.96641\n",
      "[89]\ttrain-auc:0.97905\ttest-auc:0.96670\n",
      "[90]\ttrain-auc:0.97914\ttest-auc:0.96651\n",
      "[91]\ttrain-auc:0.97898\ttest-auc:0.96579\n",
      "[92]\ttrain-auc:0.97893\ttest-auc:0.96554\n",
      "[93]\ttrain-auc:0.97915\ttest-auc:0.96567\n",
      "[94]\ttrain-auc:0.97927\ttest-auc:0.96534\n",
      "[95]\ttrain-auc:0.97926\ttest-auc:0.96541\n",
      "[96]\ttrain-auc:0.97931\ttest-auc:0.96486\n",
      "[97]\ttrain-auc:0.97966\ttest-auc:0.96537\n",
      "[98]\ttrain-auc:0.97991\ttest-auc:0.96564\n",
      "[99]\ttrain-auc:0.97984\ttest-auc:0.96515\n"
     ]
    }
   ],
   "execution_count": 26
  },
  {
   "metadata": {
    "ExecuteTime": {
     "end_time": "2024-10-04T02:25:30.672451Z",
     "start_time": "2024-10-04T02:25:30.660453Z"
    }
   },
   "cell_type": "code",
   "source": [
    "y_pred = bst.predict(dtest)\n",
    "auc_score = metrics.roc_auc_score(y_test,y_pred)\n",
    "print(auc_score)"
   ],
   "id": "3f4ab43cbb8014fc",
   "outputs": [
    {
     "name": "stdout",
     "output_type": "stream",
     "text": [
      "0.9651543890888915\n"
     ]
    }
   ],
   "execution_count": 27
  },
  {
   "metadata": {
    "ExecuteTime": {
     "end_time": "2024-10-04T03:01:37.384925Z",
     "start_time": "2024-10-04T03:01:37.232452Z"
    }
   },
   "cell_type": "code",
   "source": [
    "xgb.plot_importance(bst,max_num_features=20,importance_type='weight',height=0.5)\n",
    "plt.show()"
   ],
   "id": "dfd10c0ccc183a17",
   "outputs": [
    {
     "data": {
      "text/plain": [
       "<Figure size 640x480 with 1 Axes>"
      ],
      "image/png": "[encoded data removed]"
     },
     "metadata": {},
     "output_type": "display_data"
    }
   ],
   "execution_count": 29
  },
  {
   "metadata": {
    "ExecuteTime": {
     "end_time": "2024-10-04T03:36:35.635422Z",
     "start_time": "2024-10-04T03:36:35.629883Z"
    }
   },
   "cell_type": "code",
   "source": [
    "def xgb_optimization(\n",
    "        n_estimators,\n",
    "        learning_rate,\n",
    "        gamma,\n",
    "        max_depth,\n",
    "        min_child_weight,\n",
    "        subsample,\n",
    "        colsample_bytree,\n",
    "        alpha\n",
    "):\n",
    "    params = {}\n",
    "    params['objective'] = 'binary:logistic'\n",
    "    params['eval_metric'] = 'auc'\n",
    "    params['booster'] = 'gbtree'\n",
    "    params['learning_rate'] = float(learning_rate)\n",
    "    params['gamma'] = float(gamma)\n",
    "    params['max_depth'] = int(max_depth)\n",
    "    params['min_child_weight'] = int(min_child_weight)\n",
    "    params['subsample'] = float(subsample)\n",
    "    params['colsample_bytree'] = float(colsample_bytree)\n",
    "    params['alpha'] = float(alpha)\n",
    "    n_estimators = int(n_estimators)\n",
    "    \n",
    "    cv_results = xgb.cv(params,dtrain,num_boost_round=n_estimators,metrics=['auc'],early_stopping_rounds=20,seed=24)\n",
    "    return cv_results['test-auc-mean'].iloc[-1]"
   ],
   "id": "4bdbc05fafb4bc38",
   "outputs": [],
   "execution_count": 38
  },
  {
   "metadata": {
    "ExecuteTime": {
     "end_time": "2024-10-04T03:41:29.645333Z",
     "start_time": "2024-10-04T03:36:36.050130Z"
    }
   },
   "cell_type": "code",
   "source": [
    "pbounds = {\n",
    "    'n_estimators': (100, 200),\n",
    "    'learning_rate': (0.05,0.2),\n",
    "    'gamma': (0,10),\n",
    "    'max_depth': (4, 11),\n",
    "    'min_child_weight': (1, 5),\n",
    "    'subsample': (0.5,1),\n",
    "    'colsample_bytree': (0.5,1),\n",
    "    'alpha': (0, 10),\n",
    "}\n",
    "xgb_opt = BayesianOptimization(xgb_optimization,pbounds)\n",
    "xgb_opt.maximize(init_points=5, n_iter=30)"
   ],
   "id": "1478309da5816126",
   "outputs": [
    {
     "name": "stdout",
     "output_type": "stream",
     "text": [
      "|   iter    |  target   |   alpha   | colsam... |   gamma   | learni... | max_depth | min_ch... | n_esti... | subsample |\n",
      "-------------------------------------------------------------------------------------------------------------------------\n",
      "| \u001B[39m1        \u001B[39m | \u001B[39m0.952    \u001B[39m | \u001B[39m4.01     \u001B[39m | \u001B[39m0.9361   \u001B[39m | \u001B[39m4.231    \u001B[39m | \u001B[39m0.1857   \u001B[39m | \u001B[39m4.826    \u001B[39m | \u001B[39m4.329    \u001B[39m | \u001B[39m187.1    \u001B[39m | \u001B[39m0.6159   \u001B[39m |\n",
      "| \u001B[35m2        \u001B[39m | \u001B[35m0.9623   \u001B[39m | \u001B[35m3.037    \u001B[39m | \u001B[35m0.6206   \u001B[39m | \u001B[35m0.07484  \u001B[39m | \u001B[35m0.09089  \u001B[39m | \u001B[35m6.613    \u001B[39m | \u001B[35m3.342    \u001B[39m | \u001B[35m114.0    \u001B[39m | \u001B[35m0.5036   \u001B[39m |\n",
      "| \u001B[39m3        \u001B[39m | \u001B[39m0.9538   \u001B[39m | \u001B[39m5.499    \u001B[39m | \u001B[39m0.8969   \u001B[39m | \u001B[39m2.617    \u001B[39m | \u001B[39m0.1814   \u001B[39m | \u001B[39m5.173    \u001B[39m | \u001B[39m2.429    \u001B[39m | \u001B[39m107.3    \u001B[39m | \u001B[39m0.9254   \u001B[39m |\n",
      "| \u001B[39m4        \u001B[39m | \u001B[39m0.9532   \u001B[39m | \u001B[39m6.383    \u001B[39m | \u001B[39m0.8437   \u001B[39m | \u001B[39m2.513    \u001B[39m | \u001B[39m0.1591   \u001B[39m | \u001B[39m5.825    \u001B[39m | \u001B[39m4.896    \u001B[39m | \u001B[39m178.5    \u001B[39m | \u001B[39m0.8358   \u001B[39m |\n",
      "| \u001B[39m5        \u001B[39m | \u001B[39m0.9544   \u001B[39m | \u001B[39m3.627    \u001B[39m | \u001B[39m0.6448   \u001B[39m | \u001B[39m3.102    \u001B[39m | \u001B[39m0.1009   \u001B[39m | \u001B[39m6.854    \u001B[39m | \u001B[39m4.801    \u001B[39m | \u001B[39m175.2    \u001B[39m | \u001B[39m0.715    \u001B[39m |\n",
      "| \u001B[39m6        \u001B[39m | \u001B[39m0.9606   \u001B[39m | \u001B[39m1.98     \u001B[39m | \u001B[39m0.5035   \u001B[39m | \u001B[39m0.0      \u001B[39m | \u001B[39m0.05288  \u001B[39m | \u001B[39m7.23     \u001B[39m | \u001B[39m3.733    \u001B[39m | \u001B[39m116.9    \u001B[39m | \u001B[39m0.5      \u001B[39m |\n",
      "| \u001B[39m7        \u001B[39m | \u001B[39m0.9523   \u001B[39m | \u001B[39m7.554    \u001B[39m | \u001B[39m1.0      \u001B[39m | \u001B[39m0.0      \u001B[39m | \u001B[39m0.09229  \u001B[39m | \u001B[39m8.529    \u001B[39m | \u001B[39m4.902    \u001B[39m | \u001B[39m115.6    \u001B[39m | \u001B[39m0.5      \u001B[39m |\n",
      "| \u001B[35m8        \u001B[39m | \u001B[35m0.9657   \u001B[39m | \u001B[35m0.5043   \u001B[39m | \u001B[35m0.5      \u001B[39m | \u001B[35m0.0      \u001B[39m | \u001B[35m0.07738  \u001B[39m | \u001B[35m5.915    \u001B[39m | \u001B[35m2.734    \u001B[39m | \u001B[35m114.3    \u001B[39m | \u001B[35m0.5      \u001B[39m |\n",
      "| \u001B[39m9        \u001B[39m | \u001B[39m0.9615   \u001B[39m | \u001B[39m0.0      \u001B[39m | \u001B[39m0.5      \u001B[39m | \u001B[39m3.61     \u001B[39m | \u001B[39m0.05     \u001B[39m | \u001B[39m4.0      \u001B[39m | \u001B[39m1.0      \u001B[39m | \u001B[39m114.8    \u001B[39m | \u001B[39m0.5      \u001B[39m |\n",
      "| \u001B[35m10       \u001B[39m | \u001B[35m0.9694   \u001B[39m | \u001B[35m0.0      \u001B[39m | \u001B[35m0.5      \u001B[39m | \u001B[35m0.0      \u001B[39m | \u001B[35m0.05     \u001B[39m | \u001B[35m9.543    \u001B[39m | \u001B[35m1.0      \u001B[39m | \u001B[35m112.3    \u001B[39m | \u001B[35m0.5      \u001B[39m |\n",
      "| \u001B[39m11       \u001B[39m | \u001B[39m0.9575   \u001B[39m | \u001B[39m0.0      \u001B[39m | \u001B[39m0.5      \u001B[39m | \u001B[39m0.0      \u001B[39m | \u001B[39m0.05     \u001B[39m | \u001B[39m11.0     \u001B[39m | \u001B[39m5.0      \u001B[39m | \u001B[39m109.7    \u001B[39m | \u001B[39m0.5      \u001B[39m |\n",
      "| \u001B[39m12       \u001B[39m | \u001B[39m0.9679   \u001B[39m | \u001B[39m0.0      \u001B[39m | \u001B[39m1.0      \u001B[39m | \u001B[39m2.697    \u001B[39m | \u001B[39m0.2      \u001B[39m | \u001B[39m11.0     \u001B[39m | \u001B[39m1.0      \u001B[39m | \u001B[39m114.7    \u001B[39m | \u001B[39m0.6651   \u001B[39m |\n",
      "| \u001B[39m13       \u001B[39m | \u001B[39m0.9585   \u001B[39m | \u001B[39m0.0      \u001B[39m | \u001B[39m0.5      \u001B[39m | \u001B[39m10.0     \u001B[39m | \u001B[39m0.2      \u001B[39m | \u001B[39m11.0     \u001B[39m | \u001B[39m1.0      \u001B[39m | \u001B[39m116.0    \u001B[39m | \u001B[39m0.5      \u001B[39m |\n",
      "| \u001B[35m14       \u001B[39m | \u001B[35m0.9709   \u001B[39m | \u001B[35m0.0      \u001B[39m | \u001B[35m1.0      \u001B[39m | \u001B[35m0.0      \u001B[39m | \u001B[35m0.2      \u001B[39m | \u001B[35m11.0     \u001B[39m | \u001B[35m1.0      \u001B[39m | \u001B[35m115.8    \u001B[39m | \u001B[35m0.5      \u001B[39m |\n",
      "| \u001B[39m15       \u001B[39m | \u001B[39m0.9329   \u001B[39m | \u001B[39m10.0     \u001B[39m | \u001B[39m1.0      \u001B[39m | \u001B[39m10.0     \u001B[39m | \u001B[39m0.2      \u001B[39m | \u001B[39m11.0     \u001B[39m | \u001B[39m1.0      \u001B[39m | \u001B[39m148.0    \u001B[39m | \u001B[39m1.0      \u001B[39m |\n",
      "| \u001B[39m16       \u001B[39m | \u001B[39m0.9432   \u001B[39m | \u001B[39m10.0     \u001B[39m | \u001B[39m0.5      \u001B[39m | \u001B[39m10.0     \u001B[39m | \u001B[39m0.05     \u001B[39m | \u001B[39m11.0     \u001B[39m | \u001B[39m5.0      \u001B[39m | \u001B[39m200.0    \u001B[39m | \u001B[39m1.0      \u001B[39m |\n",
      "| \u001B[35m17       \u001B[39m | \u001B[35m0.9729   \u001B[39m | \u001B[35m0.0      \u001B[39m | \u001B[35m1.0      \u001B[39m | \u001B[35m0.0      \u001B[39m | \u001B[35m0.2      \u001B[39m | \u001B[35m11.0     \u001B[39m | \u001B[35m1.0      \u001B[39m | \u001B[35m129.1    \u001B[39m | \u001B[35m1.0      \u001B[39m |\n",
      "| \u001B[39m18       \u001B[39m | \u001B[39m0.9703   \u001B[39m | \u001B[39m0.0      \u001B[39m | \u001B[39m1.0      \u001B[39m | \u001B[39m0.0      \u001B[39m | \u001B[39m0.2      \u001B[39m | \u001B[39m4.0      \u001B[39m | \u001B[39m1.0      \u001B[39m | \u001B[39m133.9    \u001B[39m | \u001B[39m0.5      \u001B[39m |\n",
      "| \u001B[39m19       \u001B[39m | \u001B[39m0.9592   \u001B[39m | \u001B[39m0.0      \u001B[39m | \u001B[39m1.0      \u001B[39m | \u001B[39m0.0      \u001B[39m | \u001B[39m0.05     \u001B[39m | \u001B[39m11.0     \u001B[39m | \u001B[39m5.0      \u001B[39m | \u001B[39m136.1    \u001B[39m | \u001B[39m0.5      \u001B[39m |\n",
      "| \u001B[39m20       \u001B[39m | \u001B[39m0.9556   \u001B[39m | \u001B[39m0.0      \u001B[39m | \u001B[39m1.0      \u001B[39m | \u001B[39m7.788    \u001B[39m | \u001B[39m0.2      \u001B[39m | \u001B[39m4.08     \u001B[39m | \u001B[39m1.0      \u001B[39m | \u001B[39m129.9    \u001B[39m | \u001B[39m1.0      \u001B[39m |\n",
      "| \u001B[39m21       \u001B[39m | \u001B[39m0.9606   \u001B[39m | \u001B[39m7.322    \u001B[39m | \u001B[39m1.0      \u001B[39m | \u001B[39m0.0      \u001B[39m | \u001B[39m0.2      \u001B[39m | \u001B[39m6.575    \u001B[39m | \u001B[39m1.0      \u001B[39m | \u001B[39m130.6    \u001B[39m | \u001B[39m1.0      \u001B[39m |\n",
      "| \u001B[39m22       \u001B[39m | \u001B[39m0.9703   \u001B[39m | \u001B[39m0.0      \u001B[39m | \u001B[39m1.0      \u001B[39m | \u001B[39m0.0      \u001B[39m | \u001B[39m0.2      \u001B[39m | \u001B[39m4.983    \u001B[39m | \u001B[39m1.0      \u001B[39m | \u001B[39m127.4    \u001B[39m | \u001B[39m0.5      \u001B[39m |\n",
      "| \u001B[39m23       \u001B[39m | \u001B[39m0.9729   \u001B[39m | \u001B[39m0.0      \u001B[39m | \u001B[39m1.0      \u001B[39m | \u001B[39m0.0      \u001B[39m | \u001B[39m0.2      \u001B[39m | \u001B[39m11.0     \u001B[39m | \u001B[39m1.0      \u001B[39m | \u001B[39m123.9    \u001B[39m | \u001B[39m1.0      \u001B[39m |\n",
      "| \u001B[39m24       \u001B[39m | \u001B[39m0.9521   \u001B[39m | \u001B[39m0.0      \u001B[39m | \u001B[39m0.5      \u001B[39m | \u001B[39m0.0      \u001B[39m | \u001B[39m0.2      \u001B[39m | \u001B[39m4.0      \u001B[39m | \u001B[39m5.0      \u001B[39m | \u001B[39m159.9    \u001B[39m | \u001B[39m0.5      \u001B[39m |\n",
      "| \u001B[39m25       \u001B[39m | \u001B[39m0.97     \u001B[39m | \u001B[39m0.0      \u001B[39m | \u001B[39m1.0      \u001B[39m | \u001B[39m0.0      \u001B[39m | \u001B[39m0.2      \u001B[39m | \u001B[39m11.0     \u001B[39m | \u001B[39m4.414    \u001B[39m | \u001B[39m127.2    \u001B[39m | \u001B[39m1.0      \u001B[39m |\n",
      "| \u001B[39m26       \u001B[39m | \u001B[39m0.965    \u001B[39m | \u001B[39m0.0      \u001B[39m | \u001B[39m0.5      \u001B[39m | \u001B[39m2.45     \u001B[39m | \u001B[39m0.05     \u001B[39m | \u001B[39m11.0     \u001B[39m | \u001B[39m1.0      \u001B[39m | \u001B[39m126.4    \u001B[39m | \u001B[39m0.5      \u001B[39m |\n",
      "| \u001B[39m27       \u001B[39m | \u001B[39m0.9582   \u001B[39m | \u001B[39m0.0      \u001B[39m | \u001B[39m0.5      \u001B[39m | \u001B[39m10.0     \u001B[39m | \u001B[39m0.2      \u001B[39m | \u001B[39m11.0     \u001B[39m | \u001B[39m1.0      \u001B[39m | \u001B[39m100.0    \u001B[39m | \u001B[39m1.0      \u001B[39m |\n",
      "| \u001B[39m28       \u001B[39m | \u001B[39m0.9709   \u001B[39m | \u001B[39m0.0      \u001B[39m | \u001B[39m1.0      \u001B[39m | \u001B[39m0.0      \u001B[39m | \u001B[39m0.05     \u001B[39m | \u001B[39m4.0      \u001B[39m | \u001B[39m1.0      \u001B[39m | \u001B[39m200.0    \u001B[39m | \u001B[39m1.0      \u001B[39m |\n",
      "| \u001B[39m29       \u001B[39m | \u001B[39m0.971    \u001B[39m | \u001B[39m0.0      \u001B[39m | \u001B[39m0.6886   \u001B[39m | \u001B[39m0.0      \u001B[39m | \u001B[39m0.2      \u001B[39m | \u001B[39m11.0     \u001B[39m | \u001B[39m1.0      \u001B[39m | \u001B[39m200.0    \u001B[39m | \u001B[39m0.5      \u001B[39m |\n",
      "| \u001B[39m30       \u001B[39m | \u001B[39m0.9694   \u001B[39m | \u001B[39m0.0      \u001B[39m | \u001B[39m1.0      \u001B[39m | \u001B[39m0.0      \u001B[39m | \u001B[39m0.2      \u001B[39m | \u001B[39m7.454    \u001B[39m | \u001B[39m5.0      \u001B[39m | \u001B[39m200.0    \u001B[39m | \u001B[39m1.0      \u001B[39m |\n",
      "| \u001B[39m31       \u001B[39m | \u001B[39m0.9712   \u001B[39m | \u001B[39m0.0      \u001B[39m | \u001B[39m0.5      \u001B[39m | \u001B[39m0.0      \u001B[39m | \u001B[39m0.05     \u001B[39m | \u001B[39m11.0     \u001B[39m | \u001B[39m1.0      \u001B[39m | \u001B[39m193.1    \u001B[39m | \u001B[39m1.0      \u001B[39m |\n",
      "| \u001B[39m32       \u001B[39m | \u001B[39m0.9531   \u001B[39m | \u001B[39m8.168    \u001B[39m | \u001B[39m1.0      \u001B[39m | \u001B[39m0.0      \u001B[39m | \u001B[39m0.05     \u001B[39m | \u001B[39m4.0      \u001B[39m | \u001B[39m1.0      \u001B[39m | \u001B[39m200.0    \u001B[39m | \u001B[39m0.5      \u001B[39m |\n",
      "| \u001B[39m33       \u001B[39m | \u001B[39m0.9588   \u001B[39m | \u001B[39m0.0      \u001B[39m | \u001B[39m0.5      \u001B[39m | \u001B[39m8.548    \u001B[39m | \u001B[39m0.2      \u001B[39m | \u001B[39m4.0      \u001B[39m | \u001B[39m1.0      \u001B[39m | \u001B[39m200.0    \u001B[39m | \u001B[39m1.0      \u001B[39m |\n",
      "| \u001B[39m34       \u001B[39m | \u001B[39m0.9715   \u001B[39m | \u001B[39m0.0      \u001B[39m | \u001B[39m0.5      \u001B[39m | \u001B[39m0.0      \u001B[39m | \u001B[39m0.2      \u001B[39m | \u001B[39m4.0      \u001B[39m | \u001B[39m1.0      \u001B[39m | \u001B[39m194.2    \u001B[39m | \u001B[39m1.0      \u001B[39m |\n",
      "| \u001B[39m35       \u001B[39m | \u001B[39m0.9698   \u001B[39m | \u001B[39m0.0      \u001B[39m | \u001B[39m1.0      \u001B[39m | \u001B[39m0.0      \u001B[39m | \u001B[39m0.2      \u001B[39m | \u001B[39m7.751    \u001B[39m | \u001B[39m1.0      \u001B[39m | \u001B[39m196.6    \u001B[39m | \u001B[39m1.0      \u001B[39m |\n",
      "=========================================================================================================================\n"
     ]
    }
   ],
   "execution_count": 39
  },
  {
   "metadata": {
    "ExecuteTime": {
     "end_time": "2024-10-04T03:53:29.543215Z",
     "start_time": "2024-10-04T03:53:29.538346Z"
    }
   },
   "cell_type": "code",
   "source": [
    "bay_params = xgb_opt.max['params']\n",
    "bay_params['max_depth'] = int(bay_params['max_depth'])\n",
    "bay_params['min_child_weight'] = int(bay_params['min_child_weight'])\n",
    "bay_params['eval_metric'] = 'auc'\n",
    "print(bay_params)\n",
    "num_boost_round = int(bay_params.pop('n_estimators'))"
   ],
   "id": "a2a1265ab6cf0e5",
   "outputs": [
    {
     "name": "stdout",
     "output_type": "stream",
     "text": [
      "{'alpha': np.float64(0.0), 'colsample_bytree': np.float64(1.0), 'gamma': np.float64(0.0), 'learning_rate': np.float64(0.2), 'max_depth': 11, 'min_child_weight': 1, 'n_estimators': np.float64(129.05670425453602), 'subsample': np.float64(1.0), 'eval_metric': 'auc'}\n"
     ]
    }
   ],
   "execution_count": 49
  },
  {
   "metadata": {
    "ExecuteTime": {
     "end_time": "2024-10-04T04:18:05.429953Z",
     "start_time": "2024-10-04T04:18:03.854282Z"
    }
   },
   "cell_type": "code",
   "source": [
    "watchlist = [(dtrain, 'train'), (dtest, 'test')]\n",
    "bys_model = xgb.train(bay_params,dtrain,num_boost_round=num_boost_round,evals= watchlist,early_stopping_rounds=30)\n",
    "best_iter = bys_model.best_iteration\n",
    "bys_model = bys_model[:best_iter]\n",
    "y_pred = bys_model.predict(dtest)\n",
    "auc_score = metrics.roc_auc_score(y_test,y_pred)\n",
    "print(f'best_iter: {best_iter} and best auc score: {auc_score}')"
   ],
   "id": "fcdd059345608d24",
   "outputs": [
    {
     "name": "stdout",
     "output_type": "stream",
     "text": [
      "[0]\ttrain-auc:0.95206\ttest-auc:0.89768\n",
      "[1]\ttrain-auc:0.96201\ttest-auc:0.91519\n",
      "[2]\ttrain-auc:0.96501\ttest-auc:0.91517\n",
      "[3]\ttrain-auc:0.96653\ttest-auc:0.91521\n",
      "[4]\ttrain-auc:0.96684\ttest-auc:0.91570\n",
      "[5]\ttrain-auc:0.97379\ttest-auc:0.92075\n",
      "[6]\ttrain-auc:0.97961\ttest-auc:0.93843\n",
      "[7]\ttrain-auc:0.98111\ttest-auc:0.94279\n",
      "[8]\ttrain-auc:0.98127\ttest-auc:0.93414\n",
      "[9]\ttrain-auc:0.98482\ttest-auc:0.93984\n",
      "[10]\ttrain-auc:0.98467\ttest-auc:0.93866\n",
      "[11]\ttrain-auc:0.98743\ttest-auc:0.93884\n",
      "[12]\ttrain-auc:0.98744\ttest-auc:0.93884\n",
      "[13]\ttrain-auc:0.99014\ttest-auc:0.93895\n",
      "[14]\ttrain-auc:0.99153\ttest-auc:0.93834\n",
      "[15]\ttrain-auc:0.99394\ttest-auc:0.94484\n",
      "[16]\ttrain-auc:0.99972\ttest-auc:0.95443\n",
      "[17]\ttrain-auc:0.99976\ttest-auc:0.95408\n",
      "[18]\ttrain-auc:0.99978\ttest-auc:0.95453\n",
      "[19]\ttrain-auc:0.99979\ttest-auc:0.96074\n",
      "[20]\ttrain-auc:0.99979\ttest-auc:0.96087\n",
      "[21]\ttrain-auc:0.99995\ttest-auc:0.96102\n",
      "[22]\ttrain-auc:0.99995\ttest-auc:0.96141\n",
      "[23]\ttrain-auc:0.99996\ttest-auc:0.96105\n",
      "[24]\ttrain-auc:0.99996\ttest-auc:0.96090\n",
      "[25]\ttrain-auc:0.99997\ttest-auc:0.96192\n",
      "[26]\ttrain-auc:0.99997\ttest-auc:0.96145\n",
      "[27]\ttrain-auc:0.99997\ttest-auc:0.96148\n",
      "[28]\ttrain-auc:0.99997\ttest-auc:0.96122\n",
      "[29]\ttrain-auc:0.99998\ttest-auc:0.96025\n",
      "[30]\ttrain-auc:0.99998\ttest-auc:0.96014\n",
      "[31]\ttrain-auc:0.99998\ttest-auc:0.96059\n",
      "[32]\ttrain-auc:0.99998\ttest-auc:0.96167\n",
      "[33]\ttrain-auc:0.99999\ttest-auc:0.96290\n",
      "[34]\ttrain-auc:0.99999\ttest-auc:0.96394\n",
      "[35]\ttrain-auc:0.99999\ttest-auc:0.97011\n",
      "[36]\ttrain-auc:0.99999\ttest-auc:0.97143\n",
      "[37]\ttrain-auc:0.99999\ttest-auc:0.97171\n",
      "[38]\ttrain-auc:0.99999\ttest-auc:0.97407\n",
      "[39]\ttrain-auc:0.99999\ttest-auc:0.97410\n",
      "[40]\ttrain-auc:0.99999\ttest-auc:0.97404\n",
      "[41]\ttrain-auc:0.99999\ttest-auc:0.97482\n",
      "[42]\ttrain-auc:0.99999\ttest-auc:0.97575\n",
      "[43]\ttrain-auc:0.99999\ttest-auc:0.97766\n",
      "[44]\ttrain-auc:1.00000\ttest-auc:0.97760\n",
      "[45]\ttrain-auc:1.00000\ttest-auc:0.97899\n",
      "[46]\ttrain-auc:1.00000\ttest-auc:0.97899\n",
      "[47]\ttrain-auc:1.00000\ttest-auc:0.97898\n",
      "[48]\ttrain-auc:1.00000\ttest-auc:0.97895\n",
      "[49]\ttrain-auc:1.00000\ttest-auc:0.97892\n",
      "[50]\ttrain-auc:1.00000\ttest-auc:0.97868\n",
      "[51]\ttrain-auc:1.00000\ttest-auc:0.97850\n",
      "[52]\ttrain-auc:1.00000\ttest-auc:0.97821\n",
      "[53]\ttrain-auc:1.00000\ttest-auc:0.97799\n",
      "[54]\ttrain-auc:1.00000\ttest-auc:0.97726\n",
      "[55]\ttrain-auc:1.00000\ttest-auc:0.97717\n",
      "[56]\ttrain-auc:1.00000\ttest-auc:0.97725\n",
      "[57]\ttrain-auc:1.00000\ttest-auc:0.97726\n",
      "[58]\ttrain-auc:1.00000\ttest-auc:0.97726\n",
      "[59]\ttrain-auc:1.00000\ttest-auc:0.97617\n",
      "[60]\ttrain-auc:1.00000\ttest-auc:0.97166\n",
      "[61]\ttrain-auc:1.00000\ttest-auc:0.97285\n",
      "[62]\ttrain-auc:1.00000\ttest-auc:0.97302\n",
      "[63]\ttrain-auc:1.00000\ttest-auc:0.97305\n",
      "[64]\ttrain-auc:1.00000\ttest-auc:0.97309\n",
      "[65]\ttrain-auc:1.00000\ttest-auc:0.97442\n",
      "[66]\ttrain-auc:1.00000\ttest-auc:0.97208\n",
      "[67]\ttrain-auc:1.00000\ttest-auc:0.97207\n",
      "[68]\ttrain-auc:1.00000\ttest-auc:0.97208\n",
      "[69]\ttrain-auc:1.00000\ttest-auc:0.97207\n",
      "[70]\ttrain-auc:1.00000\ttest-auc:0.97134\n",
      "[71]\ttrain-auc:1.00000\ttest-auc:0.97133\n",
      "[72]\ttrain-auc:1.00000\ttest-auc:0.97147\n",
      "[73]\ttrain-auc:1.00000\ttest-auc:0.97150\n",
      "[74]\ttrain-auc:1.00000\ttest-auc:0.97144\n",
      "[75]\ttrain-auc:1.00000\ttest-auc:0.97146\n",
      "best_iter: 45 and best auc score: 0.9775997109640124\n"
     ]
    }
   ],
   "execution_count": 55
  },
  {
   "metadata": {},
   "cell_type": "code",
   "outputs": [],
   "execution_count": null,
   "source": "",
   "id": "4e6c3096922cbf64"
  }
 ],
 "metadata": {
  "kernelspec": {
   "display_name": "Python 3",
   "language": "python",
   "name": "python3"
  },
  "language_info": {
   "codemirror_mode": {
    "name": "ipython",
    "version": 2
   },
   "file_extension": ".py",
   "mimetype": "text/x-python",
   "name": "python",
   "nbconvert_exporter": "python",
   "pygments_lexer": "ipython2",
   "version": "2.7.6"
  }
 },
 "nbformat": 4,
 "nbformat_minor": 5
}
