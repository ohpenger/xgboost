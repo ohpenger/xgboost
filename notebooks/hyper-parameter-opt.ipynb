{
 "cells": [
  {
   "cell_type": "code",
   "id": "initial_id",
   "metadata": {
    "collapsed": true,
    "ExecuteTime": {
     "end_time": "2024-10-01T03:37:24.103653Z",
     "start_time": "2024-10-01T03:37:24.099653Z"
    }
   },
   "source": [
    "import xgboost as xgb\n",
    "import numpy as np\n",
    "import pandas as pd\n",
    "from sklearn.model_selection import train_test_split\n",
    "from xgboost.sklearn import XGBClassifier\n",
    "from sklearn import metrics\n",
    "from sklearn.model_selection import GridSearchCV, RandomizedSearchCV"
   ],
   "outputs": [],
   "execution_count": 84
  },
  {
   "metadata": {
    "ExecuteTime": {
     "end_time": "2024-10-01T03:37:24.130649Z",
     "start_time": "2024-10-01T03:37:24.116644Z"
    }
   },
   "cell_type": "code",
   "source": [
    "wine_df = pd.read_csv('../data/wine/winequality-red.csv', sep=\";\")\n",
    "wine_df.head()"
   ],
   "id": "e8344f4166b0a0e5",
   "outputs": [
    {
     "data": {
      "text/plain": [
       "   fixed acidity  volatile acidity  citric acid  residual sugar  chlorides  \\\n",
       "0            7.4              0.70         0.00             1.9      0.076   \n",
       "1            7.8              0.88         0.00             2.6      0.098   \n",
       "2            7.8              0.76         0.04             2.3      0.092   \n",
       "3           11.2              0.28         0.56             1.9      0.075   \n",
       "4            7.4              0.70         0.00             1.9      0.076   \n",
       "\n",
       "   free sulfur dioxide  total sulfur dioxide  density    pH  sulphates  \\\n",
       "0                 11.0                  34.0   0.9978  3.51       0.56   \n",
       "1                 25.0                  67.0   0.9968  3.20       0.68   \n",
       "2                 15.0                  54.0   0.9970  3.26       0.65   \n",
       "3                 17.0                  60.0   0.9980  3.16       0.58   \n",
       "4                 11.0                  34.0   0.9978  3.51       0.56   \n",
       "\n",
       "   alcohol  quality  \n",
       "0      9.4        5  \n",
       "1      9.8        5  \n",
       "2      9.8        5  \n",
       "3      9.8        6  \n",
       "4      9.4        5  "
      ],
      "text/html": [
       "<div>\n",
       "<style scoped>\n",
       "    .dataframe tbody tr th:only-of-type {\n",
       "        vertical-align: middle;\n",
       "    }\n",
       "\n",
       "    .dataframe tbody tr th {\n",
       "        vertical-align: top;\n",
       "    }\n",
       "\n",
       "    .dataframe thead th {\n",
       "        text-align: right;\n",
       "    }\n",
       "</style>\n",
       "<table border=\"1\" class=\"dataframe\">\n",
       "  <thead>\n",
       "    <tr style=\"text-align: right;\">\n",
       "      <th></th>\n",
       "      <th>fixed acidity</th>\n",
       "      <th>volatile acidity</th>\n",
       "      <th>citric acid</th>\n",
       "      <th>residual sugar</th>\n",
       "      <th>chlorides</th>\n",
       "      <th>free sulfur dioxide</th>\n",
       "      <th>total sulfur dioxide</th>\n",
       "      <th>density</th>\n",
       "      <th>pH</th>\n",
       "      <th>sulphates</th>\n",
       "      <th>alcohol</th>\n",
       "      <th>quality</th>\n",
       "    </tr>\n",
       "  </thead>\n",
       "  <tbody>\n",
       "    <tr>\n",
       "      <th>0</th>\n",
       "      <td>7.4</td>\n",
       "      <td>0.70</td>\n",
       "      <td>0.00</td>\n",
       "      <td>1.9</td>\n",
       "      <td>0.076</td>\n",
       "      <td>11.0</td>\n",
       "      <td>34.0</td>\n",
       "      <td>0.9978</td>\n",
       "      <td>3.51</td>\n",
       "      <td>0.56</td>\n",
       "      <td>9.4</td>\n",
       "      <td>5</td>\n",
       "    </tr>\n",
       "    <tr>\n",
       "      <th>1</th>\n",
       "      <td>7.8</td>\n",
       "      <td>0.88</td>\n",
       "      <td>0.00</td>\n",
       "      <td>2.6</td>\n",
       "      <td>0.098</td>\n",
       "      <td>25.0</td>\n",
       "      <td>67.0</td>\n",
       "      <td>0.9968</td>\n",
       "      <td>3.20</td>\n",
       "      <td>0.68</td>\n",
       "      <td>9.8</td>\n",
       "      <td>5</td>\n",
       "    </tr>\n",
       "    <tr>\n",
       "      <th>2</th>\n",
       "      <td>7.8</td>\n",
       "      <td>0.76</td>\n",
       "      <td>0.04</td>\n",
       "      <td>2.3</td>\n",
       "      <td>0.092</td>\n",
       "      <td>15.0</td>\n",
       "      <td>54.0</td>\n",
       "      <td>0.9970</td>\n",
       "      <td>3.26</td>\n",
       "      <td>0.65</td>\n",
       "      <td>9.8</td>\n",
       "      <td>5</td>\n",
       "    </tr>\n",
       "    <tr>\n",
       "      <th>3</th>\n",
       "      <td>11.2</td>\n",
       "      <td>0.28</td>\n",
       "      <td>0.56</td>\n",
       "      <td>1.9</td>\n",
       "      <td>0.075</td>\n",
       "      <td>17.0</td>\n",
       "      <td>60.0</td>\n",
       "      <td>0.9980</td>\n",
       "      <td>3.16</td>\n",
       "      <td>0.58</td>\n",
       "      <td>9.8</td>\n",
       "      <td>6</td>\n",
       "    </tr>\n",
       "    <tr>\n",
       "      <th>4</th>\n",
       "      <td>7.4</td>\n",
       "      <td>0.70</td>\n",
       "      <td>0.00</td>\n",
       "      <td>1.9</td>\n",
       "      <td>0.076</td>\n",
       "      <td>11.0</td>\n",
       "      <td>34.0</td>\n",
       "      <td>0.9978</td>\n",
       "      <td>3.51</td>\n",
       "      <td>0.56</td>\n",
       "      <td>9.4</td>\n",
       "      <td>5</td>\n",
       "    </tr>\n",
       "  </tbody>\n",
       "</table>\n",
       "</div>"
      ]
     },
     "execution_count": 85,
     "metadata": {},
     "output_type": "execute_result"
    }
   ],
   "execution_count": 85
  },
  {
   "metadata": {
    "ExecuteTime": {
     "end_time": "2024-10-01T03:37:24.156831Z",
     "start_time": "2024-10-01T03:37:24.149801Z"
    }
   },
   "cell_type": "code",
   "source": [
    "wine_df['ID'] = np.arange(1, len(wine_df) + 1)\n",
    "wine_df.quality = wine_df.quality.apply(lambda x: 1 if x >=6 else 0)\n",
    "wine_df.quality.value_counts()"
   ],
   "id": "18680dd2879af19a",
   "outputs": [
    {
     "data": {
      "text/plain": [
       "quality\n",
       "1    855\n",
       "0    744\n",
       "Name: count, dtype: int64"
      ]
     },
     "execution_count": 86,
     "metadata": {},
     "output_type": "execute_result"
    }
   ],
   "execution_count": 86
  },
  {
   "metadata": {
    "ExecuteTime": {
     "end_time": "2024-10-01T03:37:24.165800Z",
     "start_time": "2024-10-01T03:37:24.157800Z"
    }
   },
   "cell_type": "code",
   "source": [
    "y = wine_df.quality.copy()\n",
    "features = [x for x in wine_df.columns if x not in ['quality','ID']]\n",
    "X = wine_df[features]\n",
    "X_train, X_test, y_train, y_test = train_test_split(X, y, test_size=0.2, random_state=24)"
   ],
   "id": "7edf3fb3974fbd9e",
   "outputs": [],
   "execution_count": 87
  },
  {
   "metadata": {
    "ExecuteTime": {
     "end_time": "2024-10-01T03:37:24.171801Z",
     "start_time": "2024-10-01T03:37:24.166800Z"
    }
   },
   "cell_type": "code",
   "source": [
    "base_model = XGBClassifier(objective = 'binary:logistic',\n",
    "                               eval_metric='auc',\n",
    "                               booster='gbtree',                               \n",
    "                               nthread=-1,\n",
    "                               n_estimators=500,\n",
    "                               learning_rate=0.1,\n",
    "                               gamma = 0,\n",
    "                               max_depth=5,\n",
    "                               min_child_weight=1,\n",
    "                               max_delta_step=1,\n",
    "                               subsample=0.8,\n",
    "                               colsample_bytree=0.8,\n",
    "                               seed=24\n",
    "                               )\n",
    "print(base_model.get_params()['n_estimators'])"
   ],
   "id": "76356b977c6f8c74",
   "outputs": [
    {
     "name": "stdout",
     "output_type": "stream",
     "text": [
      "500\n"
     ]
    }
   ],
   "execution_count": 88
  },
  {
   "metadata": {
    "ExecuteTime": {
     "end_time": "2024-10-01T03:37:24.179800Z",
     "start_time": "2024-10-01T03:37:24.172801Z"
    }
   },
   "cell_type": "code",
   "source": [
    "def model_cv(bst,X,y,nfold = 5, early_stopping_rounds = 30):\n",
    "    params = bst.get_xgb_params()\n",
    "    full_params = bst.get_params()\n",
    "    extra_params = {k : full_params[k] for k in full_params if k not in params}\n",
    "    # print(params)\n",
    "    # print('-------------------')\n",
    "    # print(bst.get_params())\n",
    "    print(extra_params)\n",
    "    dtrain = xgb.DMatrix(X,label=y)\n",
    "    cv_result = xgb.cv(params,\n",
    "                       dtrain,\n",
    "                       num_boost_round= bst.get_params()['n_estimators'],\n",
    "                       nfold=nfold,\n",
    "                       early_stopping_rounds=early_stopping_rounds,)\n",
    "    print('best round of iteration/n_estimator:', cv_result.shape[0])\n",
    "    print('base_score:',cv_result.iloc[len(cv_result)-1,:])\n",
    "    return cv_result"
   ],
   "id": "68824347b3a6955a",
   "outputs": [],
   "execution_count": 89
  },
  {
   "metadata": {
    "ExecuteTime": {
     "end_time": "2024-10-01T03:37:24.215825Z",
     "start_time": "2024-10-01T03:37:24.211801Z"
    }
   },
   "cell_type": "code",
   "source": [
    "def model_fit(bst,X_train,y_train,X_test,y_test,cv_result):\n",
    "    bst.set_params(n_estimators=cv_result.shape[0])\n",
    "    bst.fit(X_train,y_train)\n",
    "    train_pred_prob = bst.predict_proba(X_train)\n",
    "    train_score = metrics.roc_auc_score(y_train,train_pred_prob[:,1])\n",
    "    print(f'train score: {train_score}')\n",
    "    test_pred_prob = bst.predict_proba(X_test)\n",
    "    test_score = metrics.roc_auc_score(y_test,test_pred_prob[:,1])\n",
    "    print(f'test score: {test_score}')"
   ],
   "id": "cdf96a12b397d927",
   "outputs": [],
   "execution_count": 90
  },
  {
   "metadata": {
    "ExecuteTime": {
     "end_time": "2024-10-01T03:37:25.184537Z",
     "start_time": "2024-10-01T03:37:24.236317Z"
    }
   },
   "cell_type": "code",
   "source": [
    "cv_results = model_cv(base_model,X_train,y_train)\n",
    "model_fit(base_model,X_train,y_train,X_test,y_test,cv_results)"
   ],
   "id": "535dfb88a0f7d959",
   "outputs": [
    {
     "name": "stdout",
     "output_type": "stream",
     "text": [
      "{'callbacks': None, 'early_stopping_rounds': None, 'enable_categorical': False, 'feature_types': None, 'importance_type': None, 'missing': nan, 'n_estimators': 500}\n",
      "best round of iteration/n_estimator: 157\n",
      "base_score: train-auc-mean    0.999919\n",
      "train-auc-std     0.000042\n",
      "test-auc-mean     0.880227\n",
      "test-auc-std      0.036848\n",
      "Name: 156, dtype: float64\n",
      "train score: 0.9994967102032799\n",
      "test score: 0.828768472906404\n"
     ]
    }
   ],
   "execution_count": 91
  },
  {
   "metadata": {
    "ExecuteTime": {
     "end_time": "2024-10-01T03:37:25.193540Z",
     "start_time": "2024-10-01T03:37:25.186537Z"
    }
   },
   "cell_type": "code",
   "source": "print(cv_results)",
   "id": "1972b8d27a003cbf",
   "outputs": [
    {
     "name": "stdout",
     "output_type": "stream",
     "text": [
      "     train-auc-mean  train-auc-std  test-auc-mean  test-auc-std\n",
      "0          0.834198       0.007410       0.752015      0.031718\n",
      "1          0.871699       0.005346       0.795939      0.030709\n",
      "2          0.879701       0.006901       0.801498      0.035865\n",
      "3          0.890815       0.005964       0.810467      0.037818\n",
      "4          0.894213       0.004330       0.817049      0.040078\n",
      "..              ...            ...            ...           ...\n",
      "152        0.999886       0.000048       0.880019      0.036558\n",
      "153        0.999898       0.000049       0.879925      0.036469\n",
      "154        0.999904       0.000053       0.879992      0.036603\n",
      "155        0.999911       0.000052       0.879843      0.036558\n",
      "156        0.999919       0.000042       0.880227      0.036848\n",
      "\n",
      "[157 rows x 4 columns]\n"
     ]
    }
   ],
   "execution_count": 92
  },
  {
   "metadata": {
    "ExecuteTime": {
     "end_time": "2024-10-01T03:37:30.131548Z",
     "start_time": "2024-10-01T03:37:25.194539Z"
    }
   },
   "cell_type": "code",
   "source": [
    "param1 = {\n",
    "    'max_depth': range(3,10,2),\n",
    "    'min_child_weight': range(1,6,2),\n",
    "}\n",
    "# custom_scorer = metrics.make_scorer(metrics.roc_auc_score, needs_proba=True)\n",
    "bst2 = XGBClassifier(objective = 'binary:logistic',\n",
    "                               eval_metric='auc',\n",
    "                               booster='gbtree',                               \n",
    "                               nthread=-1,\n",
    "                               n_estimators=138,\n",
    "                               learning_rate=0.1,\n",
    "                               gamma = 0,\n",
    "                               max_depth=5,\n",
    "                               min_child_weight=1,\n",
    "                               max_delta_step=1,\n",
    "                               subsample=0.8,\n",
    "                               colsample_bytree=0.8,\n",
    "                               seed=24\n",
    "                               )\n",
    "\n",
    "grid_search1 = GridSearchCV(bst2,param1,cv=5,scoring='roc_auc')\n",
    "grid_search1.fit(X_train,y_train)"
   ],
   "id": "8c72e9264564ba65",
   "outputs": [
    {
     "name": "stderr",
     "output_type": "stream",
     "text": [
      "F:\\envs\\ML\\lib\\site-packages\\numpy\\ma\\core.py:2846: RuntimeWarning: invalid value encountered in cast\n",
      "  _data = np.array(data, dtype=dtype, copy=copy,\n"
     ]
    },
    {
     "data": {
      "text/plain": [
       "GridSearchCV(cv=5,\n",
       "             estimator=XGBClassifier(base_score=None, booster='gbtree',\n",
       "                                     callbacks=None, colsample_bylevel=None,\n",
       "                                     colsample_bynode=None,\n",
       "                                     colsample_bytree=0.8, device=None,\n",
       "                                     early_stopping_rounds=None,\n",
       "                                     enable_categorical=False,\n",
       "                                     eval_metric='auc', feature_types=None,\n",
       "                                     gamma=0, grow_policy=None,\n",
       "                                     importance_type=None,\n",
       "                                     interaction_constraints=None,\n",
       "                                     learning_rate=0.1, max_bin=None,\n",
       "                                     max_cat_threshold=None,\n",
       "                                     max_cat_to_onehot=None, max_delta_step=1,\n",
       "                                     max_depth=5, max_leaves=None,\n",
       "                                     min_child_weight=1, missing=nan,\n",
       "                                     monotone_constraints=None,\n",
       "                                     multi_strategy=None, n_estimators=138,\n",
       "                                     n_jobs=None, nthread=-1,\n",
       "                                     num_parallel_tree=None, ...),\n",
       "             param_grid={'max_depth': range(3, 10, 2),\n",
       "                         'min_child_weight': range(1, 6, 2)},\n",
       "             scoring='roc_auc')"
      ],
      "text/html": [
       "<style>#sk-container-id-11 {\n",
       "  /* Definition of color scheme common for light and dark mode */\n",
       "  --sklearn-color-text: black;\n",
       "  --sklearn-color-line: gray;\n",
       "  /* Definition of color scheme for unfitted estimators */\n",
       "  --sklearn-color-unfitted-level-0: #fff5e6;\n",
       "  --sklearn-color-unfitted-level-1: #f6e4d2;\n",
       "  --sklearn-color-unfitted-level-2: #ffe0b3;\n",
       "  --sklearn-color-unfitted-level-3: chocolate;\n",
       "  /* Definition of color scheme for fitted estimators */\n",
       "  --sklearn-color-fitted-level-0: #f0f8ff;\n",
       "  --sklearn-color-fitted-level-1: #d4ebff;\n",
       "  --sklearn-color-fitted-level-2: #b3dbfd;\n",
       "  --sklearn-color-fitted-level-3: cornflowerblue;\n",
       "\n",
       "  /* Specific color for light theme */\n",
       "  --sklearn-color-text-on-default-background: var(--sg-text-color, var(--theme-code-foreground, var(--jp-content-font-color1, black)));\n",
       "  --sklearn-color-background: var(--sg-background-color, var(--theme-background, var(--jp-layout-color0, white)));\n",
       "  --sklearn-color-border-box: var(--sg-text-color, var(--theme-code-foreground, var(--jp-content-font-color1, black)));\n",
       "  --sklearn-color-icon: #696969;\n",
       "\n",
       "  @media (prefers-color-scheme: dark) {\n",
       "    /* Redefinition of color scheme for dark theme */\n",
       "    --sklearn-color-text-on-default-background: var(--sg-text-color, var(--theme-code-foreground, var(--jp-content-font-color1, white)));\n",
       "    --sklearn-color-background: var(--sg-background-color, var(--theme-background, var(--jp-layout-color0, #111)));\n",
       "    --sklearn-color-border-box: var(--sg-text-color, var(--theme-code-foreground, var(--jp-content-font-color1, white)));\n",
       "    --sklearn-color-icon: #878787;\n",
       "  }\n",
       "}\n",
       "\n",
       "#sk-container-id-11 {\n",
       "  color: var(--sklearn-color-text);\n",
       "}\n",
       "\n",
       "#sk-container-id-11 pre {\n",
       "  padding: 0;\n",
       "}\n",
       "\n",
       "#sk-container-id-11 input.sk-hidden--visually {\n",
       "  border: 0;\n",
       "  clip: rect(1px 1px 1px 1px);\n",
       "  clip: rect(1px, 1px, 1px, 1px);\n",
       "  height: 1px;\n",
       "  margin: -1px;\n",
       "  overflow: hidden;\n",
       "  padding: 0;\n",
       "  position: absolute;\n",
       "  width: 1px;\n",
       "}\n",
       "\n",
       "#sk-container-id-11 div.sk-dashed-wrapped {\n",
       "  border: 1px dashed var(--sklearn-color-line);\n",
       "  margin: 0 0.4em 0.5em 0.4em;\n",
       "  box-sizing: border-box;\n",
       "  padding-bottom: 0.4em;\n",
       "  background-color: var(--sklearn-color-background);\n",
       "}\n",
       "\n",
       "#sk-container-id-11 div.sk-container {\n",
       "  /* jupyter's `normalize.less` sets `[hidden] { display: none; }`\n",
       "     but bootstrap.min.css set `[hidden] { display: none !important; }`\n",
       "     so we also need the `!important` here to be able to override the\n",
       "     default hidden behavior on the sphinx rendered scikit-learn.org.\n",
       "     See: https://github.com/scikit-learn/scikit-learn/issues/21755 */\n",
       "  display: inline-block !important;\n",
       "  position: relative;\n",
       "}\n",
       "\n",
       "#sk-container-id-11 div.sk-text-repr-fallback {\n",
       "  display: none;\n",
       "}\n",
       "\n",
       "div.sk-parallel-item,\n",
       "div.sk-serial,\n",
       "div.sk-item {\n",
       "  /* draw centered vertical line to link estimators */\n",
       "  background-image: linear-gradient(var(--sklearn-color-text-on-default-background), var(--sklearn-color-text-on-default-background));\n",
       "  background-size: 2px 100%;\n",
       "  background-repeat: no-repeat;\n",
       "  background-position: center center;\n",
       "}\n",
       "\n",
       "/* Parallel-specific style estimator block */\n",
       "\n",
       "#sk-container-id-11 div.sk-parallel-item::after {\n",
       "  content: \"\";\n",
       "  width: 100%;\n",
       "  border-bottom: 2px solid var(--sklearn-color-text-on-default-background);\n",
       "  flex-grow: 1;\n",
       "}\n",
       "\n",
       "#sk-container-id-11 div.sk-parallel {\n",
       "  display: flex;\n",
       "  align-items: stretch;\n",
       "  justify-content: center;\n",
       "  background-color: var(--sklearn-color-background);\n",
       "  position: relative;\n",
       "}\n",
       "\n",
       "#sk-container-id-11 div.sk-parallel-item {\n",
       "  display: flex;\n",
       "  flex-direction: column;\n",
       "}\n",
       "\n",
       "#sk-container-id-11 div.sk-parallel-item:first-child::after {\n",
       "  align-self: flex-end;\n",
       "  width: 50%;\n",
       "}\n",
       "\n",
       "#sk-container-id-11 div.sk-parallel-item:last-child::after {\n",
       "  align-self: flex-start;\n",
       "  width: 50%;\n",
       "}\n",
       "\n",
       "#sk-container-id-11 div.sk-parallel-item:only-child::after {\n",
       "  width: 0;\n",
       "}\n",
       "\n",
       "/* Serial-specific style estimator block */\n",
       "\n",
       "#sk-container-id-11 div.sk-serial {\n",
       "  display: flex;\n",
       "  flex-direction: column;\n",
       "  align-items: center;\n",
       "  background-color: var(--sklearn-color-background);\n",
       "  padding-right: 1em;\n",
       "  padding-left: 1em;\n",
       "}\n",
       "\n",
       "\n",
       "/* Toggleable style: style used for estimator/Pipeline/ColumnTransformer box that is\n",
       "clickable and can be expanded/collapsed.\n",
       "- Pipeline and ColumnTransformer use this feature and define the default style\n",
       "- Estimators will overwrite some part of the style using the `sk-estimator` class\n",
       "*/\n",
       "\n",
       "/* Pipeline and ColumnTransformer style (default) */\n",
       "\n",
       "#sk-container-id-11 div.sk-toggleable {\n",
       "  /* Default theme specific background. It is overwritten whether we have a\n",
       "  specific estimator or a Pipeline/ColumnTransformer */\n",
       "  background-color: var(--sklearn-color-background);\n",
       "}\n",
       "\n",
       "/* Toggleable label */\n",
       "#sk-container-id-11 label.sk-toggleable__label {\n",
       "  cursor: pointer;\n",
       "  display: block;\n",
       "  width: 100%;\n",
       "  margin-bottom: 0;\n",
       "  padding: 0.5em;\n",
       "  box-sizing: border-box;\n",
       "  text-align: center;\n",
       "}\n",
       "\n",
       "#sk-container-id-11 label.sk-toggleable__label-arrow:before {\n",
       "  /* Arrow on the left of the label */\n",
       "  content: \"▸\";\n",
       "  float: left;\n",
       "  margin-right: 0.25em;\n",
       "  color: var(--sklearn-color-icon);\n",
       "}\n",
       "\n",
       "#sk-container-id-11 label.sk-toggleable__label-arrow:hover:before {\n",
       "  color: var(--sklearn-color-text);\n",
       "}\n",
       "\n",
       "/* Toggleable content - dropdown */\n",
       "\n",
       "#sk-container-id-11 div.sk-toggleable__content {\n",
       "  max-height: 0;\n",
       "  max-width: 0;\n",
       "  overflow: hidden;\n",
       "  text-align: left;\n",
       "  /* unfitted */\n",
       "  background-color: var(--sklearn-color-unfitted-level-0);\n",
       "}\n",
       "\n",
       "#sk-container-id-11 div.sk-toggleable__content.fitted {\n",
       "  /* fitted */\n",
       "  background-color: var(--sklearn-color-fitted-level-0);\n",
       "}\n",
       "\n",
       "#sk-container-id-11 div.sk-toggleable__content pre {\n",
       "  margin: 0.2em;\n",
       "  border-radius: 0.25em;\n",
       "  color: var(--sklearn-color-text);\n",
       "  /* unfitted */\n",
       "  background-color: var(--sklearn-color-unfitted-level-0);\n",
       "}\n",
       "\n",
       "#sk-container-id-11 div.sk-toggleable__content.fitted pre {\n",
       "  /* unfitted */\n",
       "  background-color: var(--sklearn-color-fitted-level-0);\n",
       "}\n",
       "\n",
       "#sk-container-id-11 input.sk-toggleable__control:checked~div.sk-toggleable__content {\n",
       "  /* Expand drop-down */\n",
       "  max-height: 200px;\n",
       "  max-width: 100%;\n",
       "  overflow: auto;\n",
       "}\n",
       "\n",
       "#sk-container-id-11 input.sk-toggleable__control:checked~label.sk-toggleable__label-arrow:before {\n",
       "  content: \"▾\";\n",
       "}\n",
       "\n",
       "/* Pipeline/ColumnTransformer-specific style */\n",
       "\n",
       "#sk-container-id-11 div.sk-label input.sk-toggleable__control:checked~label.sk-toggleable__label {\n",
       "  color: var(--sklearn-color-text);\n",
       "  background-color: var(--sklearn-color-unfitted-level-2);\n",
       "}\n",
       "\n",
       "#sk-container-id-11 div.sk-label.fitted input.sk-toggleable__control:checked~label.sk-toggleable__label {\n",
       "  background-color: var(--sklearn-color-fitted-level-2);\n",
       "}\n",
       "\n",
       "/* Estimator-specific style */\n",
       "\n",
       "/* Colorize estimator box */\n",
       "#sk-container-id-11 div.sk-estimator input.sk-toggleable__control:checked~label.sk-toggleable__label {\n",
       "  /* unfitted */\n",
       "  background-color: var(--sklearn-color-unfitted-level-2);\n",
       "}\n",
       "\n",
       "#sk-container-id-11 div.sk-estimator.fitted input.sk-toggleable__control:checked~label.sk-toggleable__label {\n",
       "  /* fitted */\n",
       "  background-color: var(--sklearn-color-fitted-level-2);\n",
       "}\n",
       "\n",
       "#sk-container-id-11 div.sk-label label.sk-toggleable__label,\n",
       "#sk-container-id-11 div.sk-label label {\n",
       "  /* The background is the default theme color */\n",
       "  color: var(--sklearn-color-text-on-default-background);\n",
       "}\n",
       "\n",
       "/* On hover, darken the color of the background */\n",
       "#sk-container-id-11 div.sk-label:hover label.sk-toggleable__label {\n",
       "  color: var(--sklearn-color-text);\n",
       "  background-color: var(--sklearn-color-unfitted-level-2);\n",
       "}\n",
       "\n",
       "/* Label box, darken color on hover, fitted */\n",
       "#sk-container-id-11 div.sk-label.fitted:hover label.sk-toggleable__label.fitted {\n",
       "  color: var(--sklearn-color-text);\n",
       "  background-color: var(--sklearn-color-fitted-level-2);\n",
       "}\n",
       "\n",
       "/* Estimator label */\n",
       "\n",
       "#sk-container-id-11 div.sk-label label {\n",
       "  font-family: monospace;\n",
       "  font-weight: bold;\n",
       "  display: inline-block;\n",
       "  line-height: 1.2em;\n",
       "}\n",
       "\n",
       "#sk-container-id-11 div.sk-label-container {\n",
       "  text-align: center;\n",
       "}\n",
       "\n",
       "/* Estimator-specific */\n",
       "#sk-container-id-11 div.sk-estimator {\n",
       "  font-family: monospace;\n",
       "  border: 1px dotted var(--sklearn-color-border-box);\n",
       "  border-radius: 0.25em;\n",
       "  box-sizing: border-box;\n",
       "  margin-bottom: 0.5em;\n",
       "  /* unfitted */\n",
       "  background-color: var(--sklearn-color-unfitted-level-0);\n",
       "}\n",
       "\n",
       "#sk-container-id-11 div.sk-estimator.fitted {\n",
       "  /* fitted */\n",
       "  background-color: var(--sklearn-color-fitted-level-0);\n",
       "}\n",
       "\n",
       "/* on hover */\n",
       "#sk-container-id-11 div.sk-estimator:hover {\n",
       "  /* unfitted */\n",
       "  background-color: var(--sklearn-color-unfitted-level-2);\n",
       "}\n",
       "\n",
       "#sk-container-id-11 div.sk-estimator.fitted:hover {\n",
       "  /* fitted */\n",
       "  background-color: var(--sklearn-color-fitted-level-2);\n",
       "}\n",
       "\n",
       "/* Specification for estimator info (e.g. \"i\" and \"?\") */\n",
       "\n",
       "/* Common style for \"i\" and \"?\" */\n",
       "\n",
       ".sk-estimator-doc-link,\n",
       "a:link.sk-estimator-doc-link,\n",
       "a:visited.sk-estimator-doc-link {\n",
       "  float: right;\n",
       "  font-size: smaller;\n",
       "  line-height: 1em;\n",
       "  font-family: monospace;\n",
       "  background-color: var(--sklearn-color-background);\n",
       "  border-radius: 1em;\n",
       "  height: 1em;\n",
       "  width: 1em;\n",
       "  text-decoration: none !important;\n",
       "  margin-left: 1ex;\n",
       "  /* unfitted */\n",
       "  border: var(--sklearn-color-unfitted-level-1) 1pt solid;\n",
       "  color: var(--sklearn-color-unfitted-level-1);\n",
       "}\n",
       "\n",
       ".sk-estimator-doc-link.fitted,\n",
       "a:link.sk-estimator-doc-link.fitted,\n",
       "a:visited.sk-estimator-doc-link.fitted {\n",
       "  /* fitted */\n",
       "  border: var(--sklearn-color-fitted-level-1) 1pt solid;\n",
       "  color: var(--sklearn-color-fitted-level-1);\n",
       "}\n",
       "\n",
       "/* On hover */\n",
       "div.sk-estimator:hover .sk-estimator-doc-link:hover,\n",
       ".sk-estimator-doc-link:hover,\n",
       "div.sk-label-container:hover .sk-estimator-doc-link:hover,\n",
       ".sk-estimator-doc-link:hover {\n",
       "  /* unfitted */\n",
       "  background-color: var(--sklearn-color-unfitted-level-3);\n",
       "  color: var(--sklearn-color-background);\n",
       "  text-decoration: none;\n",
       "}\n",
       "\n",
       "div.sk-estimator.fitted:hover .sk-estimator-doc-link.fitted:hover,\n",
       ".sk-estimator-doc-link.fitted:hover,\n",
       "div.sk-label-container:hover .sk-estimator-doc-link.fitted:hover,\n",
       ".sk-estimator-doc-link.fitted:hover {\n",
       "  /* fitted */\n",
       "  background-color: var(--sklearn-color-fitted-level-3);\n",
       "  color: var(--sklearn-color-background);\n",
       "  text-decoration: none;\n",
       "}\n",
       "\n",
       "/* Span, style for the box shown on hovering the info icon */\n",
       ".sk-estimator-doc-link span {\n",
       "  display: none;\n",
       "  z-index: 9999;\n",
       "  position: relative;\n",
       "  font-weight: normal;\n",
       "  right: .2ex;\n",
       "  padding: .5ex;\n",
       "  margin: .5ex;\n",
       "  width: min-content;\n",
       "  min-width: 20ex;\n",
       "  max-width: 50ex;\n",
       "  color: var(--sklearn-color-text);\n",
       "  box-shadow: 2pt 2pt 4pt #999;\n",
       "  /* unfitted */\n",
       "  background: var(--sklearn-color-unfitted-level-0);\n",
       "  border: .5pt solid var(--sklearn-color-unfitted-level-3);\n",
       "}\n",
       "\n",
       ".sk-estimator-doc-link.fitted span {\n",
       "  /* fitted */\n",
       "  background: var(--sklearn-color-fitted-level-0);\n",
       "  border: var(--sklearn-color-fitted-level-3);\n",
       "}\n",
       "\n",
       ".sk-estimator-doc-link:hover span {\n",
       "  display: block;\n",
       "}\n",
       "\n",
       "/* \"?\"-specific style due to the `<a>` HTML tag */\n",
       "\n",
       "#sk-container-id-11 a.estimator_doc_link {\n",
       "  float: right;\n",
       "  font-size: 1rem;\n",
       "  line-height: 1em;\n",
       "  font-family: monospace;\n",
       "  background-color: var(--sklearn-color-background);\n",
       "  border-radius: 1rem;\n",
       "  height: 1rem;\n",
       "  width: 1rem;\n",
       "  text-decoration: none;\n",
       "  /* unfitted */\n",
       "  color: var(--sklearn-color-unfitted-level-1);\n",
       "  border: var(--sklearn-color-unfitted-level-1) 1pt solid;\n",
       "}\n",
       "\n",
       "#sk-container-id-11 a.estimator_doc_link.fitted {\n",
       "  /* fitted */\n",
       "  border: var(--sklearn-color-fitted-level-1) 1pt solid;\n",
       "  color: var(--sklearn-color-fitted-level-1);\n",
       "}\n",
       "\n",
       "/* On hover */\n",
       "#sk-container-id-11 a.estimator_doc_link:hover {\n",
       "  /* unfitted */\n",
       "  background-color: var(--sklearn-color-unfitted-level-3);\n",
       "  color: var(--sklearn-color-background);\n",
       "  text-decoration: none;\n",
       "}\n",
       "\n",
       "#sk-container-id-11 a.estimator_doc_link.fitted:hover {\n",
       "  /* fitted */\n",
       "  background-color: var(--sklearn-color-fitted-level-3);\n",
       "}\n",
       "</style><div id=\"sk-container-id-11\" class=\"sk-top-container\"><div class=\"sk-text-repr-fallback\"><pre>GridSearchCV(cv=5,\n",
       "             estimator=XGBClassifier(base_score=None, booster=&#x27;gbtree&#x27;,\n",
       "                                     callbacks=None, colsample_bylevel=None,\n",
       "                                     colsample_bynode=None,\n",
       "                                     colsample_bytree=0.8, device=None,\n",
       "                                     early_stopping_rounds=None,\n",
       "                                     enable_categorical=False,\n",
       "                                     eval_metric=&#x27;auc&#x27;, feature_types=None,\n",
       "                                     gamma=0, grow_policy=None,\n",
       "                                     importance_type=None,\n",
       "                                     interaction_constraints=None,\n",
       "                                     learning_rate=0.1, max_bin=None,\n",
       "                                     max_cat_threshold=None,\n",
       "                                     max_cat_to_onehot=None, max_delta_step=1,\n",
       "                                     max_depth=5, max_leaves=None,\n",
       "                                     min_child_weight=1, missing=nan,\n",
       "                                     monotone_constraints=None,\n",
       "                                     multi_strategy=None, n_estimators=138,\n",
       "                                     n_jobs=None, nthread=-1,\n",
       "                                     num_parallel_tree=None, ...),\n",
       "             param_grid={&#x27;max_depth&#x27;: range(3, 10, 2),\n",
       "                         &#x27;min_child_weight&#x27;: range(1, 6, 2)},\n",
       "             scoring=&#x27;roc_auc&#x27;)</pre><b>In a Jupyter environment, please rerun this cell to show the HTML representation or trust the notebook. <br />On GitHub, the HTML representation is unable to render, please try loading this page with nbviewer.org.</b></div><div class=\"sk-container\" hidden><div class=\"sk-item sk-dashed-wrapped\"><div class=\"sk-label-container\"><div class=\"sk-label fitted sk-toggleable\"><input class=\"sk-toggleable__control sk-hidden--visually\" id=\"sk-estimator-id-31\" type=\"checkbox\" ><label for=\"sk-estimator-id-31\" class=\"sk-toggleable__label fitted sk-toggleable__label-arrow fitted\">&nbsp;&nbsp;GridSearchCV<a class=\"sk-estimator-doc-link fitted\" rel=\"noreferrer\" target=\"_blank\" href=\"https://scikit-learn.org/1.5/modules/generated/sklearn.model_selection.GridSearchCV.html\">?<span>Documentation for GridSearchCV</span></a><span class=\"sk-estimator-doc-link fitted\">i<span>Fitted</span></span></label><div class=\"sk-toggleable__content fitted\"><pre>GridSearchCV(cv=5,\n",
       "             estimator=XGBClassifier(base_score=None, booster=&#x27;gbtree&#x27;,\n",
       "                                     callbacks=None, colsample_bylevel=None,\n",
       "                                     colsample_bynode=None,\n",
       "                                     colsample_bytree=0.8, device=None,\n",
       "                                     early_stopping_rounds=None,\n",
       "                                     enable_categorical=False,\n",
       "                                     eval_metric=&#x27;auc&#x27;, feature_types=None,\n",
       "                                     gamma=0, grow_policy=None,\n",
       "                                     importance_type=None,\n",
       "                                     interaction_constraints=None,\n",
       "                                     learning_rate=0.1, max_bin=None,\n",
       "                                     max_cat_threshold=None,\n",
       "                                     max_cat_to_onehot=None, max_delta_step=1,\n",
       "                                     max_depth=5, max_leaves=None,\n",
       "                                     min_child_weight=1, missing=nan,\n",
       "                                     monotone_constraints=None,\n",
       "                                     multi_strategy=None, n_estimators=138,\n",
       "                                     n_jobs=None, nthread=-1,\n",
       "                                     num_parallel_tree=None, ...),\n",
       "             param_grid={&#x27;max_depth&#x27;: range(3, 10, 2),\n",
       "                         &#x27;min_child_weight&#x27;: range(1, 6, 2)},\n",
       "             scoring=&#x27;roc_auc&#x27;)</pre></div> </div></div><div class=\"sk-parallel\"><div class=\"sk-parallel-item\"><div class=\"sk-item\"><div class=\"sk-label-container\"><div class=\"sk-label fitted sk-toggleable\"><input class=\"sk-toggleable__control sk-hidden--visually\" id=\"sk-estimator-id-32\" type=\"checkbox\" ><label for=\"sk-estimator-id-32\" class=\"sk-toggleable__label fitted sk-toggleable__label-arrow fitted\">best_estimator_: XGBClassifier</label><div class=\"sk-toggleable__content fitted\"><pre>XGBClassifier(base_score=None, booster=&#x27;gbtree&#x27;, callbacks=None,\n",
       "              colsample_bylevel=None, colsample_bynode=None,\n",
       "              colsample_bytree=0.8, device=None, early_stopping_rounds=None,\n",
       "              enable_categorical=False, eval_metric=&#x27;auc&#x27;, feature_types=None,\n",
       "              gamma=0, grow_policy=None, importance_type=None,\n",
       "              interaction_constraints=None, learning_rate=0.1, max_bin=None,\n",
       "              max_cat_threshold=None, max_cat_to_onehot=None, max_delta_step=1,\n",
       "              max_depth=9, max_leaves=None, min_child_weight=1, missing=nan,\n",
       "              monotone_constraints=None, multi_strategy=None, n_estimators=138,\n",
       "              n_jobs=None, nthread=-1, num_parallel_tree=None, ...)</pre></div> </div></div><div class=\"sk-serial\"><div class=\"sk-item\"><div class=\"sk-estimator fitted sk-toggleable\"><input class=\"sk-toggleable__control sk-hidden--visually\" id=\"sk-estimator-id-33\" type=\"checkbox\" ><label for=\"sk-estimator-id-33\" class=\"sk-toggleable__label fitted sk-toggleable__label-arrow fitted\">XGBClassifier</label><div class=\"sk-toggleable__content fitted\"><pre>XGBClassifier(base_score=None, booster=&#x27;gbtree&#x27;, callbacks=None,\n",
       "              colsample_bylevel=None, colsample_bynode=None,\n",
       "              colsample_bytree=0.8, device=None, early_stopping_rounds=None,\n",
       "              enable_categorical=False, eval_metric=&#x27;auc&#x27;, feature_types=None,\n",
       "              gamma=0, grow_policy=None, importance_type=None,\n",
       "              interaction_constraints=None, learning_rate=0.1, max_bin=None,\n",
       "              max_cat_threshold=None, max_cat_to_onehot=None, max_delta_step=1,\n",
       "              max_depth=9, max_leaves=None, min_child_weight=1, missing=nan,\n",
       "              monotone_constraints=None, multi_strategy=None, n_estimators=138,\n",
       "              n_jobs=None, nthread=-1, num_parallel_tree=None, ...)</pre></div> </div></div></div></div></div></div></div></div></div>"
      ]
     },
     "execution_count": 93,
     "metadata": {},
     "output_type": "execute_result"
    }
   ],
   "execution_count": 93
  },
  {
   "metadata": {
    "ExecuteTime": {
     "end_time": "2024-10-01T03:37:30.139651Z",
     "start_time": "2024-10-01T03:37:30.134612Z"
    }
   },
   "cell_type": "code",
   "source": "print(f'Best params: {grid_search1.best_params_} and best aoc score: {grid_search1.best_score_}')",
   "id": "883b17e566513659",
   "outputs": [
    {
     "name": "stdout",
     "output_type": "stream",
     "text": [
      "Best params: {'max_depth': 9, 'min_child_weight': 1} and best aoc score: 0.8880023479980228\n"
     ]
    }
   ],
   "execution_count": 94
  },
  {
   "metadata": {
    "ExecuteTime": {
     "end_time": "2024-10-01T03:37:33.352005Z",
     "start_time": "2024-10-01T03:37:30.140661Z"
    }
   },
   "cell_type": "code",
   "source": [
    "param2 = {\n",
    "    'max_depth': [7,8,9],\n",
    "    'min_child_weight': [1,2],\n",
    "}\n",
    "grid_search2 = GridSearchCV(bst2,param2,cv=5,scoring='roc_auc')\n",
    "grid_search2.fit(X_train,y_train)\n",
    "print(f'Best params: {grid_search2.best_params_} and best aoc score: {grid_search2.best_score_}')"
   ],
   "id": "e97152a345dd029c",
   "outputs": [
    {
     "name": "stdout",
     "output_type": "stream",
     "text": [
      "Best params: {'max_depth': 9, 'min_child_weight': 1} and best aoc score: 0.8880023479980228\n"
     ]
    }
   ],
   "execution_count": 95
  },
  {
   "metadata": {
    "ExecuteTime": {
     "end_time": "2024-10-01T03:42:55.762289Z",
     "start_time": "2024-10-01T03:42:50.307615Z"
    }
   },
   "cell_type": "code",
   "source": [
    "param3 = {\n",
    "    'gamma': [0.0,0.1,0.2,0.3,0.4,0.5,0.6,0.7,0.8,0.9]\n",
    "}\n",
    "bst3 = XGBClassifier(objective = 'binary:logistic',\n",
    "                     eval_metric='auc',\n",
    "                     booster='gbtree', \n",
    "                     nthread=-1,\n",
    "                     n_estimators=138,\n",
    "                     learning_rate=0.1,\n",
    "                     max_depth = 9,\n",
    "                     min_child_weight=1,\n",
    "                     max_delta_step=1,\n",
    "                     subsample=0.8,\n",
    "                     colsample_bytree=0.8,\n",
    "                     seed=24)\n",
    "grid_search3 = GridSearchCV(bst3,param3,cv=5,scoring='roc_auc')\n",
    "grid_search3.fit(X_train,y_train)\n",
    "print(f'Best params: {grid_search3.best_params_} and best aoc score: {grid_search3.best_score_}')"
   ],
   "id": "e6750c8da4242316",
   "outputs": [
    {
     "name": "stdout",
     "output_type": "stream",
     "text": [
      "Best params: {'gamma': 0.4} and best aoc score: 0.8901669344208271\n"
     ]
    }
   ],
   "execution_count": 107
  },
  {
   "metadata": {
    "ExecuteTime": {
     "end_time": "2024-10-01T03:54:29.705697Z",
     "start_time": "2024-10-01T03:54:28.875651Z"
    }
   },
   "cell_type": "code",
   "source": [
    "model2 = XGBClassifier(objective = 'binary:logistic',\n",
    "                     eval_metric='auc',\n",
    "                     booster='gbtree', \n",
    "                     nthread=-1,\n",
    "                     n_estimators=100,\n",
    "                     learning_rate=0.1,\n",
    "                     gamma = 0.4,\n",
    "                     max_depth = 9,\n",
    "                     min_child_weight=1,\n",
    "                     max_delta_step=1,\n",
    "                     subsample=0.8,\n",
    "                     colsample_bytree=0.8,\n",
    "                     seed=24)\n",
    "cv_results = model_cv(model2,X_train,y_train)\n",
    "model_fit(model2,X_train,y_train,X_test,y_test,cv_results)"
   ],
   "id": "4c809f9e480c7f58",
   "outputs": [
    {
     "name": "stdout",
     "output_type": "stream",
     "text": [
      "{'callbacks': None, 'early_stopping_rounds': None, 'enable_categorical': False, 'feature_types': None, 'importance_type': None, 'missing': nan, 'n_estimators': 100}\n",
      "best round of iteration/n_estimator: 100\n",
      "base_score: train-auc-mean    0.999996\n",
      "train-auc-std     0.000004\n",
      "test-auc-mean     0.884944\n",
      "test-auc-std      0.031054\n",
      "Name: 99, dtype: float64\n",
      "train score: 1.0\n",
      "test score: 0.8401576354679802\n"
     ]
    }
   ],
   "execution_count": 127
  },
  {
   "metadata": {
    "ExecuteTime": {
     "end_time": "2024-10-01T03:46:38.403731Z",
     "start_time": "2024-10-01T03:46:23.155806Z"
    }
   },
   "cell_type": "code",
   "source": [
    "param4 = {\n",
    "    'subsample' : [ x/10 for x in range(6,11)],\n",
    "    'colsample_bytree': [x/10 for x in range(6,11)]\n",
    "}\n",
    "bst4 = XGBClassifier(objective = 'binary:logistic',\n",
    "                     eval_metric='auc',\n",
    "                     booster='gbtree', \n",
    "                     nthread=-1,\n",
    "                     n_estimators=138,\n",
    "                     learning_rate=0.1,\n",
    "                     max_depth = 9,\n",
    "                     gamma = 0.4,\n",
    "                     min_child_weight=1,\n",
    "                     max_delta_step=1,\n",
    "                     subsample=0.8,\n",
    "                     colsample_bytree=0.8,\n",
    "                     seed=24)\n",
    "grid_search4 = GridSearchCV(bst4,param4,cv=5,scoring='roc_auc')\n",
    "grid_search4.fit(X_train,y_train)\n",
    "print(f'Best params: {grid_search4.best_params_} and best aoc score: {grid_search4.best_score_}')"
   ],
   "id": "d19bf95d0c0fdd6d",
   "outputs": [
    {
     "name": "stdout",
     "output_type": "stream",
     "text": [
      "Best params: {'colsample_bytree': 0.8, 'subsample': 0.8} and best aoc score: 0.8901669344208271\n"
     ]
    }
   ],
   "execution_count": 110
  },
  {
   "metadata": {
    "ExecuteTime": {
     "end_time": "2024-10-01T03:53:15.591133Z",
     "start_time": "2024-10-01T03:52:56.757186Z"
    }
   },
   "cell_type": "code",
   "source": [
    "param5 = {\n",
    "    'subsample' : [ x/100 for x in range(75,90,5)],\n",
    "    'colsample_bytree': [x/100 for x in range(75,90,5)]\n",
    "}\n",
    "bst5 = XGBClassifier(objective = 'binary:logistic',\n",
    "                     eval_metric='auc',\n",
    "                     booster='gbtree', \n",
    "                     nthread=-1,\n",
    "                     n_estimators=153,\n",
    "                     learning_rate=0.1,\n",
    "                     gamma = 0.4,\n",
    "                     max_depth = 9,\n",
    "                     min_child_weight=1,\n",
    "                     max_delta_step=1,\n",
    "                     subsample=0.8,\n",
    "                     colsample_bytree=0.8,\n",
    "                     seed=24)\n",
    "grid_search4 = GridSearchCV(bst4,param4,cv=5,scoring='roc_auc')\n",
    "grid_search4.fit(X_train,y_train)\n",
    "print(f'Best params: {grid_search4.best_params_} and best aoc score: {grid_search4.best_score_}')"
   ],
   "id": "3c712998302751bf",
   "outputs": [
    {
     "name": "stdout",
     "output_type": "stream",
     "text": [
      "Best params: {'colsample_bytree': 0.8, 'subsample': 0.8} and best aoc score: 0.8901669344208271\n"
     ]
    }
   ],
   "execution_count": 121
  },
  {
   "metadata": {
    "ExecuteTime": {
     "end_time": "2024-10-01T03:53:32.176551Z",
     "start_time": "2024-10-01T03:53:28.858430Z"
    }
   },
   "cell_type": "code",
   "source": [
    "param6 = {\n",
    "    'reg_alpha' :[0, 1e-5, 1e-2, 0.1, 1]\n",
    "}\n",
    "\n",
    "bst6 = XGBClassifier(objective = 'binary:logistic',\n",
    "                     eval_metric='auc',\n",
    "                     booster='gbtree', \n",
    "                     nthread=-1,\n",
    "                     n_estimators=153,\n",
    "                     learning_rate=0.1,\n",
    "                     gamma = 0.4,\n",
    "                     max_depth = 9,\n",
    "                     min_child_weight=1,\n",
    "                     max_delta_step=1,\n",
    "                     subsample=0.8,\n",
    "                     colsample_bytree=0.8,\n",
    "                     seed=24)\n",
    "grid_search4 = GridSearchCV(bst6,param6,cv=5,scoring='roc_auc')\n",
    "grid_search4.fit(X_train,y_train)\n",
    "print(f'Best params: {grid_search4.best_params_} and best aoc score: {grid_search4.best_score_}')"
   ],
   "id": "682b154d241a33ac",
   "outputs": [
    {
     "name": "stdout",
     "output_type": "stream",
     "text": [
      "Best params: {'reg_alpha': 0} and best aoc score: 0.889812675070028\n"
     ]
    }
   ],
   "execution_count": 123
  },
  {
   "metadata": {
    "ExecuteTime": {
     "end_time": "2024-10-01T03:53:38.549069Z",
     "start_time": "2024-10-01T03:53:35.995778Z"
    }
   },
   "cell_type": "code",
   "source": [
    "param7 = {\n",
    "    'reg_alpha' :[0, 1e-08, 1e-07, 1e-06]\n",
    "}\n",
    "bst7 = XGBClassifier(objective = 'binary:logistic',\n",
    "                     eval_metric='auc',\n",
    "                     booster='gbtree', \n",
    "                     nthread=-1,\n",
    "                     n_estimators=153,\n",
    "                     learning_rate=0.1,\n",
    "                     gamma = 0.4,\n",
    "                     max_depth = 9,\n",
    "                     min_child_weight=1,\n",
    "                     max_delta_step=1,\n",
    "                     subsample=0.8,\n",
    "                     colsample_bytree=0.8,\n",
    "                     seed=24)\n",
    "grid_search4 = GridSearchCV(bst7,param7,cv=5,scoring='roc_auc')\n",
    "grid_search4.fit(X_train,y_train)\n",
    "print(f'Best params: {grid_search4.best_params_} and best aoc score: {grid_search4.best_score_}')"
   ],
   "id": "1f401c6422574236",
   "outputs": [
    {
     "name": "stdout",
     "output_type": "stream",
     "text": [
      "Best params: {'reg_alpha': 0} and best aoc score: 0.889812675070028\n"
     ]
    }
   ],
   "execution_count": 124
  },
  {
   "metadata": {
    "ExecuteTime": {
     "end_time": "2024-10-01T03:57:10.293535Z",
     "start_time": "2024-10-01T03:57:09.273838Z"
    }
   },
   "cell_type": "code",
   "source": [
    "model3 = XGBClassifier(objective = 'binary:logistic',\n",
    "                     eval_metric='auc',\n",
    "                     booster='gbtree', \n",
    "                     nthread=-1,\n",
    "                     n_estimators=1000,\n",
    "                     learning_rate=0.08,\n",
    "                     gamma = 0.4,\n",
    "                     max_depth = 9,\n",
    "                     min_child_weight=1,\n",
    "                     max_delta_step=1,\n",
    "                     subsample=0.8,\n",
    "                     colsample_bytree=0.8,\n",
    "                     reg_alpha=0.0,\n",
    "                     seed=24)\n",
    "cv_results = model_cv(model3,X_train,y_train)\n",
    "model_fit(model2,X_train,y_train,X_test,y_test,cv_results)"
   ],
   "id": "1c36185147701cc4",
   "outputs": [
    {
     "name": "stdout",
     "output_type": "stream",
     "text": [
      "{'callbacks': None, 'early_stopping_rounds': None, 'enable_categorical': False, 'feature_types': None, 'importance_type': None, 'missing': nan, 'n_estimators': 1000}\n",
      "best round of iteration/n_estimator: 123\n",
      "base_score: train-auc-mean    0.999993\n",
      "train-auc-std     0.000007\n",
      "test-auc-mean     0.886947\n",
      "test-auc-std      0.032249\n",
      "Name: 122, dtype: float64\n",
      "train score: 1.0\n",
      "test score: 0.841576354679803\n"
     ]
    }
   ],
   "execution_count": 135
  },
  {
   "metadata": {
    "ExecuteTime": {
     "end_time": "2024-10-01T03:38:32.489492Z",
     "start_time": "2024-10-01T03:38:31.175379Z"
    }
   },
   "cell_type": "code",
   "source": [
    "base_cv_results = model_cv(base_model,X_train,y_train)\n",
    "model_fit(base_model,X_train,y_train,X_test,y_test,base_cv_results)"
   ],
   "id": "cebd22d0f519a281",
   "outputs": [
    {
     "name": "stdout",
     "output_type": "stream",
     "text": [
      "{'callbacks': None, 'early_stopping_rounds': None, 'enable_categorical': False, 'feature_types': None, 'importance_type': None, 'missing': nan, 'n_estimators': 157}\n",
      "best round of iteration/n_estimator: 157\n",
      "base_score: train-auc-mean    0.999919\n",
      "train-auc-std     0.000042\n",
      "test-auc-mean     0.880227\n",
      "test-auc-std      0.036848\n",
      "Name: 156, dtype: float64\n",
      "train score: 0.9994967102032799\n",
      "test score: 0.828768472906404\n"
     ]
    }
   ],
   "execution_count": 103
  },
  {
   "metadata": {
    "ExecuteTime": {
     "end_time": "2024-10-01T04:16:01.746943Z",
     "start_time": "2024-10-01T04:16:01.714068Z"
    }
   },
   "cell_type": "code",
   "source": "from bayes_opt import BayesianOptimization",
   "id": "98ce44f4af67365",
   "outputs": [],
   "execution_count": 138
  },
  {
   "metadata": {
    "ExecuteTime": {
     "end_time": "2024-10-01T04:33:32.633358Z",
     "start_time": "2024-10-01T04:33:32.624818Z"
    }
   },
   "cell_type": "code",
   "source": [
    "dtrain = xgb.DMatrix(X_train,label=y_train)\n",
    "def xbg_optimize(learning_rate,num_boost_round,min_child_weight,colsample_bytree,max_depth,subsample,gamma,alpha):\n",
    "    params = {}\n",
    "    params['learning_rate'] = float(learning_rate)\n",
    "    num_boost_round = int(num_boost_round)\n",
    "    params['min_child_weight'] = int(min_child_weight)\n",
    "    params['colsample_bytree'] = float(colsample_bytree)\n",
    "    params['gamma'] = float(gamma)\n",
    "    params['subsample'] = float(subsample)\n",
    "    params['max_depth'] = int(max_depth)\n",
    "    params['alpha'] = float(alpha)\n",
    "    params['objective'] = 'binary:logistic'\n",
    "    \n",
    "    cv_results = xgb.cv(params,dtrain,nfold=5,seed=24,num_boost_round=num_boost_round, early_stopping_rounds=30,metrics={'auc'})\n",
    "    return cv_results['test-auc-mean'].iloc[-1]"
   ],
   "id": "2e53114f7989149a",
   "outputs": [],
   "execution_count": 158
  },
  {
   "metadata": {
    "ExecuteTime": {
     "end_time": "2024-10-01T04:33:55.892984Z",
     "start_time": "2024-10-01T04:33:33.053546Z"
    }
   },
   "cell_type": "code",
   "source": [
    "param8 = {\n",
    "    'learning_rate' : (0.08,0.1),\n",
    "    'num_boost_round' : (50,500),\n",
    "    'min_child_weight' : (1,10),\n",
    "    'colsample_bytree' : (0.5,1),\n",
    "    'max_depth' : (4,10),\n",
    "    'subsample' : (0.5,1),\n",
    "    'gamma' : (0,10),\n",
    "    'alpha' : (0,10),\n",
    "}\n",
    "xgb_opt = BayesianOptimization(xbg_optimize,param8)\n",
    "xgb_opt.maximize(init_points=5, n_iter = 30)"
   ],
   "id": "d647d0788a0638d2",
   "outputs": [
    {
     "name": "stdout",
     "output_type": "stream",
     "text": [
      "|   iter    |  target   |   alpha   | colsam... |   gamma   | learni... | max_depth | min_ch... | num_bo... | subsample |\n",
      "-------------------------------------------------------------------------------------------------------------------------\n",
      "| \u001B[39m1        \u001B[39m | \u001B[39m0.8216   \u001B[39m | \u001B[39m8.914    \u001B[39m | \u001B[39m0.5429   \u001B[39m | \u001B[39m6.685    \u001B[39m | \u001B[39m0.0989   \u001B[39m | \u001B[39m6.913    \u001B[39m | \u001B[39m5.382    \u001B[39m | \u001B[39m219.9    \u001B[39m | \u001B[39m0.5981   \u001B[39m |\n",
      "| \u001B[35m2        \u001B[39m | \u001B[35m0.8358   \u001B[39m | \u001B[35m2.149    \u001B[39m | \u001B[35m0.8098   \u001B[39m | \u001B[35m8.682    \u001B[39m | \u001B[35m0.08348  \u001B[39m | \u001B[35m6.954    \u001B[39m | \u001B[35m6.895    \u001B[39m | \u001B[35m338.8    \u001B[39m | \u001B[35m0.824    \u001B[39m |\n",
      "| \u001B[39m3        \u001B[39m | \u001B[39m0.8248   \u001B[39m | \u001B[39m7.977    \u001B[39m | \u001B[39m0.6807   \u001B[39m | \u001B[39m6.907    \u001B[39m | \u001B[39m0.09465  \u001B[39m | \u001B[39m7.993    \u001B[39m | \u001B[39m5.035    \u001B[39m | \u001B[39m466.1    \u001B[39m | \u001B[39m0.6168   \u001B[39m |\n",
      "| \u001B[39m4        \u001B[39m | \u001B[39m0.8313   \u001B[39m | \u001B[39m5.182    \u001B[39m | \u001B[39m0.5388   \u001B[39m | \u001B[39m5.3      \u001B[39m | \u001B[39m0.08681  \u001B[39m | \u001B[39m8.805    \u001B[39m | \u001B[39m3.942    \u001B[39m | \u001B[39m376.6    \u001B[39m | \u001B[39m0.7741   \u001B[39m |\n",
      "| \u001B[35m5        \u001B[39m | \u001B[35m0.8469   \u001B[39m | \u001B[35m1.704    \u001B[39m | \u001B[35m0.8962   \u001B[39m | \u001B[35m4.178    \u001B[39m | \u001B[35m0.09429  \u001B[39m | \u001B[35m9.579    \u001B[39m | \u001B[35m7.181    \u001B[39m | \u001B[35m90.14    \u001B[39m | \u001B[35m0.6871   \u001B[39m |\n",
      "| \u001B[39m6        \u001B[39m | \u001B[39m0.8353   \u001B[39m | \u001B[39m0.0      \u001B[39m | \u001B[39m1.0      \u001B[39m | \u001B[39m10.0     \u001B[39m | \u001B[39m0.08     \u001B[39m | \u001B[39m4.0      \u001B[39m | \u001B[39m10.0     \u001B[39m | \u001B[39m50.0     \u001B[39m | \u001B[39m0.5      \u001B[39m |\n",
      "| \u001B[39m7        \u001B[39m | \u001B[39m0.8407   \u001B[39m | \u001B[39m10.0     \u001B[39m | \u001B[39m0.5      \u001B[39m | \u001B[39m0.0      \u001B[39m | \u001B[39m0.08     \u001B[39m | \u001B[39m4.0      \u001B[39m | \u001B[39m1.0      \u001B[39m | \u001B[39m116.0    \u001B[39m | \u001B[39m0.5      \u001B[39m |\n",
      "| \u001B[39m8        \u001B[39m | \u001B[39m0.8163   \u001B[39m | \u001B[39m10.0     \u001B[39m | \u001B[39m0.5      \u001B[39m | \u001B[39m10.0     \u001B[39m | \u001B[39m0.1      \u001B[39m | \u001B[39m4.0      \u001B[39m | \u001B[39m1.0      \u001B[39m | \u001B[39m83.75    \u001B[39m | \u001B[39m1.0      \u001B[39m |\n",
      "| \u001B[39m9        \u001B[39m | \u001B[39m0.8383   \u001B[39m | \u001B[39m5.443    \u001B[39m | \u001B[39m0.8831   \u001B[39m | \u001B[39m3.419    \u001B[39m | \u001B[39m0.0918   \u001B[39m | \u001B[39m7.455    \u001B[39m | \u001B[39m1.897    \u001B[39m | \u001B[39m200.3    \u001B[39m | \u001B[39m0.6224   \u001B[39m |\n",
      "| \u001B[39m10       \u001B[39m | \u001B[39m0.835    \u001B[39m | \u001B[39m4.418    \u001B[39m | \u001B[39m0.5827   \u001B[39m | \u001B[39m4.583    \u001B[39m | \u001B[39m0.09447  \u001B[39m | \u001B[39m8.978    \u001B[39m | \u001B[39m5.944    \u001B[39m | \u001B[39m378.4    \u001B[39m | \u001B[39m0.8269   \u001B[39m |\n",
      "| \u001B[39m11       \u001B[39m | \u001B[39m0.837    \u001B[39m | \u001B[39m4.451    \u001B[39m | \u001B[39m0.7669   \u001B[39m | \u001B[39m5.365    \u001B[39m | \u001B[39m0.09458  \u001B[39m | \u001B[39m9.937    \u001B[39m | \u001B[39m4.248    \u001B[39m | \u001B[39m427.8    \u001B[39m | \u001B[39m0.8516   \u001B[39m |\n",
      "| \u001B[39m12       \u001B[39m | \u001B[39m0.8373   \u001B[39m | \u001B[39m7.54     \u001B[39m | \u001B[39m0.9176   \u001B[39m | \u001B[39m1.877    \u001B[39m | \u001B[39m0.08319  \u001B[39m | \u001B[39m7.078    \u001B[39m | \u001B[39m6.664    \u001B[39m | \u001B[39m475.6    \u001B[39m | \u001B[39m0.7169   \u001B[39m |\n",
      "| \u001B[39m13       \u001B[39m | \u001B[39m0.844    \u001B[39m | \u001B[39m1.489    \u001B[39m | \u001B[39m0.7894   \u001B[39m | \u001B[39m5.526    \u001B[39m | \u001B[39m0.08881  \u001B[39m | \u001B[39m6.838    \u001B[39m | \u001B[39m7.998    \u001B[39m | \u001B[39m450.8    \u001B[39m | \u001B[39m0.7861   \u001B[39m |\n",
      "| \u001B[39m14       \u001B[39m | \u001B[39m0.8267   \u001B[39m | \u001B[39m9.278    \u001B[39m | \u001B[39m0.7245   \u001B[39m | \u001B[39m4.447    \u001B[39m | \u001B[39m0.08852  \u001B[39m | \u001B[39m4.751    \u001B[39m | \u001B[39m1.798    \u001B[39m | \u001B[39m387.4    \u001B[39m | \u001B[39m0.6069   \u001B[39m |\n",
      "| \u001B[35m15       \u001B[39m | \u001B[35m0.8543   \u001B[39m | \u001B[35m0.0      \u001B[39m | \u001B[35m1.0      \u001B[39m | \u001B[35m2.223    \u001B[39m | \u001B[35m0.08374  \u001B[39m | \u001B[35m10.0     \u001B[39m | \u001B[35m9.283    \u001B[39m | \u001B[35m92.3     \u001B[39m | \u001B[35m0.5934   \u001B[39m |\n",
      "| \u001B[39m16       \u001B[39m | \u001B[39m0.8518   \u001B[39m | \u001B[39m0.0      \u001B[39m | \u001B[39m0.9667   \u001B[39m | \u001B[39m1.283    \u001B[39m | \u001B[39m0.09982  \u001B[39m | \u001B[39m10.0     \u001B[39m | \u001B[39m7.093    \u001B[39m | \u001B[39m96.8     \u001B[39m | \u001B[39m0.5429   \u001B[39m |\n",
      "| \u001B[39m17       \u001B[39m | \u001B[39m0.8381   \u001B[39m | \u001B[39m0.0      \u001B[39m | \u001B[39m1.0      \u001B[39m | \u001B[39m7.69     \u001B[39m | \u001B[39m0.08     \u001B[39m | \u001B[39m10.0     \u001B[39m | \u001B[39m10.0     \u001B[39m | \u001B[39m96.98    \u001B[39m | \u001B[39m0.5      \u001B[39m |\n",
      "| \u001B[35m18       \u001B[39m | \u001B[35m0.8603   \u001B[39m | \u001B[35m0.0      \u001B[39m | \u001B[35m0.8116   \u001B[39m | \u001B[35m0.0      \u001B[39m | \u001B[35m0.0942   \u001B[39m | \u001B[35m5.043    \u001B[39m | \u001B[35m9.649    \u001B[39m | \u001B[35m93.4     \u001B[39m | \u001B[35m0.8264   \u001B[39m |\n",
      "| \u001B[39m19       \u001B[39m | \u001B[39m0.8375   \u001B[39m | \u001B[39m5.909    \u001B[39m | \u001B[39m1.0      \u001B[39m | \u001B[39m0.0      \u001B[39m | \u001B[39m0.08     \u001B[39m | \u001B[39m5.918    \u001B[39m | \u001B[39m10.0     \u001B[39m | \u001B[39m94.94    \u001B[39m | \u001B[39m0.5      \u001B[39m |\n",
      "| \u001B[35m20       \u001B[39m | \u001B[35m0.8631   \u001B[39m | \u001B[35m0.0      \u001B[39m | \u001B[35m0.5      \u001B[39m | \u001B[35m0.0      \u001B[39m | \u001B[35m0.1      \u001B[39m | \u001B[35m5.234    \u001B[39m | \u001B[35m5.073    \u001B[39m | \u001B[35m92.26    \u001B[39m | \u001B[35m1.0      \u001B[39m |\n",
      "| \u001B[39m21       \u001B[39m | \u001B[39m0.8575   \u001B[39m | \u001B[39m0.0      \u001B[39m | \u001B[39m0.5      \u001B[39m | \u001B[39m0.0      \u001B[39m | \u001B[39m0.1      \u001B[39m | \u001B[39m4.0      \u001B[39m | \u001B[39m8.441    \u001B[39m | \u001B[39m87.04    \u001B[39m | \u001B[39m1.0      \u001B[39m |\n",
      "| \u001B[35m22       \u001B[39m | \u001B[35m0.8679   \u001B[39m | \u001B[35m0.0      \u001B[39m | \u001B[35m0.5      \u001B[39m | \u001B[35m0.0      \u001B[39m | \u001B[35m0.08     \u001B[39m | \u001B[35m4.0      \u001B[39m | \u001B[35m1.0      \u001B[39m | \u001B[35m98.15    \u001B[39m | \u001B[35m1.0      \u001B[39m |\n",
      "| \u001B[39m23       \u001B[39m | \u001B[39m0.8666   \u001B[39m | \u001B[39m0.0      \u001B[39m | \u001B[39m1.0      \u001B[39m | \u001B[39m0.0      \u001B[39m | \u001B[39m0.08     \u001B[39m | \u001B[39m4.0      \u001B[39m | \u001B[39m1.0      \u001B[39m | \u001B[39m93.85    \u001B[39m | \u001B[39m0.5      \u001B[39m |\n",
      "| \u001B[39m24       \u001B[39m | \u001B[39m0.8452   \u001B[39m | \u001B[39m8.807    \u001B[39m | \u001B[39m0.69     \u001B[39m | \u001B[39m0.5226   \u001B[39m | \u001B[39m0.08787  \u001B[39m | \u001B[39m5.19     \u001B[39m | \u001B[39m1.299    \u001B[39m | \u001B[39m284.2    \u001B[39m | \u001B[39m0.7965   \u001B[39m |\n",
      "| \u001B[39m25       \u001B[39m | \u001B[39m0.8434   \u001B[39m | \u001B[39m10.0     \u001B[39m | \u001B[39m0.5      \u001B[39m | \u001B[39m0.0      \u001B[39m | \u001B[39m0.1      \u001B[39m | \u001B[39m4.0      \u001B[39m | \u001B[39m7.748    \u001B[39m | \u001B[39m500.0    \u001B[39m | \u001B[39m0.5      \u001B[39m |\n",
      "| \u001B[39m26       \u001B[39m | \u001B[39m0.8414   \u001B[39m | \u001B[39m0.1694   \u001B[39m | \u001B[39m0.6752   \u001B[39m | \u001B[39m9.459    \u001B[39m | \u001B[39m0.08289  \u001B[39m | \u001B[39m5.841    \u001B[39m | \u001B[39m3.689    \u001B[39m | \u001B[39m264.3    \u001B[39m | \u001B[39m0.7604   \u001B[39m |\n",
      "| \u001B[39m27       \u001B[39m | \u001B[39m0.8373   \u001B[39m | \u001B[39m0.1125   \u001B[39m | \u001B[39m0.6589   \u001B[39m | \u001B[39m9.603    \u001B[39m | \u001B[39m0.08253  \u001B[39m | \u001B[39m6.614    \u001B[39m | \u001B[39m9.178    \u001B[39m | \u001B[39m302.8    \u001B[39m | \u001B[39m0.8754   \u001B[39m |\n",
      "| \u001B[39m28       \u001B[39m | \u001B[39m0.8407   \u001B[39m | \u001B[39m0.3423   \u001B[39m | \u001B[39m0.8361   \u001B[39m | \u001B[39m9.631    \u001B[39m | \u001B[39m0.09686  \u001B[39m | \u001B[39m7.413    \u001B[39m | \u001B[39m6.546    \u001B[39m | \u001B[39m158.9    \u001B[39m | \u001B[39m0.735    \u001B[39m |\n",
      "| \u001B[39m29       \u001B[39m | \u001B[39m0.8641   \u001B[39m | \u001B[39m0.0      \u001B[39m | \u001B[39m0.5      \u001B[39m | \u001B[39m0.0      \u001B[39m | \u001B[39m0.09157  \u001B[39m | \u001B[39m10.0     \u001B[39m | \u001B[39m10.0     \u001B[39m | \u001B[39m136.3    \u001B[39m | \u001B[39m1.0      \u001B[39m |\n",
      "| \u001B[39m30       \u001B[39m | \u001B[39m0.8356   \u001B[39m | \u001B[39m0.0      \u001B[39m | \u001B[39m0.9742   \u001B[39m | \u001B[39m10.0     \u001B[39m | \u001B[39m0.08     \u001B[39m | \u001B[39m10.0     \u001B[39m | \u001B[39m10.0     \u001B[39m | \u001B[39m133.9    \u001B[39m | \u001B[39m0.5      \u001B[39m |\n",
      "| \u001B[39m31       \u001B[39m | \u001B[39m0.8538   \u001B[39m | \u001B[39m5.551    \u001B[39m | \u001B[39m0.5      \u001B[39m | \u001B[39m0.0      \u001B[39m | \u001B[39m0.1      \u001B[39m | \u001B[39m10.0     \u001B[39m | \u001B[39m10.0     \u001B[39m | \u001B[39m143.1    \u001B[39m | \u001B[39m1.0      \u001B[39m |\n",
      "| \u001B[35m32       \u001B[39m | \u001B[35m0.8746   \u001B[39m | \u001B[35m0.0      \u001B[39m | \u001B[35m0.5      \u001B[39m | \u001B[35m0.0      \u001B[39m | \u001B[35m0.08927  \u001B[39m | \u001B[35m5.879    \u001B[39m | \u001B[35m1.669    \u001B[39m | \u001B[35m137.4    \u001B[39m | \u001B[35m1.0      \u001B[39m |\n",
      "| \u001B[35m33       \u001B[39m | \u001B[35m0.8839   \u001B[39m | \u001B[35m0.0      \u001B[39m | \u001B[35m0.5      \u001B[39m | \u001B[35m0.0      \u001B[39m | \u001B[35m0.1      \u001B[39m | \u001B[35m10.0     \u001B[39m | \u001B[35m1.0      \u001B[39m | \u001B[35m132.0    \u001B[39m | \u001B[35m1.0      \u001B[39m |\n",
      "| \u001B[39m34       \u001B[39m | \u001B[39m0.8691   \u001B[39m | \u001B[39m0.0      \u001B[39m | \u001B[39m0.5      \u001B[39m | \u001B[39m0.0      \u001B[39m | \u001B[39m0.1      \u001B[39m | \u001B[39m4.029    \u001B[39m | \u001B[39m1.0      \u001B[39m | \u001B[39m128.8    \u001B[39m | \u001B[39m1.0      \u001B[39m |\n",
      "| \u001B[39m35       \u001B[39m | \u001B[39m0.862    \u001B[39m | \u001B[39m6.847    \u001B[39m | \u001B[39m0.5      \u001B[39m | \u001B[39m0.0      \u001B[39m | \u001B[39m0.1      \u001B[39m | \u001B[39m10.0     \u001B[39m | \u001B[39m1.0      \u001B[39m | \u001B[39m133.5    \u001B[39m | \u001B[39m1.0      \u001B[39m |\n",
      "=========================================================================================================================\n"
     ]
    }
   ],
   "execution_count": 159
  },
  {
   "metadata": {
    "ExecuteTime": {
     "end_time": "2024-10-01T04:42:00.351308Z",
     "start_time": "2024-10-01T04:42:00.347099Z"
    }
   },
   "cell_type": "code",
   "source": "print(xgb_opt.max)",
   "id": "1464afaf330fb1e2",
   "outputs": [
    {
     "name": "stdout",
     "output_type": "stream",
     "text": [
      "{'target': np.float64(0.8838913526719191), 'params': {'alpha': np.float64(0.0), 'colsample_bytree': np.float64(0.5), 'gamma': np.float64(0.0), 'learning_rate': np.float64(0.1), 'max_depth': np.float64(10.0), 'min_child_weight': np.float64(1.0), 'num_boost_round': np.float64(131.95641895514302), 'subsample': np.float64(1.0)}}\n"
     ]
    }
   ],
   "execution_count": 164
  },
  {
   "metadata": {
    "ExecuteTime": {
     "end_time": "2024-10-01T04:44:21.391632Z",
     "start_time": "2024-10-01T04:44:21.386632Z"
    }
   },
   "cell_type": "code",
   "source": [
    "bayesian_params = xgb_opt.max['params']\n",
    "bayesian_params['max_depth'] = int(bayesian_params['max_depth'])\n",
    "bayesian_params['min_child_weight'] = int(bayesian_params['min_child_weight'])\n",
    "bayesian_params['num_boost_round'] = int(bayesian_params['num_boost_round'])\n",
    "print(bayesian_params)"
   ],
   "id": "572828ad30242b68",
   "outputs": [
    {
     "name": "stdout",
     "output_type": "stream",
     "text": [
      "{'alpha': np.float64(0.0), 'colsample_bytree': np.float64(0.5), 'gamma': np.float64(0.0), 'learning_rate': np.float64(0.1), 'max_depth': 10, 'min_child_weight': 1, 'num_boost_round': 131, 'subsample': np.float64(1.0)}\n"
     ]
    }
   ],
   "execution_count": 169
  },
  {
   "metadata": {
    "ExecuteTime": {
     "end_time": "2024-10-01T04:42:01.751111Z",
     "start_time": "2024-10-01T04:42:01.747066Z"
    }
   },
   "cell_type": "code",
   "source": [
    "bayesian_bst = xgb.XGBClassifier(\n",
    "    learning_rate=bayesian_params['learning_rate'],\n",
    "    min_child_weight=bayesian_params['min_child_weight'],\n",
    "    colsample_bytree=bayesian_params['colsample_bytree'],\n",
    "    max_depth=bayesian_params['max_depth'],\n",
    "    subsample=bayesian_params['subsample'],\n",
    "    gamma=bayesian_params['gamma'],\n",
    "    alpha=bayesian_params['alpha'],\n",
    "    objective='binary:logistic',\n",
    "    n_estimators=bayesian_params['num_boost_round']  # Use this for XGBClassifier (fit)\n",
    ")\n"
   ],
   "id": "2e543b2cb38933dd",
   "outputs": [],
   "execution_count": 166
  },
  {
   "metadata": {
    "ExecuteTime": {
     "end_time": "2024-10-01T04:42:03.802640Z",
     "start_time": "2024-10-01T04:42:02.814095Z"
    }
   },
   "cell_type": "code",
   "source": [
    "base_cv_results = model_cv(base_model,X_train,y_train)\n",
    "model_fit(base_model,X_train,y_train,X_test,y_test,base_cv_results)"
   ],
   "id": "9b26554224b98088",
   "outputs": [
    {
     "name": "stdout",
     "output_type": "stream",
     "text": [
      "{'callbacks': None, 'early_stopping_rounds': None, 'enable_categorical': False, 'feature_types': None, 'importance_type': None, 'missing': nan, 'n_estimators': 157}\n",
      "best round of iteration/n_estimator: 157\n",
      "base_score: train-auc-mean    0.999919\n",
      "train-auc-std     0.000042\n",
      "test-auc-mean     0.880227\n",
      "test-auc-std      0.036848\n",
      "Name: 156, dtype: float64\n",
      "train score: 0.9994967102032799\n",
      "test score: 0.828768472906404\n"
     ]
    }
   ],
   "execution_count": 167
  },
  {
   "metadata": {
    "ExecuteTime": {
     "end_time": "2024-10-01T08:45:50.645981Z",
     "start_time": "2024-10-01T08:45:49.493898Z"
    }
   },
   "cell_type": "code",
   "source": [
    "base_cv_results = model_cv(bayesian_bst,X_train,y_train)\n",
    "model_fit(bayesian_bst,X_train,y_train,X_test,y_test,base_cv_results)"
   ],
   "id": "71de0a3823f31617",
   "outputs": [
    {
     "name": "stdout",
     "output_type": "stream",
     "text": [
      "{'callbacks': None, 'early_stopping_rounds': None, 'enable_categorical': False, 'feature_types': None, 'importance_type': None, 'missing': nan, 'n_estimators': 131}\n",
      "best round of iteration/n_estimator: 74\n",
      "base_score: train-logloss-mean    0.080807\n",
      "train-logloss-std     0.001318\n",
      "test-logloss-mean     0.425676\n",
      "test-logloss-std      0.072083\n",
      "Name: 73, dtype: float64\n",
      "train score: 1.0\n",
      "test score: 0.8381871921182265\n"
     ]
    }
   ],
   "execution_count": 170
  },
  {
   "metadata": {},
   "cell_type": "code",
   "outputs": [],
   "execution_count": null,
   "source": "",
   "id": "e7093eee83359dfa"
  }
 ],
 "metadata": {
  "kernelspec": {
   "display_name": "Python 3",
   "language": "python",
   "name": "python3"
  },
  "language_info": {
   "codemirror_mode": {
    "name": "ipython",
    "version": 2
   },
   "file_extension": ".py",
   "mimetype": "text/x-python",
   "name": "python",
   "nbconvert_exporter": "python",
   "pygments_lexer": "ipython2",
   "version": "2.7.6"
  }
 },
 "nbformat": 4,
 "nbformat_minor": 5
}
