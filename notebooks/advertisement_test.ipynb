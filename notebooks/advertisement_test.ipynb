{
 "cells": [
  {
   "cell_type": "code",
   "id": "initial_id",
   "metadata": {
    "collapsed": true,
    "ExecuteTime": {
     "end_time": "2024-10-23T21:01:48.055667Z",
     "start_time": "2024-10-23T21:01:47.835702Z"
    }
   },
   "source": [
    "import numpy as np\n",
    "import pandas as pd\n",
    "import xgboost as xgb\n",
    "import matplotlib.pyplot as plt\n",
    "import seaborn as sns"
   ],
   "outputs": [],
   "execution_count": 2
  },
  {
   "metadata": {
    "ExecuteTime": {
     "end_time": "2024-10-23T21:01:48.298219Z",
     "start_time": "2024-10-23T21:01:48.058672Z"
    }
   },
   "cell_type": "code",
   "source": "data = pd.read_csv('../data/advertisements/ad.data', header=None, on_bad_lines='skip')",
   "id": "477a45bfab381d4a",
   "outputs": [
    {
     "name": "stderr",
     "output_type": "stream",
     "text": [
      "C:\\Users\\zippen\\AppData\\Local\\Temp\\ipykernel_24112\\1146911660.py:1: DtypeWarning: Columns (3) have mixed types. Specify dtype option on import or set low_memory=False.\n",
      "  data = pd.read_csv('../data/advertisements/ad.data', header=None, on_bad_lines='skip')\n"
     ]
    }
   ],
   "execution_count": 3
  },
  {
   "metadata": {
    "ExecuteTime": {
     "end_time": "2024-10-23T21:01:48.305948Z",
     "start_time": "2024-10-23T21:01:48.299220Z"
    }
   },
   "cell_type": "code",
   "source": [
    "data.loc[:,3].value_counts()\n",
    "data.shape"
   ],
   "id": "2d69e0d602a279cf",
   "outputs": [
    {
     "data": {
      "text/plain": [
       "(3279, 1559)"
      ]
     },
     "execution_count": 4,
     "metadata": {},
     "output_type": "execute_result"
    }
   ],
   "execution_count": 4
  },
  {
   "metadata": {
    "ExecuteTime": {
     "end_time": "2024-10-23T21:01:48.331742Z",
     "start_time": "2024-10-23T21:01:48.307140Z"
    }
   },
   "cell_type": "code",
   "source": [
    "data.rename(columns={0: 'height', 1: 'width', 2: 'ratio', 1558: 'label' }, inplace=True)\n",
    "data = data.replace('[?]', np.nan, regex=True)"
   ],
   "id": "29b39a727e06e21b",
   "outputs": [],
   "execution_count": 5
  },
  {
   "metadata": {
    "ExecuteTime": {
     "end_time": "2024-10-23T21:01:48.335597Z",
     "start_time": "2024-10-23T21:01:48.332705Z"
    }
   },
   "cell_type": "code",
   "source": "",
   "id": "364d168121e67e41",
   "outputs": [],
   "execution_count": 5
  },
  {
   "metadata": {
    "ExecuteTime": {
     "end_time": "2024-10-23T21:01:48.369472Z",
     "start_time": "2024-10-23T21:01:48.336583Z"
    }
   },
   "cell_type": "code",
   "source": "data.info()",
   "id": "ee26bd90d54ef7e5",
   "outputs": [
    {
     "name": "stdout",
     "output_type": "stream",
     "text": [
      "<class 'pandas.core.frame.DataFrame'>\n",
      "RangeIndex: 3279 entries, 0 to 3278\n",
      "Columns: 1559 entries, height to label\n",
      "dtypes: int64(1554), object(5)\n",
      "memory usage: 39.0+ MB\n"
     ]
    }
   ],
   "execution_count": 6
  },
  {
   "metadata": {
    "ExecuteTime": {
     "end_time": "2024-10-23T21:01:48.381520Z",
     "start_time": "2024-10-23T21:01:48.370440Z"
    }
   },
   "cell_type": "code",
   "source": [
    "missing_values = data.isna().sum()\n",
    "missing_values = missing_values[missing_values > 0]\n",
    "print(missing_values)"
   ],
   "id": "e5ffdf2e16dc092f",
   "outputs": [
    {
     "name": "stdout",
     "output_type": "stream",
     "text": [
      "height    903\n",
      "width     901\n",
      "ratio     910\n",
      "3          15\n",
      "dtype: int64\n"
     ]
    }
   ],
   "execution_count": 7
  },
  {
   "metadata": {
    "ExecuteTime": {
     "end_time": "2024-10-23T21:01:48.388526Z",
     "start_time": "2024-10-23T21:01:48.382479Z"
    }
   },
   "cell_type": "code",
   "source": [
    "null_columns = missing_values.index\n",
    "data[null_columns]= data[null_columns].astype(np.float32)"
   ],
   "id": "ba809a805dff693c",
   "outputs": [],
   "execution_count": 8
  },
  {
   "metadata": {
    "ExecuteTime": {
     "end_time": "2024-10-23T21:01:48.396581Z",
     "start_time": "2024-10-23T21:01:48.389519Z"
    }
   },
   "cell_type": "code",
   "source": "data.label = data.label.replace(['ad.','nonad.'],[1,0])\n",
   "id": "9e9d6b3730cda1ca",
   "outputs": [
    {
     "name": "stderr",
     "output_type": "stream",
     "text": [
      "C:\\Users\\zippen\\AppData\\Local\\Temp\\ipykernel_24112\\3015715271.py:1: FutureWarning: Downcasting behavior in `replace` is deprecated and will be removed in a future version. To retain the old behavior, explicitly call `result.infer_objects(copy=False)`. To opt-in to the future behavior, set `pd.set_option('future.no_silent_downcasting', True)`\n",
      "  data.label = data.label.replace(['ad.','nonad.'],[1,0])\n"
     ]
    }
   ],
   "execution_count": 9
  },
  {
   "metadata": {
    "ExecuteTime": {
     "end_time": "2024-10-23T21:01:48.428891Z",
     "start_time": "2024-10-23T21:01:48.397579Z"
    }
   },
   "cell_type": "code",
   "source": [
    "data.dropna(axis = 0, inplace=True)\n",
    "label = data.label\n",
    "data = data.drop(columns= 'label')\n",
    "data.shape"
   ],
   "id": "7b750bdf2737d502",
   "outputs": [
    {
     "data": {
      "text/plain": [
       "(2359, 1558)"
      ]
     },
     "execution_count": 10,
     "metadata": {},
     "output_type": "execute_result"
    }
   ],
   "execution_count": 10
  },
  {
   "metadata": {
    "ExecuteTime": {
     "end_time": "2024-10-23T21:01:48.447475Z",
     "start_time": "2024-10-23T21:01:48.429891Z"
    }
   },
   "cell_type": "code",
   "source": [
    "from sklearn.model_selection import train_test_split\n",
    "X_train, X_test, y_train, y_test = train_test_split(data, label, test_size=0.25, random_state=24)"
   ],
   "id": "fcd04b1b8eea65a",
   "outputs": [],
   "execution_count": 11
  },
  {
   "metadata": {
    "ExecuteTime": {
     "end_time": "2024-10-23T21:01:48.465666Z",
     "start_time": "2024-10-23T21:01:48.448475Z"
    }
   },
   "cell_type": "code",
   "source": "X_train.head()",
   "id": "7cba901f76e3c483",
   "outputs": [
    {
     "data": {
      "text/plain": [
       "      height  width   ratio    3  4  5  6  7  8  9  ...  1548  1549  1550  \\\n",
       "2651    26.0  122.0  4.6923  1.0  0  0  0  0  0  0  ...     0     0     0   \n",
       "1430    43.0   46.0  1.0697  1.0  0  0  0  0  0  0  ...     0     0     0   \n",
       "1409   100.0   78.0  0.7800  0.0  0  0  0  0  0  0  ...     0     0     0   \n",
       "135     60.0  468.0  7.8000  1.0  0  0  0  0  0  0  ...     0     0     0   \n",
       "42      50.0  107.0  2.1400  0.0  0  0  0  0  0  0  ...     0     0     0   \n",
       "\n",
       "      1551  1552  1553  1554  1555  1556  1557  \n",
       "2651     0     0     0     0     0     0     0  \n",
       "1430     0     0     0     0     0     0     0  \n",
       "1409     0     0     0     0     0     0     0  \n",
       "135      0     0     0     0     0     0     0  \n",
       "42       0     0     0     0     0     0     0  \n",
       "\n",
       "[5 rows x 1558 columns]"
      ],
      "text/html": [
       "<div>\n",
       "<style scoped>\n",
       "    .dataframe tbody tr th:only-of-type {\n",
       "        vertical-align: middle;\n",
       "    }\n",
       "\n",
       "    .dataframe tbody tr th {\n",
       "        vertical-align: top;\n",
       "    }\n",
       "\n",
       "    .dataframe thead th {\n",
       "        text-align: right;\n",
       "    }\n",
       "</style>\n",
       "<table border=\"1\" class=\"dataframe\">\n",
       "  <thead>\n",
       "    <tr style=\"text-align: right;\">\n",
       "      <th></th>\n",
       "      <th>height</th>\n",
       "      <th>width</th>\n",
       "      <th>ratio</th>\n",
       "      <th>3</th>\n",
       "      <th>4</th>\n",
       "      <th>5</th>\n",
       "      <th>6</th>\n",
       "      <th>7</th>\n",
       "      <th>8</th>\n",
       "      <th>9</th>\n",
       "      <th>...</th>\n",
       "      <th>1548</th>\n",
       "      <th>1549</th>\n",
       "      <th>1550</th>\n",
       "      <th>1551</th>\n",
       "      <th>1552</th>\n",
       "      <th>1553</th>\n",
       "      <th>1554</th>\n",
       "      <th>1555</th>\n",
       "      <th>1556</th>\n",
       "      <th>1557</th>\n",
       "    </tr>\n",
       "  </thead>\n",
       "  <tbody>\n",
       "    <tr>\n",
       "      <th>2651</th>\n",
       "      <td>26.0</td>\n",
       "      <td>122.0</td>\n",
       "      <td>4.6923</td>\n",
       "      <td>1.0</td>\n",
       "      <td>0</td>\n",
       "      <td>0</td>\n",
       "      <td>0</td>\n",
       "      <td>0</td>\n",
       "      <td>0</td>\n",
       "      <td>0</td>\n",
       "      <td>...</td>\n",
       "      <td>0</td>\n",
       "      <td>0</td>\n",
       "      <td>0</td>\n",
       "      <td>0</td>\n",
       "      <td>0</td>\n",
       "      <td>0</td>\n",
       "      <td>0</td>\n",
       "      <td>0</td>\n",
       "      <td>0</td>\n",
       "      <td>0</td>\n",
       "    </tr>\n",
       "    <tr>\n",
       "      <th>1430</th>\n",
       "      <td>43.0</td>\n",
       "      <td>46.0</td>\n",
       "      <td>1.0697</td>\n",
       "      <td>1.0</td>\n",
       "      <td>0</td>\n",
       "      <td>0</td>\n",
       "      <td>0</td>\n",
       "      <td>0</td>\n",
       "      <td>0</td>\n",
       "      <td>0</td>\n",
       "      <td>...</td>\n",
       "      <td>0</td>\n",
       "      <td>0</td>\n",
       "      <td>0</td>\n",
       "      <td>0</td>\n",
       "      <td>0</td>\n",
       "      <td>0</td>\n",
       "      <td>0</td>\n",
       "      <td>0</td>\n",
       "      <td>0</td>\n",
       "      <td>0</td>\n",
       "    </tr>\n",
       "    <tr>\n",
       "      <th>1409</th>\n",
       "      <td>100.0</td>\n",
       "      <td>78.0</td>\n",
       "      <td>0.7800</td>\n",
       "      <td>0.0</td>\n",
       "      <td>0</td>\n",
       "      <td>0</td>\n",
       "      <td>0</td>\n",
       "      <td>0</td>\n",
       "      <td>0</td>\n",
       "      <td>0</td>\n",
       "      <td>...</td>\n",
       "      <td>0</td>\n",
       "      <td>0</td>\n",
       "      <td>0</td>\n",
       "      <td>0</td>\n",
       "      <td>0</td>\n",
       "      <td>0</td>\n",
       "      <td>0</td>\n",
       "      <td>0</td>\n",
       "      <td>0</td>\n",
       "      <td>0</td>\n",
       "    </tr>\n",
       "    <tr>\n",
       "      <th>135</th>\n",
       "      <td>60.0</td>\n",
       "      <td>468.0</td>\n",
       "      <td>7.8000</td>\n",
       "      <td>1.0</td>\n",
       "      <td>0</td>\n",
       "      <td>0</td>\n",
       "      <td>0</td>\n",
       "      <td>0</td>\n",
       "      <td>0</td>\n",
       "      <td>0</td>\n",
       "      <td>...</td>\n",
       "      <td>0</td>\n",
       "      <td>0</td>\n",
       "      <td>0</td>\n",
       "      <td>0</td>\n",
       "      <td>0</td>\n",
       "      <td>0</td>\n",
       "      <td>0</td>\n",
       "      <td>0</td>\n",
       "      <td>0</td>\n",
       "      <td>0</td>\n",
       "    </tr>\n",
       "    <tr>\n",
       "      <th>42</th>\n",
       "      <td>50.0</td>\n",
       "      <td>107.0</td>\n",
       "      <td>2.1400</td>\n",
       "      <td>0.0</td>\n",
       "      <td>0</td>\n",
       "      <td>0</td>\n",
       "      <td>0</td>\n",
       "      <td>0</td>\n",
       "      <td>0</td>\n",
       "      <td>0</td>\n",
       "      <td>...</td>\n",
       "      <td>0</td>\n",
       "      <td>0</td>\n",
       "      <td>0</td>\n",
       "      <td>0</td>\n",
       "      <td>0</td>\n",
       "      <td>0</td>\n",
       "      <td>0</td>\n",
       "      <td>0</td>\n",
       "      <td>0</td>\n",
       "      <td>0</td>\n",
       "    </tr>\n",
       "  </tbody>\n",
       "</table>\n",
       "<p>5 rows × 1558 columns</p>\n",
       "</div>"
      ]
     },
     "execution_count": 12,
     "metadata": {},
     "output_type": "execute_result"
    }
   ],
   "execution_count": 12
  },
  {
   "metadata": {
    "ExecuteTime": {
     "end_time": "2024-10-23T21:01:48.472667Z",
     "start_time": "2024-10-23T21:01:48.466665Z"
    }
   },
   "cell_type": "code",
   "source": "y_train.value_counts()",
   "id": "26d22ffc49744280",
   "outputs": [
    {
     "data": {
      "text/plain": [
       "label\n",
       "0    1477\n",
       "1     292\n",
       "Name: count, dtype: int64"
      ]
     },
     "execution_count": 13,
     "metadata": {},
     "output_type": "execute_result"
    }
   ],
   "execution_count": 13
  },
  {
   "metadata": {
    "ExecuteTime": {
     "end_time": "2024-10-23T21:01:48.741792Z",
     "start_time": "2024-10-23T21:01:48.473665Z"
    }
   },
   "cell_type": "code",
   "source": "label.hist(bins=2,figsize=(4,3))",
   "id": "24b0c215f4808bc2",
   "outputs": [
    {
     "data": {
      "text/plain": [
       "<Axes: >"
      ]
     },
     "execution_count": 14,
     "metadata": {},
     "output_type": "execute_result"
    },
    {
     "data": {
      "text/plain": [
       "<Figure size 400x300 with 1 Axes>"
      ],
      "image/png": "[encoded data removed]"
     },
     "metadata": {},
     "output_type": "display_data"
    }
   ],
   "execution_count": 14
  },
  {
   "metadata": {
    "ExecuteTime": {
     "end_time": "2024-10-23T21:01:48.773798Z",
     "start_time": "2024-10-23T21:01:48.743792Z"
    }
   },
   "cell_type": "code",
   "source": [
    "X_train_dis = X_train.copy(deep=True)\n",
    "X_test_dis = X_test.copy(deep=True)\n",
    "X_train_dis['label'] = 1\n",
    "X_test_dis['label'] = 0\n",
    "data_dis = pd.concat([X_train_dis,X_test_dis], axis=0)\n",
    "data_dis.head()"
   ],
   "id": "24dcf66df2f63a2b",
   "outputs": [
    {
     "data": {
      "text/plain": [
       "      height  width   ratio    3  4  5  6  7  8  9  ...  1549  1550  1551  \\\n",
       "2651    26.0  122.0  4.6923  1.0  0  0  0  0  0  0  ...     0     0     0   \n",
       "1430    43.0   46.0  1.0697  1.0  0  0  0  0  0  0  ...     0     0     0   \n",
       "1409   100.0   78.0  0.7800  0.0  0  0  0  0  0  0  ...     0     0     0   \n",
       "135     60.0  468.0  7.8000  1.0  0  0  0  0  0  0  ...     0     0     0   \n",
       "42      50.0  107.0  2.1400  0.0  0  0  0  0  0  0  ...     0     0     0   \n",
       "\n",
       "      1552  1553  1554  1555  1556  1557  label  \n",
       "2651     0     0     0     0     0     0      1  \n",
       "1430     0     0     0     0     0     0      1  \n",
       "1409     0     0     0     0     0     0      1  \n",
       "135      0     0     0     0     0     0      1  \n",
       "42       0     0     0     0     0     0      1  \n",
       "\n",
       "[5 rows x 1559 columns]"
      ],
      "text/html": [
       "<div>\n",
       "<style scoped>\n",
       "    .dataframe tbody tr th:only-of-type {\n",
       "        vertical-align: middle;\n",
       "    }\n",
       "\n",
       "    .dataframe tbody tr th {\n",
       "        vertical-align: top;\n",
       "    }\n",
       "\n",
       "    .dataframe thead th {\n",
       "        text-align: right;\n",
       "    }\n",
       "</style>\n",
       "<table border=\"1\" class=\"dataframe\">\n",
       "  <thead>\n",
       "    <tr style=\"text-align: right;\">\n",
       "      <th></th>\n",
       "      <th>height</th>\n",
       "      <th>width</th>\n",
       "      <th>ratio</th>\n",
       "      <th>3</th>\n",
       "      <th>4</th>\n",
       "      <th>5</th>\n",
       "      <th>6</th>\n",
       "      <th>7</th>\n",
       "      <th>8</th>\n",
       "      <th>9</th>\n",
       "      <th>...</th>\n",
       "      <th>1549</th>\n",
       "      <th>1550</th>\n",
       "      <th>1551</th>\n",
       "      <th>1552</th>\n",
       "      <th>1553</th>\n",
       "      <th>1554</th>\n",
       "      <th>1555</th>\n",
       "      <th>1556</th>\n",
       "      <th>1557</th>\n",
       "      <th>label</th>\n",
       "    </tr>\n",
       "  </thead>\n",
       "  <tbody>\n",
       "    <tr>\n",
       "      <th>2651</th>\n",
       "      <td>26.0</td>\n",
       "      <td>122.0</td>\n",
       "      <td>4.6923</td>\n",
       "      <td>1.0</td>\n",
       "      <td>0</td>\n",
       "      <td>0</td>\n",
       "      <td>0</td>\n",
       "      <td>0</td>\n",
       "      <td>0</td>\n",
       "      <td>0</td>\n",
       "      <td>...</td>\n",
       "      <td>0</td>\n",
       "      <td>0</td>\n",
       "      <td>0</td>\n",
       "      <td>0</td>\n",
       "      <td>0</td>\n",
       "      <td>0</td>\n",
       "      <td>0</td>\n",
       "      <td>0</td>\n",
       "      <td>0</td>\n",
       "      <td>1</td>\n",
       "    </tr>\n",
       "    <tr>\n",
       "      <th>1430</th>\n",
       "      <td>43.0</td>\n",
       "      <td>46.0</td>\n",
       "      <td>1.0697</td>\n",
       "      <td>1.0</td>\n",
       "      <td>0</td>\n",
       "      <td>0</td>\n",
       "      <td>0</td>\n",
       "      <td>0</td>\n",
       "      <td>0</td>\n",
       "      <td>0</td>\n",
       "      <td>...</td>\n",
       "      <td>0</td>\n",
       "      <td>0</td>\n",
       "      <td>0</td>\n",
       "      <td>0</td>\n",
       "      <td>0</td>\n",
       "      <td>0</td>\n",
       "      <td>0</td>\n",
       "      <td>0</td>\n",
       "      <td>0</td>\n",
       "      <td>1</td>\n",
       "    </tr>\n",
       "    <tr>\n",
       "      <th>1409</th>\n",
       "      <td>100.0</td>\n",
       "      <td>78.0</td>\n",
       "      <td>0.7800</td>\n",
       "      <td>0.0</td>\n",
       "      <td>0</td>\n",
       "      <td>0</td>\n",
       "      <td>0</td>\n",
       "      <td>0</td>\n",
       "      <td>0</td>\n",
       "      <td>0</td>\n",
       "      <td>...</td>\n",
       "      <td>0</td>\n",
       "      <td>0</td>\n",
       "      <td>0</td>\n",
       "      <td>0</td>\n",
       "      <td>0</td>\n",
       "      <td>0</td>\n",
       "      <td>0</td>\n",
       "      <td>0</td>\n",
       "      <td>0</td>\n",
       "      <td>1</td>\n",
       "    </tr>\n",
       "    <tr>\n",
       "      <th>135</th>\n",
       "      <td>60.0</td>\n",
       "      <td>468.0</td>\n",
       "      <td>7.8000</td>\n",
       "      <td>1.0</td>\n",
       "      <td>0</td>\n",
       "      <td>0</td>\n",
       "      <td>0</td>\n",
       "      <td>0</td>\n",
       "      <td>0</td>\n",
       "      <td>0</td>\n",
       "      <td>...</td>\n",
       "      <td>0</td>\n",
       "      <td>0</td>\n",
       "      <td>0</td>\n",
       "      <td>0</td>\n",
       "      <td>0</td>\n",
       "      <td>0</td>\n",
       "      <td>0</td>\n",
       "      <td>0</td>\n",
       "      <td>0</td>\n",
       "      <td>1</td>\n",
       "    </tr>\n",
       "    <tr>\n",
       "      <th>42</th>\n",
       "      <td>50.0</td>\n",
       "      <td>107.0</td>\n",
       "      <td>2.1400</td>\n",
       "      <td>0.0</td>\n",
       "      <td>0</td>\n",
       "      <td>0</td>\n",
       "      <td>0</td>\n",
       "      <td>0</td>\n",
       "      <td>0</td>\n",
       "      <td>0</td>\n",
       "      <td>...</td>\n",
       "      <td>0</td>\n",
       "      <td>0</td>\n",
       "      <td>0</td>\n",
       "      <td>0</td>\n",
       "      <td>0</td>\n",
       "      <td>0</td>\n",
       "      <td>0</td>\n",
       "      <td>0</td>\n",
       "      <td>0</td>\n",
       "      <td>1</td>\n",
       "    </tr>\n",
       "  </tbody>\n",
       "</table>\n",
       "<p>5 rows × 1559 columns</p>\n",
       "</div>"
      ]
     },
     "execution_count": 15,
     "metadata": {},
     "output_type": "execute_result"
    }
   ],
   "execution_count": 15
  },
  {
   "metadata": {
    "ExecuteTime": {
     "end_time": "2024-10-23T21:01:48.879952Z",
     "start_time": "2024-10-23T21:01:48.774808Z"
    }
   },
   "cell_type": "code",
   "source": [
    "sns.violinplot(data= data_dis, x='label', y='height')\n",
    "plt.show()"
   ],
   "id": "2f79f67c26011453",
   "outputs": [
    {
     "data": {
      "text/plain": [
       "<Figure size 640x480 with 1 Axes>"
      ],
      "image/png": "[encoded data removed]"
     },
     "metadata": {},
     "output_type": "display_data"
    }
   ],
   "execution_count": 16
  },
  {
   "metadata": {
    "ExecuteTime": {
     "end_time": "2024-10-23T21:01:49.006193Z",
     "start_time": "2024-10-23T21:01:48.880953Z"
    }
   },
   "cell_type": "code",
   "source": "sns.boxplot(data=data_dis, x='label', y='width')",
   "id": "aebdfb7540f135d3",
   "outputs": [
    {
     "data": {
      "text/plain": [
       "<Axes: xlabel='label', ylabel='width'>"
      ]
     },
     "execution_count": 17,
     "metadata": {},
     "output_type": "execute_result"
    },
    {
     "data": {
      "text/plain": [
       "<Figure size 640x480 with 1 Axes>"
      ],
      "image/png": "[encoded data removed]"
     },
     "metadata": {},
     "output_type": "display_data"
    }
   ],
   "execution_count": 17
  },
  {
   "metadata": {
    "ExecuteTime": {
     "end_time": "2024-10-23T21:01:49.025515Z",
     "start_time": "2024-10-23T21:01:49.008202Z"
    }
   },
   "cell_type": "code",
   "source": "data_dis.head()",
   "id": "4f6080a96123757e",
   "outputs": [
    {
     "data": {
      "text/plain": [
       "      height  width   ratio    3  4  5  6  7  8  9  ...  1549  1550  1551  \\\n",
       "2651    26.0  122.0  4.6923  1.0  0  0  0  0  0  0  ...     0     0     0   \n",
       "1430    43.0   46.0  1.0697  1.0  0  0  0  0  0  0  ...     0     0     0   \n",
       "1409   100.0   78.0  0.7800  0.0  0  0  0  0  0  0  ...     0     0     0   \n",
       "135     60.0  468.0  7.8000  1.0  0  0  0  0  0  0  ...     0     0     0   \n",
       "42      50.0  107.0  2.1400  0.0  0  0  0  0  0  0  ...     0     0     0   \n",
       "\n",
       "      1552  1553  1554  1555  1556  1557  label  \n",
       "2651     0     0     0     0     0     0      1  \n",
       "1430     0     0     0     0     0     0      1  \n",
       "1409     0     0     0     0     0     0      1  \n",
       "135      0     0     0     0     0     0      1  \n",
       "42       0     0     0     0     0     0      1  \n",
       "\n",
       "[5 rows x 1559 columns]"
      ],
      "text/html": [
       "<div>\n",
       "<style scoped>\n",
       "    .dataframe tbody tr th:only-of-type {\n",
       "        vertical-align: middle;\n",
       "    }\n",
       "\n",
       "    .dataframe tbody tr th {\n",
       "        vertical-align: top;\n",
       "    }\n",
       "\n",
       "    .dataframe thead th {\n",
       "        text-align: right;\n",
       "    }\n",
       "</style>\n",
       "<table border=\"1\" class=\"dataframe\">\n",
       "  <thead>\n",
       "    <tr style=\"text-align: right;\">\n",
       "      <th></th>\n",
       "      <th>height</th>\n",
       "      <th>width</th>\n",
       "      <th>ratio</th>\n",
       "      <th>3</th>\n",
       "      <th>4</th>\n",
       "      <th>5</th>\n",
       "      <th>6</th>\n",
       "      <th>7</th>\n",
       "      <th>8</th>\n",
       "      <th>9</th>\n",
       "      <th>...</th>\n",
       "      <th>1549</th>\n",
       "      <th>1550</th>\n",
       "      <th>1551</th>\n",
       "      <th>1552</th>\n",
       "      <th>1553</th>\n",
       "      <th>1554</th>\n",
       "      <th>1555</th>\n",
       "      <th>1556</th>\n",
       "      <th>1557</th>\n",
       "      <th>label</th>\n",
       "    </tr>\n",
       "  </thead>\n",
       "  <tbody>\n",
       "    <tr>\n",
       "      <th>2651</th>\n",
       "      <td>26.0</td>\n",
       "      <td>122.0</td>\n",
       "      <td>4.6923</td>\n",
       "      <td>1.0</td>\n",
       "      <td>0</td>\n",
       "      <td>0</td>\n",
       "      <td>0</td>\n",
       "      <td>0</td>\n",
       "      <td>0</td>\n",
       "      <td>0</td>\n",
       "      <td>...</td>\n",
       "      <td>0</td>\n",
       "      <td>0</td>\n",
       "      <td>0</td>\n",
       "      <td>0</td>\n",
       "      <td>0</td>\n",
       "      <td>0</td>\n",
       "      <td>0</td>\n",
       "      <td>0</td>\n",
       "      <td>0</td>\n",
       "      <td>1</td>\n",
       "    </tr>\n",
       "    <tr>\n",
       "      <th>1430</th>\n",
       "      <td>43.0</td>\n",
       "      <td>46.0</td>\n",
       "      <td>1.0697</td>\n",
       "      <td>1.0</td>\n",
       "      <td>0</td>\n",
       "      <td>0</td>\n",
       "      <td>0</td>\n",
       "      <td>0</td>\n",
       "      <td>0</td>\n",
       "      <td>0</td>\n",
       "      <td>...</td>\n",
       "      <td>0</td>\n",
       "      <td>0</td>\n",
       "      <td>0</td>\n",
       "      <td>0</td>\n",
       "      <td>0</td>\n",
       "      <td>0</td>\n",
       "      <td>0</td>\n",
       "      <td>0</td>\n",
       "      <td>0</td>\n",
       "      <td>1</td>\n",
       "    </tr>\n",
       "    <tr>\n",
       "      <th>1409</th>\n",
       "      <td>100.0</td>\n",
       "      <td>78.0</td>\n",
       "      <td>0.7800</td>\n",
       "      <td>0.0</td>\n",
       "      <td>0</td>\n",
       "      <td>0</td>\n",
       "      <td>0</td>\n",
       "      <td>0</td>\n",
       "      <td>0</td>\n",
       "      <td>0</td>\n",
       "      <td>...</td>\n",
       "      <td>0</td>\n",
       "      <td>0</td>\n",
       "      <td>0</td>\n",
       "      <td>0</td>\n",
       "      <td>0</td>\n",
       "      <td>0</td>\n",
       "      <td>0</td>\n",
       "      <td>0</td>\n",
       "      <td>0</td>\n",
       "      <td>1</td>\n",
       "    </tr>\n",
       "    <tr>\n",
       "      <th>135</th>\n",
       "      <td>60.0</td>\n",
       "      <td>468.0</td>\n",
       "      <td>7.8000</td>\n",
       "      <td>1.0</td>\n",
       "      <td>0</td>\n",
       "      <td>0</td>\n",
       "      <td>0</td>\n",
       "      <td>0</td>\n",
       "      <td>0</td>\n",
       "      <td>0</td>\n",
       "      <td>...</td>\n",
       "      <td>0</td>\n",
       "      <td>0</td>\n",
       "      <td>0</td>\n",
       "      <td>0</td>\n",
       "      <td>0</td>\n",
       "      <td>0</td>\n",
       "      <td>0</td>\n",
       "      <td>0</td>\n",
       "      <td>0</td>\n",
       "      <td>1</td>\n",
       "    </tr>\n",
       "    <tr>\n",
       "      <th>42</th>\n",
       "      <td>50.0</td>\n",
       "      <td>107.0</td>\n",
       "      <td>2.1400</td>\n",
       "      <td>0.0</td>\n",
       "      <td>0</td>\n",
       "      <td>0</td>\n",
       "      <td>0</td>\n",
       "      <td>0</td>\n",
       "      <td>0</td>\n",
       "      <td>0</td>\n",
       "      <td>...</td>\n",
       "      <td>0</td>\n",
       "      <td>0</td>\n",
       "      <td>0</td>\n",
       "      <td>0</td>\n",
       "      <td>0</td>\n",
       "      <td>0</td>\n",
       "      <td>0</td>\n",
       "      <td>0</td>\n",
       "      <td>0</td>\n",
       "      <td>1</td>\n",
       "    </tr>\n",
       "  </tbody>\n",
       "</table>\n",
       "<p>5 rows × 1559 columns</p>\n",
       "</div>"
      ]
     },
     "execution_count": 18,
     "metadata": {},
     "output_type": "execute_result"
    }
   ],
   "execution_count": 18
  },
  {
   "metadata": {
    "ExecuteTime": {
     "end_time": "2024-10-23T21:01:49.233541Z",
     "start_time": "2024-10-23T21:01:49.027525Z"
    }
   },
   "cell_type": "code",
   "source": [
    "plt.subplots(figsize=(9,5))\n",
    "corr = data_dis[['height','width','ratio','label']].corr()\n",
    "sns.heatmap(corr, annot=True)\n",
    "plt.show()"
   ],
   "id": "41365b3168684c72",
   "outputs": [
    {
     "data": {
      "text/plain": [
       "<Figure size 900x500 with 2 Axes>"
      ],
      "image/png": "[encoded data removed]"
     },
     "metadata": {},
     "output_type": "display_data"
    }
   ],
   "execution_count": 19
  },
  {
   "metadata": {
    "ExecuteTime": {
     "end_time": "2024-10-23T21:01:49.275749Z",
     "start_time": "2024-10-23T21:01:49.234551Z"
    }
   },
   "cell_type": "code",
   "source": [
    "data_dis.sample(frac=0.5, random_state=24).reset_index(drop=True)\n",
    "data_dis.head()"
   ],
   "id": "1b0a8255958038e0",
   "outputs": [
    {
     "data": {
      "text/plain": [
       "      height  width   ratio    3  4  5  6  7  8  9  ...  1549  1550  1551  \\\n",
       "2651    26.0  122.0  4.6923  1.0  0  0  0  0  0  0  ...     0     0     0   \n",
       "1430    43.0   46.0  1.0697  1.0  0  0  0  0  0  0  ...     0     0     0   \n",
       "1409   100.0   78.0  0.7800  0.0  0  0  0  0  0  0  ...     0     0     0   \n",
       "135     60.0  468.0  7.8000  1.0  0  0  0  0  0  0  ...     0     0     0   \n",
       "42      50.0  107.0  2.1400  0.0  0  0  0  0  0  0  ...     0     0     0   \n",
       "\n",
       "      1552  1553  1554  1555  1556  1557  label  \n",
       "2651     0     0     0     0     0     0      1  \n",
       "1430     0     0     0     0     0     0      1  \n",
       "1409     0     0     0     0     0     0      1  \n",
       "135      0     0     0     0     0     0      1  \n",
       "42       0     0     0     0     0     0      1  \n",
       "\n",
       "[5 rows x 1559 columns]"
      ],
      "text/html": [
       "<div>\n",
       "<style scoped>\n",
       "    .dataframe tbody tr th:only-of-type {\n",
       "        vertical-align: middle;\n",
       "    }\n",
       "\n",
       "    .dataframe tbody tr th {\n",
       "        vertical-align: top;\n",
       "    }\n",
       "\n",
       "    .dataframe thead th {\n",
       "        text-align: right;\n",
       "    }\n",
       "</style>\n",
       "<table border=\"1\" class=\"dataframe\">\n",
       "  <thead>\n",
       "    <tr style=\"text-align: right;\">\n",
       "      <th></th>\n",
       "      <th>height</th>\n",
       "      <th>width</th>\n",
       "      <th>ratio</th>\n",
       "      <th>3</th>\n",
       "      <th>4</th>\n",
       "      <th>5</th>\n",
       "      <th>6</th>\n",
       "      <th>7</th>\n",
       "      <th>8</th>\n",
       "      <th>9</th>\n",
       "      <th>...</th>\n",
       "      <th>1549</th>\n",
       "      <th>1550</th>\n",
       "      <th>1551</th>\n",
       "      <th>1552</th>\n",
       "      <th>1553</th>\n",
       "      <th>1554</th>\n",
       "      <th>1555</th>\n",
       "      <th>1556</th>\n",
       "      <th>1557</th>\n",
       "      <th>label</th>\n",
       "    </tr>\n",
       "  </thead>\n",
       "  <tbody>\n",
       "    <tr>\n",
       "      <th>2651</th>\n",
       "      <td>26.0</td>\n",
       "      <td>122.0</td>\n",
       "      <td>4.6923</td>\n",
       "      <td>1.0</td>\n",
       "      <td>0</td>\n",
       "      <td>0</td>\n",
       "      <td>0</td>\n",
       "      <td>0</td>\n",
       "      <td>0</td>\n",
       "      <td>0</td>\n",
       "      <td>...</td>\n",
       "      <td>0</td>\n",
       "      <td>0</td>\n",
       "      <td>0</td>\n",
       "      <td>0</td>\n",
       "      <td>0</td>\n",
       "      <td>0</td>\n",
       "      <td>0</td>\n",
       "      <td>0</td>\n",
       "      <td>0</td>\n",
       "      <td>1</td>\n",
       "    </tr>\n",
       "    <tr>\n",
       "      <th>1430</th>\n",
       "      <td>43.0</td>\n",
       "      <td>46.0</td>\n",
       "      <td>1.0697</td>\n",
       "      <td>1.0</td>\n",
       "      <td>0</td>\n",
       "      <td>0</td>\n",
       "      <td>0</td>\n",
       "      <td>0</td>\n",
       "      <td>0</td>\n",
       "      <td>0</td>\n",
       "      <td>...</td>\n",
       "      <td>0</td>\n",
       "      <td>0</td>\n",
       "      <td>0</td>\n",
       "      <td>0</td>\n",
       "      <td>0</td>\n",
       "      <td>0</td>\n",
       "      <td>0</td>\n",
       "      <td>0</td>\n",
       "      <td>0</td>\n",
       "      <td>1</td>\n",
       "    </tr>\n",
       "    <tr>\n",
       "      <th>1409</th>\n",
       "      <td>100.0</td>\n",
       "      <td>78.0</td>\n",
       "      <td>0.7800</td>\n",
       "      <td>0.0</td>\n",
       "      <td>0</td>\n",
       "      <td>0</td>\n",
       "      <td>0</td>\n",
       "      <td>0</td>\n",
       "      <td>0</td>\n",
       "      <td>0</td>\n",
       "      <td>...</td>\n",
       "      <td>0</td>\n",
       "      <td>0</td>\n",
       "      <td>0</td>\n",
       "      <td>0</td>\n",
       "      <td>0</td>\n",
       "      <td>0</td>\n",
       "      <td>0</td>\n",
       "      <td>0</td>\n",
       "      <td>0</td>\n",
       "      <td>1</td>\n",
       "    </tr>\n",
       "    <tr>\n",
       "      <th>135</th>\n",
       "      <td>60.0</td>\n",
       "      <td>468.0</td>\n",
       "      <td>7.8000</td>\n",
       "      <td>1.0</td>\n",
       "      <td>0</td>\n",
       "      <td>0</td>\n",
       "      <td>0</td>\n",
       "      <td>0</td>\n",
       "      <td>0</td>\n",
       "      <td>0</td>\n",
       "      <td>...</td>\n",
       "      <td>0</td>\n",
       "      <td>0</td>\n",
       "      <td>0</td>\n",
       "      <td>0</td>\n",
       "      <td>0</td>\n",
       "      <td>0</td>\n",
       "      <td>0</td>\n",
       "      <td>0</td>\n",
       "      <td>0</td>\n",
       "      <td>1</td>\n",
       "    </tr>\n",
       "    <tr>\n",
       "      <th>42</th>\n",
       "      <td>50.0</td>\n",
       "      <td>107.0</td>\n",
       "      <td>2.1400</td>\n",
       "      <td>0.0</td>\n",
       "      <td>0</td>\n",
       "      <td>0</td>\n",
       "      <td>0</td>\n",
       "      <td>0</td>\n",
       "      <td>0</td>\n",
       "      <td>0</td>\n",
       "      <td>...</td>\n",
       "      <td>0</td>\n",
       "      <td>0</td>\n",
       "      <td>0</td>\n",
       "      <td>0</td>\n",
       "      <td>0</td>\n",
       "      <td>0</td>\n",
       "      <td>0</td>\n",
       "      <td>0</td>\n",
       "      <td>0</td>\n",
       "      <td>1</td>\n",
       "    </tr>\n",
       "  </tbody>\n",
       "</table>\n",
       "<p>5 rows × 1559 columns</p>\n",
       "</div>"
      ]
     },
     "execution_count": 20,
     "metadata": {},
     "output_type": "execute_result"
    }
   ],
   "execution_count": 20
  },
  {
   "metadata": {
    "ExecuteTime": {
     "end_time": "2024-10-23T21:01:49.311164Z",
     "start_time": "2024-10-23T21:01:49.276731Z"
    }
   },
   "cell_type": "code",
   "source": [
    "data_dis = data_dis.dropna(axis=0, how='any')\n",
    "data_dis.label.value_counts()"
   ],
   "id": "395cc7ceecebc105",
   "outputs": [
    {
     "data": {
      "text/plain": [
       "label\n",
       "1    1769\n",
       "0     590\n",
       "Name: count, dtype: int64"
      ]
     },
     "execution_count": 21,
     "metadata": {},
     "output_type": "execute_result"
    }
   ],
   "execution_count": 21
  },
  {
   "metadata": {
    "ExecuteTime": {
     "end_time": "2024-10-23T21:01:49.342525Z",
     "start_time": "2024-10-23T21:01:49.312158Z"
    }
   },
   "cell_type": "code",
   "source": [
    "label_dis = data_dis.label.copy()\n",
    "data_dis = data_dis.drop(columns='label')\n",
    "X_train_dis, X_test_dis, y_train_dis, y_test_dis = train_test_split(data_dis, label_dis, test_size=0.25, random_state=24)"
   ],
   "id": "ebe8f0835cadf2d8",
   "outputs": [],
   "execution_count": 22
  },
  {
   "metadata": {
    "ExecuteTime": {
     "end_time": "2024-10-23T21:01:49.348681Z",
     "start_time": "2024-10-23T21:01:49.343489Z"
    }
   },
   "cell_type": "code",
   "source": "X_train_dis.columns",
   "id": "26b1126027cd7a5e",
   "outputs": [
    {
     "data": {
      "text/plain": [
       "Index(['height',  'width',  'ratio',        3,        4,        5,        6,\n",
       "              7,        8,        9,\n",
       "       ...\n",
       "           1548,     1549,     1550,     1551,     1552,     1553,     1554,\n",
       "           1555,     1556,     1557],\n",
       "      dtype='object', length=1558)"
      ]
     },
     "execution_count": 23,
     "metadata": {},
     "output_type": "execute_result"
    }
   ],
   "execution_count": 23
  },
  {
   "metadata": {
    "ExecuteTime": {
     "end_time": "2024-10-23T21:01:49.975904Z",
     "start_time": "2024-10-23T21:01:49.431147Z"
    }
   },
   "cell_type": "code",
   "source": [
    "from sklearn.linear_model import LogisticRegression\n",
    "from sklearn.tree import DecisionTreeClassifier\n",
    "from sklearn import metrics\n",
    "\n",
    "X_train_dis.columns = X_train_dis.columns.astype('str')\n",
    "X_test_dis.columns = X_test_dis.columns.astype('str')\n",
    "\n",
    "clf = LogisticRegression()\n",
    "clf.fit(X_train_dis, y_train_dis)\n",
    "y_pred_dis = clf.predict(X_test_dis)\n",
    "linear_auc_score = metrics.roc_auc_score(y_test_dis, y_pred_dis)\n",
    "print(f'Logistic Regression AUC Score: {linear_auc_score}')\n",
    "\n",
    "clf2 = DecisionTreeClassifier()\n",
    "clf2.fit(X_train_dis, y_train_dis)\n",
    "y_pred_dis2 = clf2.predict(X_test_dis)\n",
    "tree_auc_score = metrics.roc_auc_score(y_test_dis, y_pred_dis2)\n",
    "print(f'Decision Tree AUC Score: {tree_auc_score}')"
   ],
   "id": "5c3c18a6ee6cdf2e",
   "outputs": [
    {
     "name": "stderr",
     "output_type": "stream",
     "text": [
      "F:\\envs\\ML\\lib\\site-packages\\sklearn\\linear_model\\_logistic.py:469: ConvergenceWarning: lbfgs failed to converge (status=1):\n",
      "STOP: TOTAL NO. of ITERATIONS REACHED LIMIT.\n",
      "\n",
      "Increase the number of iterations (max_iter) or scale the data as shown in:\n",
      "    https://scikit-learn.org/stable/modules/preprocessing.html\n",
      "Please also refer to the documentation for alternative solver options:\n",
      "    https://scikit-learn.org/stable/modules/linear_model.html#logistic-regression\n",
      "  n_iter_i = _check_optimize_result(\n"
     ]
    },
    {
     "name": "stdout",
     "output_type": "stream",
     "text": [
      "Logistic Regression AUC Score: 0.5096212121212121\n",
      "Decision Tree AUC Score: 0.4906818181818181\n"
     ]
    }
   ],
   "execution_count": 24
  },
  {
   "metadata": {
    "ExecuteTime": {
     "end_time": "2024-10-23T21:01:51.432602Z",
     "start_time": "2024-10-23T21:01:49.976566Z"
    }
   },
   "cell_type": "code",
   "source": [
    "from sklearn import model_selection\n",
    "data_dis.columns = data_dis.columns.astype('str')\n",
    "scores = model_selection.cross_val_score(clf2,data_dis, label_dis, cv=5,scoring='roc_auc')\n",
    "print(f'score mean: {scores.mean()}, score std: {scores.std()}')"
   ],
   "id": "78b797ccef5b5a44",
   "outputs": [
    {
     "name": "stdout",
     "output_type": "stream",
     "text": [
      "score mean: 0.47207727420322226, score std: 0.01240572714954061\n"
     ]
    }
   ],
   "execution_count": 25
  },
  {
   "metadata": {
    "ExecuteTime": {
     "end_time": "2024-10-23T21:01:51.607584Z",
     "start_time": "2024-10-23T21:01:51.433623Z"
    }
   },
   "cell_type": "code",
   "source": [
    "from sklearn.decomposition import PCA\n",
    "pca = PCA(n_components=2)\n",
    "\n",
    "X_train.columns = X_train.columns.astype('str')\n",
    "X_train_pca = pca.fit_transform(X_train)\n",
    "pos_mask = y_train == 1\n",
    "neg_mask = y_train == 0\n",
    "pos_X_train = X_train_pca[pos_mask]\n",
    "neg_X_train = X_train_pca[neg_mask]\n",
    "\n",
    "plt.scatter(pos_X_train[:,0], pos_X_train[:,1], c='blue', marker='o', s=60)\n",
    "plt.scatter(neg_X_train[:,0], neg_X_train[:,1], c='red', marker='^', s=60)\n",
    "plt.title('PCA')\n",
    "plt.show()"
   ],
   "id": "8d8a9c6412db909a",
   "outputs": [
    {
     "data": {
      "text/plain": [
       "<Figure size 640x480 with 1 Axes>"
      ],
      "image/png": "[encoded data removed]"
     },
     "metadata": {},
     "output_type": "display_data"
    }
   ],
   "execution_count": 26
  },
  {
   "metadata": {
    "ExecuteTime": {
     "end_time": "2024-10-23T21:01:51.615624Z",
     "start_time": "2024-10-23T21:01:51.608619Z"
    }
   },
   "cell_type": "code",
   "source": "label.value_counts()",
   "id": "af4dbd4263792d5a",
   "outputs": [
    {
     "data": {
      "text/plain": [
       "label\n",
       "0    1978\n",
       "1     381\n",
       "Name: count, dtype: int64"
      ]
     },
     "execution_count": 27,
     "metadata": {},
     "output_type": "execute_result"
    }
   ],
   "execution_count": 27
  },
  {
   "metadata": {
    "ExecuteTime": {
     "end_time": "2024-10-23T21:01:51.624064Z",
     "start_time": "2024-10-23T21:01:51.616974Z"
    }
   },
   "cell_type": "code",
   "source": [
    "neg_label, pos_label = label.value_counts()[0], label.value_counts()[1]\n",
    "scale_pos_weight = neg_label/pos_label\n",
    "print(scale_pos_weight)"
   ],
   "id": "548ca93054e1379d",
   "outputs": [
    {
     "name": "stdout",
     "output_type": "stream",
     "text": [
      "5.191601049868766\n"
     ]
    }
   ],
   "execution_count": 28
  },
  {
   "metadata": {
    "ExecuteTime": {
     "end_time": "2024-10-23T21:01:54.403651Z",
     "start_time": "2024-10-23T21:01:51.625602Z"
    }
   },
   "cell_type": "code",
   "source": [
    "params= {\n",
    "    'objective': 'binary:logistic',\n",
    "    'eval_metric': 'auc',\n",
    "    'booster': 'gbtree',\n",
    "    'nthread': -1,\n",
    "    'eta': 0.1,\n",
    "    'max_depth': 6,\n",
    "    'gamma': 0,\n",
    "    'min_child_weight': 1,\n",
    "    'subsample': 0.8,\n",
    "    'colsample_bytree': 0.8,\n",
    "    'scale_pos_weight': scale_pos_weight,\n",
    "}\n",
    "dtrain = xgb.DMatrix(X_train, label=y_train)\n",
    "dtest = xgb.DMatrix(X_test, label=y_test)\n",
    "watchlist = [(dtrain, 'train'), (dtest, 'test')]\n",
    "num_round = 100\n",
    "bst = xgb.train(params, dtrain, num_boost_round=num_round, evals = watchlist)"
   ],
   "id": "f52bb0fee469260e",
   "outputs": [
    {
     "name": "stdout",
     "output_type": "stream",
     "text": [
      "[0]\ttrain-auc:0.95826\ttest-auc:0.91261\n",
      "[1]\ttrain-auc:0.97275\ttest-auc:0.93053\n",
      "[2]\ttrain-auc:0.98296\ttest-auc:0.94540\n",
      "[3]\ttrain-auc:0.98289\ttest-auc:0.94542\n",
      "[4]\ttrain-auc:0.98318\ttest-auc:0.94585\n",
      "[5]\ttrain-auc:0.98616\ttest-auc:0.94490\n",
      "[6]\ttrain-auc:0.98636\ttest-auc:0.94529\n",
      "[7]\ttrain-auc:0.98623\ttest-auc:0.94515\n",
      "[8]\ttrain-auc:0.99053\ttest-auc:0.95466\n",
      "[9]\ttrain-auc:0.99460\ttest-auc:0.97634\n",
      "[10]\ttrain-auc:0.99456\ttest-auc:0.97629\n",
      "[11]\ttrain-auc:0.99463\ttest-auc:0.97673\n",
      "[12]\ttrain-auc:0.99605\ttest-auc:0.97775\n",
      "[13]\ttrain-auc:0.99587\ttest-auc:0.97767\n",
      "[14]\ttrain-auc:0.99634\ttest-auc:0.97434\n",
      "[15]\ttrain-auc:0.99633\ttest-auc:0.97410\n",
      "[16]\ttrain-auc:0.99670\ttest-auc:0.97145\n",
      "[17]\ttrain-auc:0.99706\ttest-auc:0.97554\n",
      "[18]\ttrain-auc:0.99707\ttest-auc:0.97541\n",
      "[19]\ttrain-auc:0.99733\ttest-auc:0.97523\n",
      "[20]\ttrain-auc:0.99733\ttest-auc:0.97487\n",
      "[21]\ttrain-auc:0.99743\ttest-auc:0.97572\n",
      "[22]\ttrain-auc:0.99771\ttest-auc:0.97928\n",
      "[23]\ttrain-auc:0.99787\ttest-auc:0.98099\n",
      "[24]\ttrain-auc:0.99798\ttest-auc:0.98167\n",
      "[25]\ttrain-auc:0.99817\ttest-auc:0.98048\n",
      "[26]\ttrain-auc:0.99829\ttest-auc:0.98012\n",
      "[27]\ttrain-auc:0.99831\ttest-auc:0.98012\n",
      "[28]\ttrain-auc:0.99833\ttest-auc:0.98002\n",
      "[29]\ttrain-auc:0.99835\ttest-auc:0.98114\n",
      "[30]\ttrain-auc:0.99842\ttest-auc:0.98282\n",
      "[31]\ttrain-auc:0.99857\ttest-auc:0.98296\n",
      "[32]\ttrain-auc:0.99862\ttest-auc:0.98349\n",
      "[33]\ttrain-auc:0.99863\ttest-auc:0.98426\n",
      "[34]\ttrain-auc:0.99868\ttest-auc:0.98335\n",
      "[35]\ttrain-auc:0.99878\ttest-auc:0.98315\n",
      "[36]\ttrain-auc:0.99886\ttest-auc:0.98266\n",
      "[37]\ttrain-auc:0.99888\ttest-auc:0.98264\n",
      "[38]\ttrain-auc:0.99898\ttest-auc:0.98363\n",
      "[39]\ttrain-auc:0.99900\ttest-auc:0.98349\n",
      "[40]\ttrain-auc:0.99907\ttest-auc:0.98413\n",
      "[41]\ttrain-auc:0.99911\ttest-auc:0.98510\n",
      "[42]\ttrain-auc:0.99914\ttest-auc:0.98512\n",
      "[43]\ttrain-auc:0.99920\ttest-auc:0.98557\n",
      "[44]\ttrain-auc:0.99920\ttest-auc:0.98581\n",
      "[45]\ttrain-auc:0.99923\ttest-auc:0.98586\n",
      "[46]\ttrain-auc:0.99926\ttest-auc:0.98575\n",
      "[47]\ttrain-auc:0.99928\ttest-auc:0.98561\n",
      "[48]\ttrain-auc:0.99932\ttest-auc:0.98467\n",
      "[49]\ttrain-auc:0.99934\ttest-auc:0.98469\n",
      "[50]\ttrain-auc:0.99935\ttest-auc:0.98449\n",
      "[51]\ttrain-auc:0.99937\ttest-auc:0.98472\n",
      "[52]\ttrain-auc:0.99938\ttest-auc:0.98478\n",
      "[53]\ttrain-auc:0.99941\ttest-auc:0.98476\n",
      "[54]\ttrain-auc:0.99941\ttest-auc:0.98505\n",
      "[55]\ttrain-auc:0.99945\ttest-auc:0.98492\n",
      "[56]\ttrain-auc:0.99945\ttest-auc:0.98472\n",
      "[57]\ttrain-auc:0.99945\ttest-auc:0.98492\n",
      "[58]\ttrain-auc:0.99947\ttest-auc:0.98454\n",
      "[59]\ttrain-auc:0.99948\ttest-auc:0.98458\n",
      "[60]\ttrain-auc:0.99949\ttest-auc:0.98451\n",
      "[61]\ttrain-auc:0.99951\ttest-auc:0.98469\n",
      "[62]\ttrain-auc:0.99953\ttest-auc:0.98476\n",
      "[63]\ttrain-auc:0.99954\ttest-auc:0.98484\n",
      "[64]\ttrain-auc:0.99953\ttest-auc:0.98491\n",
      "[65]\ttrain-auc:0.99955\ttest-auc:0.98511\n",
      "[66]\ttrain-auc:0.99959\ttest-auc:0.98502\n",
      "[67]\ttrain-auc:0.99960\ttest-auc:0.98515\n",
      "[68]\ttrain-auc:0.99959\ttest-auc:0.98484\n",
      "[69]\ttrain-auc:0.99960\ttest-auc:0.98488\n",
      "[70]\ttrain-auc:0.99960\ttest-auc:0.98486\n",
      "[71]\ttrain-auc:0.99960\ttest-auc:0.98486\n",
      "[72]\ttrain-auc:0.99960\ttest-auc:0.98482\n",
      "[73]\ttrain-auc:0.99960\ttest-auc:0.98516\n",
      "[74]\ttrain-auc:0.99962\ttest-auc:0.98557\n",
      "[75]\ttrain-auc:0.99962\ttest-auc:0.98577\n",
      "[76]\ttrain-auc:0.99963\ttest-auc:0.98561\n",
      "[77]\ttrain-auc:0.99963\ttest-auc:0.98568\n",
      "[78]\ttrain-auc:0.99964\ttest-auc:0.98550\n",
      "[79]\ttrain-auc:0.99964\ttest-auc:0.98555\n",
      "[80]\ttrain-auc:0.99964\ttest-auc:0.98570\n",
      "[81]\ttrain-auc:0.99964\ttest-auc:0.98586\n",
      "[82]\ttrain-auc:0.99963\ttest-auc:0.98586\n",
      "[83]\ttrain-auc:0.99964\ttest-auc:0.98615\n",
      "[84]\ttrain-auc:0.99965\ttest-auc:0.98604\n",
      "[85]\ttrain-auc:0.99964\ttest-auc:0.98597\n",
      "[86]\ttrain-auc:0.99964\ttest-auc:0.98577\n",
      "[87]\ttrain-auc:0.99964\ttest-auc:0.98541\n",
      "[88]\ttrain-auc:0.99964\ttest-auc:0.98546\n",
      "[89]\ttrain-auc:0.99964\ttest-auc:0.98519\n",
      "[90]\ttrain-auc:0.99966\ttest-auc:0.98557\n",
      "[91]\ttrain-auc:0.99966\ttest-auc:0.98564\n",
      "[92]\ttrain-auc:0.99965\ttest-auc:0.98568\n",
      "[93]\ttrain-auc:0.99965\ttest-auc:0.98557\n",
      "[94]\ttrain-auc:0.99966\ttest-auc:0.98541\n",
      "[95]\ttrain-auc:0.99966\ttest-auc:0.98566\n",
      "[96]\ttrain-auc:0.99966\ttest-auc:0.98564\n",
      "[97]\ttrain-auc:0.99964\ttest-auc:0.98599\n",
      "[98]\ttrain-auc:0.99963\ttest-auc:0.98577\n",
      "[99]\ttrain-auc:0.99964\ttest-auc:0.98577\n"
     ]
    }
   ],
   "execution_count": 29
  },
  {
   "metadata": {
    "ExecuteTime": {
     "end_time": "2024-10-23T21:01:54.641596Z",
     "start_time": "2024-10-23T21:01:54.405663Z"
    }
   },
   "cell_type": "code",
   "source": [
    "xgb.plot_importance(bst,max_num_features=20, importance_type='gain', height=0.5)\n",
    "plt.show()"
   ],
   "id": "6f50554a9d24873",
   "outputs": [
    {
     "data": {
      "text/plain": [
       "<Figure size 640x480 with 1 Axes>"
      ],
      "image/png": "[encoded data removed]"
     },
     "metadata": {},
     "output_type": "display_data"
    }
   ],
   "execution_count": 30
  },
  {
   "metadata": {
    "ExecuteTime": {
     "end_time": "2024-10-23T21:01:54.649486Z",
     "start_time": "2024-10-23T21:01:54.642598Z"
    }
   },
   "cell_type": "code",
   "source": [
    "def xgb_optimization(\n",
    "        num_boost_round,\n",
    "        learning_rate,\n",
    "        gamma,\n",
    "        max_depth,\n",
    "        min_child_weight,\n",
    "        subsample,\n",
    "        colsample_bytree,\n",
    "        alpha\n",
    "):\n",
    "    num_boost_round = int(num_boost_round)\n",
    "    params = {}\n",
    "    params['objective'] = 'binary:logistic'\n",
    "    params['eval_metric'] = 'auc'\n",
    "    params['booster'] = 'gbtree'\n",
    "    params['eta'] = float(learning_rate)\n",
    "    params['max_depth'] = int(max_depth)\n",
    "    params['min_child_weight'] = int(min_child_weight)\n",
    "    params['subsample'] = float(subsample)\n",
    "    params['colsample_bytree'] = float(colsample_bytree)\n",
    "    params['alpha'] = float(alpha)\n",
    "    params['gamma'] = float(gamma)\n",
    "    \n",
    "    cv_results = xgb.cv(params,dtrain,num_boost_round= num_boost_round, early_stopping_rounds=20, seed=24)\n",
    "    return cv_results['test-auc-mean'].iloc[-1]"
   ],
   "id": "56c12c72ac78bf37",
   "outputs": [],
   "execution_count": 31
  },
  {
   "metadata": {
    "ExecuteTime": {
     "end_time": "2024-10-23T21:07:47.021782Z",
     "start_time": "2024-10-23T21:01:54.650490Z"
    }
   },
   "cell_type": "code",
   "source": [
    "from bayes_opt import BayesianOptimization\n",
    "pbounds = {\n",
    "    'num_boost_round' : (100, 200),\n",
    "    'learning_rate' : (0.05, 0.2),\n",
    "    'gamma' : (0.1, 0.5),\n",
    "    'max_depth' : (5, 10),\n",
    "    'min_child_weight' : (1, 5),\n",
    "    'subsample' : (0.5, 1),\n",
    "    'colsample_bytree' : (0.5, 1),\n",
    "    'alpha' : (0, 10),\n",
    "    \n",
    "}\n",
    "xgb_opt = BayesianOptimization(xgb_optimization,pbounds)\n",
    "xgb_opt.maximize(init_points=5, n_iter=30)\n"
   ],
   "id": "40713e07d68331f5",
   "outputs": [
    {
     "name": "stdout",
     "output_type": "stream",
     "text": [
      "|   iter    |  target   |   alpha   | colsam... |   gamma   | learni... | max_depth | min_ch... | num_bo... | subsample |\n",
      "-------------------------------------------------------------------------------------------------------------------------\n",
      "| \u001B[39m1        \u001B[39m | \u001B[39m0.9766   \u001B[39m | \u001B[39m9.223    \u001B[39m | \u001B[39m0.6765   \u001B[39m | \u001B[39m0.1111   \u001B[39m | \u001B[39m0.09068  \u001B[39m | \u001B[39m6.812    \u001B[39m | \u001B[39m1.43     \u001B[39m | \u001B[39m137.9    \u001B[39m | \u001B[39m0.9201   \u001B[39m |\n",
      "| \u001B[35m2        \u001B[39m | \u001B[35m0.9836   \u001B[39m | \u001B[35m0.7731   \u001B[39m | \u001B[35m0.6335   \u001B[39m | \u001B[35m0.4191   \u001B[39m | \u001B[35m0.1513   \u001B[39m | \u001B[35m7.244    \u001B[39m | \u001B[35m3.623    \u001B[39m | \u001B[35m167.4    \u001B[39m | \u001B[35m0.7878   \u001B[39m |\n",
      "| \u001B[39m3        \u001B[39m | \u001B[39m0.9691   \u001B[39m | \u001B[39m7.944    \u001B[39m | \u001B[39m0.7734   \u001B[39m | \u001B[39m0.3212   \u001B[39m | \u001B[39m0.08883  \u001B[39m | \u001B[39m6.12     \u001B[39m | \u001B[39m3.141    \u001B[39m | \u001B[39m170.4    \u001B[39m | \u001B[39m0.7028   \u001B[39m |\n",
      "| \u001B[39m4        \u001B[39m | \u001B[39m0.97     \u001B[39m | \u001B[39m7.358    \u001B[39m | \u001B[39m0.5006   \u001B[39m | \u001B[39m0.103    \u001B[39m | \u001B[39m0.1849   \u001B[39m | \u001B[39m6.263    \u001B[39m | \u001B[39m4.56     \u001B[39m | \u001B[39m156.1    \u001B[39m | \u001B[39m0.6295   \u001B[39m |\n",
      "| \u001B[39m5        \u001B[39m | \u001B[39m0.97     \u001B[39m | \u001B[39m8.156    \u001B[39m | \u001B[39m0.9058   \u001B[39m | \u001B[39m0.3941   \u001B[39m | \u001B[39m0.1161   \u001B[39m | \u001B[39m9.184    \u001B[39m | \u001B[39m2.381    \u001B[39m | \u001B[39m193.2    \u001B[39m | \u001B[39m0.7314   \u001B[39m |\n",
      "| \u001B[35m6        \u001B[39m | \u001B[35m0.9842   \u001B[39m | \u001B[35m1.422    \u001B[39m | \u001B[35m0.9151   \u001B[39m | \u001B[35m0.3569   \u001B[39m | \u001B[35m0.1061   \u001B[39m | \u001B[35m7.813    \u001B[39m | \u001B[35m2.768    \u001B[39m | \u001B[35m189.0    \u001B[39m | \u001B[35m0.7086   \u001B[39m |\n",
      "| \u001B[39m7        \u001B[39m | \u001B[39m0.9835   \u001B[39m | \u001B[39m1.39     \u001B[39m | \u001B[39m0.9191   \u001B[39m | \u001B[39m0.4294   \u001B[39m | \u001B[39m0.09639  \u001B[39m | \u001B[39m7.81     \u001B[39m | \u001B[39m2.863    \u001B[39m | \u001B[39m189.0    \u001B[39m | \u001B[39m0.7681   \u001B[39m |\n",
      "| \u001B[39m8        \u001B[39m | \u001B[39m0.9832   \u001B[39m | \u001B[39m1.3      \u001B[39m | \u001B[39m0.8699   \u001B[39m | \u001B[39m0.1      \u001B[39m | \u001B[39m0.2      \u001B[39m | \u001B[39m7.667    \u001B[39m | \u001B[39m1.105    \u001B[39m | \u001B[39m187.2    \u001B[39m | \u001B[39m0.5      \u001B[39m |\n",
      "| \u001B[39m9        \u001B[39m | \u001B[39m0.9797   \u001B[39m | \u001B[39m3.315    \u001B[39m | \u001B[39m0.5164   \u001B[39m | \u001B[39m0.1      \u001B[39m | \u001B[39m0.2      \u001B[39m | \u001B[39m9.291    \u001B[39m | \u001B[39m2.567    \u001B[39m | \u001B[39m187.6    \u001B[39m | \u001B[39m0.5      \u001B[39m |\n",
      "| \u001B[39m10       \u001B[39m | \u001B[39m0.9816   \u001B[39m | \u001B[39m2.356    \u001B[39m | \u001B[39m1.0      \u001B[39m | \u001B[39m0.1      \u001B[39m | \u001B[39m0.2      \u001B[39m | \u001B[39m6.123    \u001B[39m | \u001B[39m1.0      \u001B[39m | \u001B[39m189.4    \u001B[39m | \u001B[39m0.5      \u001B[39m |\n",
      "| \u001B[39m11       \u001B[39m | \u001B[39m0.9825   \u001B[39m | \u001B[39m1.439    \u001B[39m | \u001B[39m1.0      \u001B[39m | \u001B[39m0.1      \u001B[39m | \u001B[39m0.2      \u001B[39m | \u001B[39m5.941    \u001B[39m | \u001B[39m3.511    \u001B[39m | \u001B[39m187.0    \u001B[39m | \u001B[39m0.5      \u001B[39m |\n",
      "| \u001B[35m12       \u001B[39m | \u001B[35m0.9874   \u001B[39m | \u001B[35m0.0      \u001B[39m | \u001B[35m0.9007   \u001B[39m | \u001B[35m0.1935   \u001B[39m | \u001B[35m0.1126   \u001B[39m | \u001B[35m9.271    \u001B[39m | \u001B[35m2.474    \u001B[39m | \u001B[35m165.1    \u001B[39m | \u001B[35m0.8235   \u001B[39m |\n",
      "| \u001B[39m13       \u001B[39m | \u001B[39m0.9819   \u001B[39m | \u001B[39m0.0      \u001B[39m | \u001B[39m0.9203   \u001B[39m | \u001B[39m0.2787   \u001B[39m | \u001B[39m0.1842   \u001B[39m | \u001B[39m8.828    \u001B[39m | \u001B[39m5.0      \u001B[39m | \u001B[39m164.1    \u001B[39m | \u001B[39m0.5135   \u001B[39m |\n",
      "| \u001B[39m14       \u001B[39m | \u001B[39m0.9861   \u001B[39m | \u001B[39m0.0      \u001B[39m | \u001B[39m0.5      \u001B[39m | \u001B[39m0.5      \u001B[39m | \u001B[39m0.05     \u001B[39m | \u001B[39m10.0     \u001B[39m | \u001B[39m1.0      \u001B[39m | \u001B[39m167.3    \u001B[39m | \u001B[39m0.9977   \u001B[39m |\n",
      "| \u001B[39m15       \u001B[39m | \u001B[39m0.9801   \u001B[39m | \u001B[39m2.471    \u001B[39m | \u001B[39m0.6372   \u001B[39m | \u001B[39m0.2537   \u001B[39m | \u001B[39m0.09071  \u001B[39m | \u001B[39m10.0     \u001B[39m | \u001B[39m1.0      \u001B[39m | \u001B[39m164.9    \u001B[39m | \u001B[39m0.5651   \u001B[39m |\n",
      "| \u001B[39m16       \u001B[39m | \u001B[39m0.9856   \u001B[39m | \u001B[39m0.0      \u001B[39m | \u001B[39m1.0      \u001B[39m | \u001B[39m0.5      \u001B[39m | \u001B[39m0.05     \u001B[39m | \u001B[39m7.047    \u001B[39m | \u001B[39m1.0      \u001B[39m | \u001B[39m165.6    \u001B[39m | \u001B[39m1.0      \u001B[39m |\n",
      "| \u001B[39m17       \u001B[39m | \u001B[39m0.9851   \u001B[39m | \u001B[39m0.0      \u001B[39m | \u001B[39m1.0      \u001B[39m | \u001B[39m0.1      \u001B[39m | \u001B[39m0.05     \u001B[39m | \u001B[39m10.0     \u001B[39m | \u001B[39m3.967    \u001B[39m | \u001B[39m167.9    \u001B[39m | \u001B[39m1.0      \u001B[39m |\n",
      "| \u001B[35m18       \u001B[39m | \u001B[35m0.9876   \u001B[39m | \u001B[35m0.0      \u001B[39m | \u001B[35m1.0      \u001B[39m | \u001B[35m0.1      \u001B[39m | \u001B[35m0.05     \u001B[39m | \u001B[35m8.735    \u001B[39m | \u001B[35m1.0      \u001B[39m | \u001B[35m171.1    \u001B[39m | \u001B[35m1.0      \u001B[39m |\n",
      "| \u001B[39m19       \u001B[39m | \u001B[39m0.9822   \u001B[39m | \u001B[39m0.0      \u001B[39m | \u001B[39m0.9817   \u001B[39m | \u001B[39m0.5      \u001B[39m | \u001B[39m0.05     \u001B[39m | \u001B[39m10.0     \u001B[39m | \u001B[39m3.303    \u001B[39m | \u001B[39m173.2    \u001B[39m | \u001B[39m0.5      \u001B[39m |\n",
      "| \u001B[39m20       \u001B[39m | \u001B[39m0.9835   \u001B[39m | \u001B[39m0.0      \u001B[39m | \u001B[39m1.0      \u001B[39m | \u001B[39m0.1      \u001B[39m | \u001B[39m0.05     \u001B[39m | \u001B[39m5.542    \u001B[39m | \u001B[39m1.0      \u001B[39m | \u001B[39m170.6    \u001B[39m | \u001B[39m1.0      \u001B[39m |\n",
      "| \u001B[35m21       \u001B[39m | \u001B[35m0.9879   \u001B[39m | \u001B[35m0.0      \u001B[39m | \u001B[35m0.5      \u001B[39m | \u001B[35m0.1      \u001B[39m | \u001B[35m0.2      \u001B[39m | \u001B[35m6.811    \u001B[39m | \u001B[35m1.0      \u001B[39m | \u001B[35m174.8    \u001B[39m | \u001B[35m1.0      \u001B[39m |\n",
      "| \u001B[39m22       \u001B[39m | \u001B[39m0.9835   \u001B[39m | \u001B[39m0.0      \u001B[39m | \u001B[39m1.0      \u001B[39m | \u001B[39m0.1      \u001B[39m | \u001B[39m0.05     \u001B[39m | \u001B[39m5.0      \u001B[39m | \u001B[39m1.0      \u001B[39m | \u001B[39m177.7    \u001B[39m | \u001B[39m1.0      \u001B[39m |\n",
      "| \u001B[39m23       \u001B[39m | \u001B[39m0.9824   \u001B[39m | \u001B[39m2.546    \u001B[39m | \u001B[39m0.5      \u001B[39m | \u001B[39m0.1      \u001B[39m | \u001B[39m0.2      \u001B[39m | \u001B[39m8.489    \u001B[39m | \u001B[39m1.0      \u001B[39m | \u001B[39m175.8    \u001B[39m | \u001B[39m1.0      \u001B[39m |\n",
      "| \u001B[39m24       \u001B[39m | \u001B[39m0.9834   \u001B[39m | \u001B[39m0.0      \u001B[39m | \u001B[39m0.5      \u001B[39m | \u001B[39m0.1      \u001B[39m | \u001B[39m0.2      \u001B[39m | \u001B[39m5.129    \u001B[39m | \u001B[39m3.766    \u001B[39m | \u001B[39m174.4    \u001B[39m | \u001B[39m1.0      \u001B[39m |\n",
      "| \u001B[39m25       \u001B[39m | \u001B[39m0.9724   \u001B[39m | \u001B[39m0.0      \u001B[39m | \u001B[39m0.5      \u001B[39m | \u001B[39m0.1      \u001B[39m | \u001B[39m0.05     \u001B[39m | \u001B[39m5.0      \u001B[39m | \u001B[39m1.0      \u001B[39m | \u001B[39m161.5    \u001B[39m | \u001B[39m1.0      \u001B[39m |\n",
      "| \u001B[39m26       \u001B[39m | \u001B[39m0.98     \u001B[39m | \u001B[39m0.6428   \u001B[39m | \u001B[39m0.8793   \u001B[39m | \u001B[39m0.3455   \u001B[39m | \u001B[39m0.07034  \u001B[39m | \u001B[39m9.809    \u001B[39m | \u001B[39m4.408    \u001B[39m | \u001B[39m100.0    \u001B[39m | \u001B[39m0.6883   \u001B[39m |\n",
      "| \u001B[39m27       \u001B[39m | \u001B[39m0.98     \u001B[39m | \u001B[39m1.451    \u001B[39m | \u001B[39m0.5      \u001B[39m | \u001B[39m0.5      \u001B[39m | \u001B[39m0.2      \u001B[39m | \u001B[39m7.271    \u001B[39m | \u001B[39m1.0      \u001B[39m | \u001B[39m172.7    \u001B[39m | \u001B[39m0.5      \u001B[39m |\n",
      "| \u001B[39m28       \u001B[39m | \u001B[39m0.9856   \u001B[39m | \u001B[39m0.0      \u001B[39m | \u001B[39m0.5      \u001B[39m | \u001B[39m0.1      \u001B[39m | \u001B[39m0.2      \u001B[39m | \u001B[39m7.942    \u001B[39m | \u001B[39m2.617    \u001B[39m | \u001B[39m176.9    \u001B[39m | \u001B[39m1.0      \u001B[39m |\n",
      "| \u001B[39m29       \u001B[39m | \u001B[39m0.9879   \u001B[39m | \u001B[39m0.0      \u001B[39m | \u001B[39m1.0      \u001B[39m | \u001B[39m0.3311   \u001B[39m | \u001B[39m0.2      \u001B[39m | \u001B[39m10.0     \u001B[39m | \u001B[39m1.0      \u001B[39m | \u001B[39m179.7    \u001B[39m | \u001B[39m0.8241   \u001B[39m |\n",
      "| \u001B[39m30       \u001B[39m | \u001B[39m0.9812   \u001B[39m | \u001B[39m0.0      \u001B[39m | \u001B[39m1.0      \u001B[39m | \u001B[39m0.2299   \u001B[39m | \u001B[39m0.05     \u001B[39m | \u001B[39m10.0     \u001B[39m | \u001B[39m3.841    \u001B[39m | \u001B[39m180.9    \u001B[39m | \u001B[39m0.5      \u001B[39m |\n",
      "| \u001B[39m31       \u001B[39m | \u001B[39m0.987    \u001B[39m | \u001B[39m0.0      \u001B[39m | \u001B[39m1.0      \u001B[39m | \u001B[39m0.1      \u001B[39m | \u001B[39m0.05     \u001B[39m | \u001B[39m10.0     \u001B[39m | \u001B[39m1.0      \u001B[39m | \u001B[39m177.0    \u001B[39m | \u001B[39m1.0      \u001B[39m |\n",
      "| \u001B[39m32       \u001B[39m | \u001B[39m0.9804   \u001B[39m | \u001B[39m3.087    \u001B[39m | \u001B[39m1.0      \u001B[39m | \u001B[39m0.5      \u001B[39m | \u001B[39m0.2      \u001B[39m | \u001B[39m10.0     \u001B[39m | \u001B[39m1.0      \u001B[39m | \u001B[39m179.9    \u001B[39m | \u001B[39m1.0      \u001B[39m |\n",
      "| \u001B[39m33       \u001B[39m | \u001B[39m0.985    \u001B[39m | \u001B[39m0.0      \u001B[39m | \u001B[39m1.0      \u001B[39m | \u001B[39m0.1      \u001B[39m | \u001B[39m0.05     \u001B[39m | \u001B[39m7.477    \u001B[39m | \u001B[39m1.0      \u001B[39m | \u001B[39m180.6    \u001B[39m | \u001B[39m1.0      \u001B[39m |\n",
      "| \u001B[39m34       \u001B[39m | \u001B[39m0.9625   \u001B[39m | \u001B[39m9.829    \u001B[39m | \u001B[39m0.9038   \u001B[39m | \u001B[39m0.4663   \u001B[39m | \u001B[39m0.08089  \u001B[39m | \u001B[39m5.965    \u001B[39m | \u001B[39m4.734    \u001B[39m | \u001B[39m117.2    \u001B[39m | \u001B[39m0.7386   \u001B[39m |\n",
      "| \u001B[39m35       \u001B[39m | \u001B[39m0.9864   \u001B[39m | \u001B[39m0.0      \u001B[39m | \u001B[39m0.5      \u001B[39m | \u001B[39m0.1      \u001B[39m | \u001B[39m0.2      \u001B[39m | \u001B[39m10.0     \u001B[39m | \u001B[39m1.0      \u001B[39m | \u001B[39m128.7    \u001B[39m | \u001B[39m0.5563   \u001B[39m |\n",
      "=========================================================================================================================\n"
     ]
    }
   ],
   "execution_count": 32
  },
  {
   "metadata": {
    "ExecuteTime": {
     "end_time": "2024-10-23T21:07:47.031812Z",
     "start_time": "2024-10-23T21:07:47.026813Z"
    }
   },
   "cell_type": "code",
   "source": "",
   "id": "bbf1ff2ea2dfe0ca",
   "outputs": [],
   "execution_count": 32
  }
 ],
 "metadata": {
  "kernelspec": {
   "display_name": "Python 3",
   "language": "python",
   "name": "python3"
  },
  "language_info": {
   "codemirror_mode": {
    "name": "ipython",
    "version": 2
   },
   "file_extension": ".py",
   "mimetype": "text/x-python",
   "name": "python",
   "nbconvert_exporter": "python",
   "pygments_lexer": "ipython2",
   "version": "2.7.6"
  }
 },
 "nbformat": 4,
 "nbformat_minor": 5
}
