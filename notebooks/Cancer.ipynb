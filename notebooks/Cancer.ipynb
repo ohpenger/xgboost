{
 "cells": [
  {
   "metadata": {
    "ExecuteTime": {
     "end_time": "2024-09-24T09:35:40.399775Z",
     "start_time": "2024-09-24T09:35:39.032628Z"
    }
   },
   "cell_type": "code",
   "source": [
    "import numpy as np\n",
    "import pandas as pd\n",
    "import xgboost as xgb\n",
    "from sklearn import datasets\n",
    "from sklearn.model_selection import train_test_split"
   ],
   "id": "91a503ab98f56f84",
   "outputs": [],
   "execution_count": 1
  },
  {
   "metadata": {
    "ExecuteTime": {
     "end_time": "2024-09-24T09:35:40.417369Z",
     "start_time": "2024-09-24T09:35:40.400776Z"
    }
   },
   "cell_type": "code",
   "source": [
    "cancer = datasets.load_breast_cancer()\n",
    "X = cancer.data\n",
    "y = cancer.target\n",
    "X_train, X_test, y_train, y_test = train_test_split(X, y, test_size=0.2, random_state=0)\n",
    "Dtrain = xgb.DMatrix(X_train,y_train)\n",
    "Dtest = xgb.DMatrix(X_test,y_test)\n",
    "params = {\n",
    "    'objective': 'binary:logistic',\n",
    "    'booster': 'gbtree',\n",
    "    'eval_metric': 'auc',\n",
    "    'eta': 0.1,\n",
    "    'min_child_weight': 1,\n",
    "}\n",
    "watchlist = [(Dtrain, 'train'),(Dtest, 'test')]\n",
    "num_round = 50\n",
    "\n"
   ],
   "id": "eabd915674753746",
   "outputs": [],
   "execution_count": 2
  },
  {
   "metadata": {
    "ExecuteTime": {
     "end_time": "2024-09-24T09:35:40.518893Z",
     "start_time": "2024-09-24T09:35:40.418370Z"
    }
   },
   "cell_type": "code",
   "source": "bst = xgb.train(params,Dtrain, num_round,watchlist)",
   "id": "d77f0fb6e52a6506",
   "outputs": [
    {
     "name": "stdout",
     "output_type": "stream",
     "text": [
      "[0]\ttrain-auc:0.98800\ttest-auc:0.99381\n",
      "[1]\ttrain-auc:0.99542\ttest-auc:0.99381\n",
      "[2]\ttrain-auc:0.99555\ttest-auc:0.99492\n",
      "[3]\ttrain-auc:0.99554\ttest-auc:0.99460\n",
      "[4]\ttrain-auc:0.99565\ttest-auc:0.99460\n",
      "[5]\ttrain-auc:0.99575\ttest-auc:0.99428\n",
      "[6]\ttrain-auc:0.99590\ttest-auc:0.99428\n",
      "[7]\ttrain-auc:0.99848\ttest-auc:0.99428\n",
      "[8]\ttrain-auc:0.99853\ttest-auc:0.99397\n",
      "[9]\ttrain-auc:0.99848\ttest-auc:0.99365\n",
      "[10]\ttrain-auc:0.99883\ttest-auc:0.99428\n",
      "[11]\ttrain-auc:0.99929\ttest-auc:0.99460\n",
      "[12]\ttrain-auc:0.99931\ttest-auc:0.99428\n",
      "[13]\ttrain-auc:0.99952\ttest-auc:0.99428\n",
      "[14]\ttrain-auc:0.99964\ttest-auc:0.99492\n",
      "[15]\ttrain-auc:0.99960\ttest-auc:0.99428\n",
      "[16]\ttrain-auc:0.99971\ttest-auc:0.99397\n",
      "[17]\ttrain-auc:0.99967\ttest-auc:0.99428\n",
      "[18]\ttrain-auc:0.99967\ttest-auc:0.99460\n",
      "[19]\ttrain-auc:0.99971\ttest-auc:0.99492\n",
      "[20]\ttrain-auc:0.99975\ttest-auc:0.99524\n",
      "[21]\ttrain-auc:0.99979\ttest-auc:0.99555\n",
      "[22]\ttrain-auc:0.99981\ttest-auc:0.99555\n",
      "[23]\ttrain-auc:0.99987\ttest-auc:0.99524\n",
      "[24]\ttrain-auc:0.99985\ttest-auc:0.99555\n",
      "[25]\ttrain-auc:0.99985\ttest-auc:0.99555\n",
      "[26]\ttrain-auc:0.99992\ttest-auc:0.99555\n",
      "[27]\ttrain-auc:0.99992\ttest-auc:0.99619\n",
      "[28]\ttrain-auc:0.99994\ttest-auc:0.99619\n",
      "[29]\ttrain-auc:0.99994\ttest-auc:0.99619\n",
      "[30]\ttrain-auc:0.99996\ttest-auc:0.99651\n",
      "[31]\ttrain-auc:0.99996\ttest-auc:0.99587\n",
      "[32]\ttrain-auc:0.99996\ttest-auc:0.99651\n",
      "[33]\ttrain-auc:1.00000\ttest-auc:0.99651\n",
      "[34]\ttrain-auc:1.00000\ttest-auc:0.99651\n",
      "[35]\ttrain-auc:1.00000\ttest-auc:0.99651\n",
      "[36]\ttrain-auc:1.00000\ttest-auc:0.99714\n",
      "[37]\ttrain-auc:1.00000\ttest-auc:0.99714\n",
      "[38]\ttrain-auc:1.00000\ttest-auc:0.99714\n",
      "[39]\ttrain-auc:1.00000\ttest-auc:0.99746\n",
      "[40]\ttrain-auc:1.00000\ttest-auc:0.99778\n",
      "[41]\ttrain-auc:1.00000\ttest-auc:0.99778\n",
      "[42]\ttrain-auc:1.00000\ttest-auc:0.99778\n",
      "[43]\ttrain-auc:1.00000\ttest-auc:0.99778\n",
      "[44]\ttrain-auc:1.00000\ttest-auc:0.99746\n",
      "[45]\ttrain-auc:1.00000\ttest-auc:0.99746\n",
      "[46]\ttrain-auc:1.00000\ttest-auc:0.99714\n",
      "[47]\ttrain-auc:1.00000\ttest-auc:0.99714\n",
      "[48]\ttrain-auc:1.00000\ttest-auc:0.99714\n",
      "[49]\ttrain-auc:1.00000\ttest-auc:0.99714\n"
     ]
    },
    {
     "name": "stderr",
     "output_type": "stream",
     "text": [
      "F:\\envs\\ML\\lib\\site-packages\\xgboost\\core.py:723: FutureWarning: Pass `evals` as keyword args.\n",
      "  warnings.warn(msg, FutureWarning)\n"
     ]
    }
   ],
   "execution_count": 3
  },
  {
   "metadata": {
    "ExecuteTime": {
     "end_time": "2024-09-24T09:35:40.531896Z",
     "start_time": "2024-09-24T09:35:40.519894Z"
    }
   },
   "cell_type": "code",
   "source": [
    "Dtest.save_binary('../data/cancer/cancer.buffer')\n",
    "Dtest2 = xgb.DMatrix('../data/cancer/cancer.buffer')\n",
    "pred = bst.predict(Dtest2)\n",
    "print(pred)"
   ],
   "id": "f3c08e55ef1ba4ae",
   "outputs": [
    {
     "name": "stdout",
     "output_type": "stream",
     "text": [
      "[0.01220779 0.96091884 0.9912094  0.98322254 0.98909354 0.9948566\n",
      " 0.9916618  0.99161434 0.9879659  0.9954991  0.49994504 0.9839542\n",
      " 0.99421483 0.16757697 0.39245218 0.08739442 0.9812754  0.00920953\n",
      " 0.00924445 0.00902297 0.01922355 0.01143483 0.9892077  0.99545443\n",
      " 0.01688493 0.9950158  0.99390393 0.04599945 0.995369   0.00856125\n",
      " 0.99091095 0.01673225 0.9821117  0.01180545 0.99390393 0.00977522\n",
      " 0.9923086  0.02249466 0.9947984  0.00998342 0.43411916 0.9929885\n",
      " 0.20828968 0.99372816 0.90863013 0.00924445 0.99390393 0.9882189\n",
      " 0.9925817  0.00902984 0.01421841 0.01973597 0.01031474 0.99545443\n",
      " 0.99524176 0.9942059  0.98052067 0.9642527  0.9793353  0.00902297\n",
      " 0.00980202 0.01201961 0.99524176 0.99438465 0.01024733 0.84502715\n",
      " 0.00998479 0.00856125 0.00902297 0.98991066 0.70446074 0.00856125\n",
      " 0.9954991  0.5332857  0.01229395 0.9845501  0.9944824  0.95591223\n",
      " 0.99390393 0.9948566  0.0218269  0.00949073 0.00856125 0.99036247\n",
      " 0.01301393 0.99325764 0.9915821  0.9954991  0.00928118 0.00856125\n",
      " 0.9954991  0.36812472 0.6155219  0.00920117 0.9869696  0.988434\n",
      " 0.00856125 0.9675528  0.99259275 0.9944712  0.9943715  0.9917001\n",
      " 0.99324    0.9642108  0.00900736 0.97810054 0.00856125 0.97033566\n",
      " 0.422398   0.03107105 0.9946444  0.00900736 0.00913023 0.8749015 ]\n"
     ]
    }
   ],
   "execution_count": 4
  },
  {
   "metadata": {
    "ExecuteTime": {
     "end_time": "2024-09-24T09:35:40.617410Z",
     "start_time": "2024-09-24T09:35:40.534893Z"
    }
   },
   "cell_type": "code",
   "source": [
    "pred_train = bst.predict(Dtrain,output_margin=True)\n",
    "pred_test = bst.predict(Dtest,output_margin=True)\n",
    "\n",
    "Dtrain.set_base_margin(pred_train)\n",
    "Dtest.set_base_margin(pred_test)\n",
    "\n",
    "bst2 = xgb.train(params,Dtrain,num_round,watchlist)\n",
    "# final_test = bst.predict(Dtest)\n",
    "# print(final_test)"
   ],
   "id": "ba87097705607f71",
   "outputs": [
    {
     "name": "stdout",
     "output_type": "stream",
     "text": [
      "[0]\ttrain-auc:1.00000\ttest-auc:0.99714\n",
      "[1]\ttrain-auc:1.00000\ttest-auc:0.99714\n",
      "[2]\ttrain-auc:1.00000\ttest-auc:0.99714\n",
      "[3]\ttrain-auc:1.00000\ttest-auc:0.99714\n",
      "[4]\ttrain-auc:1.00000\ttest-auc:0.99714\n",
      "[5]\ttrain-auc:1.00000\ttest-auc:0.99714\n",
      "[6]\ttrain-auc:1.00000\ttest-auc:0.99714\n",
      "[7]\ttrain-auc:1.00000\ttest-auc:0.99714\n",
      "[8]\ttrain-auc:1.00000\ttest-auc:0.99714\n",
      "[9]\ttrain-auc:1.00000\ttest-auc:0.99714\n",
      "[10]\ttrain-auc:1.00000\ttest-auc:0.99714\n",
      "[11]\ttrain-auc:1.00000\ttest-auc:0.99714\n",
      "[12]\ttrain-auc:1.00000\ttest-auc:0.99714\n",
      "[13]\ttrain-auc:1.00000\ttest-auc:0.99714\n",
      "[14]\ttrain-auc:1.00000\ttest-auc:0.99714\n",
      "[15]\ttrain-auc:1.00000\ttest-auc:0.99714\n",
      "[16]\ttrain-auc:1.00000\ttest-auc:0.99714\n",
      "[17]\ttrain-auc:1.00000\ttest-auc:0.99714\n",
      "[18]\ttrain-auc:1.00000\ttest-auc:0.99714\n",
      "[19]\ttrain-auc:1.00000\ttest-auc:0.99714\n",
      "[20]\ttrain-auc:1.00000\ttest-auc:0.99714\n",
      "[21]\ttrain-auc:1.00000\ttest-auc:0.99714\n",
      "[22]\ttrain-auc:1.00000\ttest-auc:0.99714\n",
      "[23]\ttrain-auc:1.00000\ttest-auc:0.99746\n",
      "[24]\ttrain-auc:1.00000\ttest-auc:0.99714\n",
      "[25]\ttrain-auc:1.00000\ttest-auc:0.99714\n",
      "[26]\ttrain-auc:1.00000\ttest-auc:0.99714\n",
      "[27]\ttrain-auc:1.00000\ttest-auc:0.99714\n",
      "[28]\ttrain-auc:1.00000\ttest-auc:0.99714\n",
      "[29]\ttrain-auc:1.00000\ttest-auc:0.99714\n",
      "[30]\ttrain-auc:1.00000\ttest-auc:0.99714\n",
      "[31]\ttrain-auc:1.00000\ttest-auc:0.99714\n",
      "[32]\ttrain-auc:1.00000\ttest-auc:0.99714\n",
      "[33]\ttrain-auc:1.00000\ttest-auc:0.99746\n",
      "[34]\ttrain-auc:1.00000\ttest-auc:0.99746\n",
      "[35]\ttrain-auc:1.00000\ttest-auc:0.99746\n",
      "[36]\ttrain-auc:1.00000\ttest-auc:0.99746\n",
      "[37]\ttrain-auc:1.00000\ttest-auc:0.99746\n",
      "[38]\ttrain-auc:1.00000\ttest-auc:0.99746\n",
      "[39]\ttrain-auc:1.00000\ttest-auc:0.99746\n",
      "[40]\ttrain-auc:1.00000\ttest-auc:0.99746\n",
      "[41]\ttrain-auc:1.00000\ttest-auc:0.99746\n",
      "[42]\ttrain-auc:1.00000\ttest-auc:0.99746\n",
      "[43]\ttrain-auc:1.00000\ttest-auc:0.99746\n",
      "[44]\ttrain-auc:1.00000\ttest-auc:0.99746\n",
      "[45]\ttrain-auc:1.00000\ttest-auc:0.99746\n",
      "[46]\ttrain-auc:1.00000\ttest-auc:0.99746\n",
      "[47]\ttrain-auc:1.00000\ttest-auc:0.99746\n",
      "[48]\ttrain-auc:1.00000\ttest-auc:0.99746\n",
      "[49]\ttrain-auc:1.00000\ttest-auc:0.99746\n"
     ]
    }
   ],
   "execution_count": 5
  },
  {
   "metadata": {
    "ExecuteTime": {
     "end_time": "2024-09-24T09:35:40.626411Z",
     "start_time": "2024-09-24T09:35:40.618410Z"
    }
   },
   "cell_type": "code",
   "source": [
    "def logregobj(preds,Dtrain):\n",
    "    labels = Dtrain.get_label()\n",
    "    preds = 1.0 / (1.0 + np.exp(-preds))\n",
    "    grad = preds - labels\n",
    "    hessian = preds * (1.0 - preds)\n",
    "    return grad, hessian\n",
    "\n",
    "def evalerror(preds,Dtrain):\n",
    "    labels = Dtrain.get_label()\n",
    "    return 'error', float(np.sum((preds > 0) != labels)) / len(labels)"
   ],
   "id": "aecd9be05eccf3dd",
   "outputs": [],
   "execution_count": 6
  },
  {
   "metadata": {
    "ExecuteTime": {
     "end_time": "2024-09-24T09:35:40.767642Z",
     "start_time": "2024-09-24T09:35:40.628416Z"
    }
   },
   "cell_type": "code",
   "source": "bst3 = xgb.train(params,Dtrain,num_round,watchlist,obj = logregobj, custom_metric=evalerror)",
   "id": "8206f7c22cffd734",
   "outputs": [
    {
     "name": "stdout",
     "output_type": "stream",
     "text": [
      "[0]\ttrain-auc:1.00000\ttrain-error:0.00000\ttest-auc:0.99714\ttest-error:0.02632\n",
      "[1]\ttrain-auc:1.00000\ttrain-error:0.00000\ttest-auc:0.99714\ttest-error:0.02632\n",
      "[2]\ttrain-auc:1.00000\ttrain-error:0.00000\ttest-auc:0.99714\ttest-error:0.02632\n",
      "[3]\ttrain-auc:1.00000\ttrain-error:0.00000\ttest-auc:0.99714\ttest-error:0.01754\n",
      "[4]\ttrain-auc:1.00000\ttrain-error:0.00000\ttest-auc:0.99714\ttest-error:0.02632\n",
      "[5]\ttrain-auc:1.00000\ttrain-error:0.00000\ttest-auc:0.99714\ttest-error:0.02632\n",
      "[6]\ttrain-auc:1.00000\ttrain-error:0.00000\ttest-auc:0.99714\ttest-error:0.02632\n",
      "[7]\ttrain-auc:1.00000\ttrain-error:0.00000\ttest-auc:0.99714\ttest-error:0.02632\n",
      "[8]\ttrain-auc:1.00000\ttrain-error:0.00000\ttest-auc:0.99714\ttest-error:0.02632\n",
      "[9]\ttrain-auc:1.00000\ttrain-error:0.00000\ttest-auc:0.99714\ttest-error:0.01754\n",
      "[10]\ttrain-auc:1.00000\ttrain-error:0.00000\ttest-auc:0.99714\ttest-error:0.02632\n",
      "[11]\ttrain-auc:1.00000\ttrain-error:0.00000\ttest-auc:0.99714\ttest-error:0.01754\n",
      "[12]\ttrain-auc:1.00000\ttrain-error:0.00000\ttest-auc:0.99714\ttest-error:0.01754\n",
      "[13]\ttrain-auc:1.00000\ttrain-error:0.00000\ttest-auc:0.99714\ttest-error:0.02632\n",
      "[14]\ttrain-auc:1.00000\ttrain-error:0.00000\ttest-auc:0.99714\ttest-error:0.02632\n",
      "[15]\ttrain-auc:1.00000\ttrain-error:0.00000\ttest-auc:0.99714\ttest-error:0.01754\n",
      "[16]\ttrain-auc:1.00000\ttrain-error:0.00000\ttest-auc:0.99714\ttest-error:0.02632\n",
      "[17]\ttrain-auc:1.00000\ttrain-error:0.00000\ttest-auc:0.99714\ttest-error:0.02632\n",
      "[18]\ttrain-auc:1.00000\ttrain-error:0.00000\ttest-auc:0.99714\ttest-error:0.02632\n",
      "[19]\ttrain-auc:1.00000\ttrain-error:0.00000\ttest-auc:0.99714\ttest-error:0.02632\n",
      "[20]\ttrain-auc:1.00000\ttrain-error:0.00000\ttest-auc:0.99714\ttest-error:0.02632\n",
      "[21]\ttrain-auc:1.00000\ttrain-error:0.00000\ttest-auc:0.99714\ttest-error:0.02632\n",
      "[22]\ttrain-auc:1.00000\ttrain-error:0.00000\ttest-auc:0.99714\ttest-error:0.02632\n",
      "[23]\ttrain-auc:1.00000\ttrain-error:0.00000\ttest-auc:0.99746\ttest-error:0.02632\n",
      "[24]\ttrain-auc:1.00000\ttrain-error:0.00000\ttest-auc:0.99714\ttest-error:0.02632\n",
      "[25]\ttrain-auc:1.00000\ttrain-error:0.00000\ttest-auc:0.99714\ttest-error:0.02632\n",
      "[26]\ttrain-auc:1.00000\ttrain-error:0.00000\ttest-auc:0.99714\ttest-error:0.02632\n",
      "[27]\ttrain-auc:1.00000\ttrain-error:0.00000\ttest-auc:0.99714\ttest-error:0.02632\n",
      "[28]\ttrain-auc:1.00000\ttrain-error:0.00000\ttest-auc:0.99714\ttest-error:0.02632\n",
      "[29]\ttrain-auc:1.00000\ttrain-error:0.00000\ttest-auc:0.99714\ttest-error:0.02632\n",
      "[30]\ttrain-auc:1.00000\ttrain-error:0.00000\ttest-auc:0.99714\ttest-error:0.02632\n",
      "[31]\ttrain-auc:1.00000\ttrain-error:0.00000\ttest-auc:0.99714\ttest-error:0.02632\n",
      "[32]\ttrain-auc:1.00000\ttrain-error:0.00000\ttest-auc:0.99714\ttest-error:0.02632\n",
      "[33]\ttrain-auc:1.00000\ttrain-error:0.00000\ttest-auc:0.99746\ttest-error:0.02632\n",
      "[34]\ttrain-auc:1.00000\ttrain-error:0.00000\ttest-auc:0.99746\ttest-error:0.02632\n",
      "[35]\ttrain-auc:1.00000\ttrain-error:0.00000\ttest-auc:0.99746\ttest-error:0.01754\n",
      "[36]\ttrain-auc:1.00000\ttrain-error:0.00000\ttest-auc:0.99746\ttest-error:0.02632\n",
      "[37]\ttrain-auc:1.00000\ttrain-error:0.00000\ttest-auc:0.99746\ttest-error:0.02632\n",
      "[38]\ttrain-auc:1.00000\ttrain-error:0.00000\ttest-auc:0.99746\ttest-error:0.02632\n",
      "[39]\ttrain-auc:1.00000\ttrain-error:0.00000\ttest-auc:0.99746\ttest-error:0.02632\n",
      "[40]\ttrain-auc:1.00000\ttrain-error:0.00000\ttest-auc:0.99746\ttest-error:0.03509\n",
      "[41]\ttrain-auc:1.00000\ttrain-error:0.00000\ttest-auc:0.99746\ttest-error:0.03509\n",
      "[42]\ttrain-auc:1.00000\ttrain-error:0.00000\ttest-auc:0.99746\ttest-error:0.02632\n",
      "[43]\ttrain-auc:1.00000\ttrain-error:0.00000\ttest-auc:0.99746\ttest-error:0.02632\n",
      "[44]\ttrain-auc:1.00000\ttrain-error:0.00000\ttest-auc:0.99746\ttest-error:0.02632\n",
      "[45]\ttrain-auc:1.00000\ttrain-error:0.00000\ttest-auc:0.99746\ttest-error:0.02632\n",
      "[46]\ttrain-auc:1.00000\ttrain-error:0.00000\ttest-auc:0.99746\ttest-error:0.02632\n",
      "[47]\ttrain-auc:1.00000\ttrain-error:0.00000\ttest-auc:0.99746\ttest-error:0.02632\n",
      "[48]\ttrain-auc:1.00000\ttrain-error:0.00000\ttest-auc:0.99746\ttest-error:0.02632\n",
      "[49]\ttrain-auc:1.00000\ttrain-error:0.00000\ttest-auc:0.99746\ttest-error:0.02632\n"
     ]
    }
   ],
   "execution_count": 7
  },
  {
   "metadata": {
    "ExecuteTime": {
     "end_time": "2024-09-24T09:35:40.851649Z",
     "start_time": "2024-09-24T09:35:40.768642Z"
    }
   },
   "cell_type": "code",
   "source": [
    "res = xgb.cv(params,Dtrain,num_round,nfold=5,seed=24,callbacks=[xgb.callback.EvaluationMonitor(period=1),\n",
    "                                                                xgb.callback.EarlyStopping(rounds = 10)])"
   ],
   "id": "f60ffadf736c062b",
   "outputs": [
    {
     "name": "stdout",
     "output_type": "stream",
     "text": [
      "[0]\ttrain-auc:1.00000\ttest-auc:1.00000\n",
      "[1]\ttrain-auc:1.00000\ttest-auc:1.00000\n",
      "[2]\ttrain-auc:1.00000\ttest-auc:1.00000\n",
      "[3]\ttrain-auc:1.00000\ttest-auc:1.00000\n",
      "[4]\ttrain-auc:1.00000\ttest-auc:1.00000\n",
      "[5]\ttrain-auc:1.00000\ttest-auc:1.00000\n",
      "[6]\ttrain-auc:1.00000\ttest-auc:1.00000\n",
      "[7]\ttrain-auc:1.00000\ttest-auc:1.00000\n",
      "[8]\ttrain-auc:1.00000\ttest-auc:1.00000\n",
      "[9]\ttrain-auc:1.00000\ttest-auc:1.00000\n"
     ]
    }
   ],
   "execution_count": 8
  },
  {
   "metadata": {
    "ExecuteTime": {
     "end_time": "2024-09-24T09:35:40.863164Z",
     "start_time": "2024-09-24T09:35:40.852649Z"
    }
   },
   "cell_type": "code",
   "source": "print(res)",
   "id": "4c515f0e435cb3fa",
   "outputs": [
    {
     "name": "stdout",
     "output_type": "stream",
     "text": [
      "   train-auc-mean  train-auc-std  test-auc-mean  test-auc-std\n",
      "0             1.0            0.0            1.0           0.0\n"
     ]
    }
   ],
   "execution_count": 9
  },
  {
   "metadata": {
    "ExecuteTime": {
     "end_time": "2024-09-24T09:35:40.950171Z",
     "start_time": "2024-09-24T09:35:40.865167Z"
    }
   },
   "cell_type": "code",
   "source": [
    "def preproc(Dtrain,Dtest,params):\n",
    "    labels = Dtrain.get_label()\n",
    "    ratio = np.sum(labels == 1) / np.sum(labels == 0)\n",
    "    params['scale_pos_weight'] = ratio\n",
    "    return Dtrain, Dtest, params\n",
    "\n",
    "bst4 = xgb.cv(params,Dtrain,num_round,nfold=5, seed= 24, fpreproc=preproc,callbacks=[xgb.callback.EvaluationMonitor(period=1),\n",
    "                                                                                     xgb.callback.EarlyStopping(rounds = 10)])"
   ],
   "id": "96b89c9538b88880",
   "outputs": [
    {
     "name": "stdout",
     "output_type": "stream",
     "text": [
      "[0]\ttrain-auc:1.00000\ttest-auc:1.00000\n",
      "[1]\ttrain-auc:1.00000\ttest-auc:1.00000\n",
      "[2]\ttrain-auc:1.00000\ttest-auc:1.00000\n",
      "[3]\ttrain-auc:1.00000\ttest-auc:1.00000\n",
      "[4]\ttrain-auc:1.00000\ttest-auc:1.00000\n",
      "[5]\ttrain-auc:1.00000\ttest-auc:1.00000\n",
      "[6]\ttrain-auc:1.00000\ttest-auc:1.00000\n",
      "[7]\ttrain-auc:1.00000\ttest-auc:1.00000\n",
      "[8]\ttrain-auc:1.00000\ttest-auc:1.00000\n",
      "[9]\ttrain-auc:1.00000\ttest-auc:1.00000\n",
      "[10]\ttrain-auc:1.00000\ttest-auc:1.00000\n"
     ]
    }
   ],
   "execution_count": 10
  },
  {
   "metadata": {
    "ExecuteTime": {
     "end_time": "2024-09-24T09:35:40.964687Z",
     "start_time": "2024-09-24T09:35:40.951172Z"
    }
   },
   "cell_type": "code",
   "source": [
    "from sklearn.metrics import roc_auc_score\n",
    "label = Dtest.get_label()\n",
    "preds_limit = bst.predict(Dtest,iteration_range=(0,10))\n",
    "preds_without_limit = bst.predict(Dtest)\n",
    "roc_auc_limit = roc_auc_score(label, preds_limit)\n",
    "roc_auc_without_limit = roc_auc_score(label, preds_without_limit)\n",
    "print('with limitation :' + str(roc_auc_limit))\n",
    "print('without limitation :' + str(roc_auc_without_limit))"
   ],
   "id": "32a43985d6a41479",
   "outputs": [
    {
     "name": "stdout",
     "output_type": "stream",
     "text": [
      "with limitation :0.9961892664337885\n",
      "without limitation :0.9971419498253413\n"
     ]
    }
   ],
   "execution_count": 11
  },
  {
   "metadata": {
    "ExecuteTime": {
     "end_time": "2024-09-24T09:35:40.973686Z",
     "start_time": "2024-09-24T09:35:40.965687Z"
    }
   },
   "cell_type": "code",
   "source": [
    "leaf_index = bst.predict(Dtest,iteration_range=(0,10),pred_leaf=True)\n",
    "print(leaf_index.shape)\n",
    "print(leaf_index)"
   ],
   "id": "aad888d52c964c0c",
   "outputs": [
    {
     "name": "stdout",
     "output_type": "stream",
     "text": [
      "(114, 10)\n",
      "[[14. 14. 20. ... 21. 14. 14.]\n",
      " [15. 20. 22. ... 25.  7.  7.]\n",
      " [15. 20. 22. ... 24.  7.  7.]\n",
      " ...\n",
      " [14. 14. 20. ... 21. 14. 14.]\n",
      " [14. 14. 20. ... 21. 14. 14.]\n",
      " [15. 14. 11. ... 21.  9.  9.]]\n"
     ]
    }
   ],
   "execution_count": 12
  },
  {
   "metadata": {
    "ExecuteTime": {
     "end_time": "2024-09-24T09:36:17.404934Z",
     "start_time": "2024-09-24T09:36:17.398924Z"
    }
   },
   "cell_type": "code",
   "source": [
    "pred_contrib = bst.predict(Dtest,pred_contribs=True)\n",
    "print(pred_contrib)"
   ],
   "id": "659c2ba4b1904a62",
   "outputs": [
    {
     "name": "stdout",
     "output_type": "stream",
     "text": [
      "[[ 8.9322776e-03 -8.8935807e-02  0.0000000e+00 ... -4.2217791e-02\n",
      "  -1.9941615e-02 -4.3351498e+00]\n",
      " [ 2.3657329e-02 -3.5012072e-01  0.0000000e+00 ...  6.9230676e-02\n",
      "  -1.0002808e-02  3.2604959e+00]\n",
      " [ 2.6324231e-02  3.0666345e-01  0.0000000e+00 ... -2.0713320e-02\n",
      "  -1.2381128e-03  4.7834830e+00]\n",
      " ...\n",
      " [-1.1065914e-01 -4.8282631e-03  0.0000000e+00 ... -1.6415002e-02\n",
      "   2.0076953e-02 -4.6424165e+00]\n",
      " [-1.1065914e-01 -1.7543592e-01  0.0000000e+00 ... -2.2523830e-02\n",
      "   1.4675630e-02 -4.6287436e+00]\n",
      " [-3.6605293e-01  2.1792153e-01  0.0000000e+00 ...  5.5335082e-02\n",
      "   2.1469144e-02  2.0032582e+00]]\n"
     ]
    }
   ],
   "execution_count": 13
  },
  {
   "metadata": {
    "ExecuteTime": {
     "end_time": "2024-09-24T09:36:49.475158Z",
     "start_time": "2024-09-24T09:36:49.422691Z"
    }
   },
   "cell_type": "code",
   "source": [
    "pred_interaction = bst.predict(Dtest,pred_interactions=True)\n",
    "print(pred_interaction)"
   ],
   "id": "b4d5078f9f629e27",
   "outputs": [
    {
     "name": "stdout",
     "output_type": "stream",
     "text": [
      "[[[ 1.7732359e-02  0.0000000e+00  0.0000000e+00 ...  2.7462840e-04\n",
      "    0.0000000e+00  0.0000000e+00]\n",
      "  [ 0.0000000e+00 -1.0500293e-01  0.0000000e+00 ... -1.7413683e-03\n",
      "   -2.3978008e-03  0.0000000e+00]\n",
      "  [ 0.0000000e+00  0.0000000e+00  0.0000000e+00 ...  0.0000000e+00\n",
      "    0.0000000e+00  0.0000000e+00]\n",
      "  ...\n",
      "  [ 2.7463073e-04 -1.7413720e-03  0.0000000e+00 ... -6.1221205e-02\n",
      "    0.0000000e+00  0.0000000e+00]\n",
      "  [ 0.0000000e+00 -2.3978055e-03  0.0000000e+00 ...  0.0000000e+00\n",
      "   -3.5066724e-02  0.0000000e+00]\n",
      "  [ 0.0000000e+00  0.0000000e+00  0.0000000e+00 ...  0.0000000e+00\n",
      "    0.0000000e+00 -4.3351498e+00]]\n",
      "\n",
      " [[ 1.8436644e-02  0.0000000e+00  0.0000000e+00 ...  7.7557191e-04\n",
      "    0.0000000e+00  0.0000000e+00]\n",
      "  [ 0.0000000e+00 -3.0756357e-01  0.0000000e+00 ...  1.8322900e-02\n",
      "   -1.5691128e-03  0.0000000e+00]\n",
      "  [ 0.0000000e+00  0.0000000e+00  0.0000000e+00 ...  0.0000000e+00\n",
      "    0.0000000e+00  0.0000000e+00]\n",
      "  ...\n",
      "  [ 7.7557191e-04  1.8322900e-02  0.0000000e+00 ...  3.5795201e-02\n",
      "    0.0000000e+00  0.0000000e+00]\n",
      "  [ 0.0000000e+00 -1.5691072e-03  0.0000000e+00 ...  0.0000000e+00\n",
      "   -1.2415876e-02  0.0000000e+00]\n",
      "  [ 0.0000000e+00  0.0000000e+00  0.0000000e+00 ...  0.0000000e+00\n",
      "    0.0000000e+00  3.2604959e+00]]\n",
      "\n",
      " [[ 1.7772991e-02  0.0000000e+00  0.0000000e+00 ... -5.8155507e-04\n",
      "    0.0000000e+00  0.0000000e+00]\n",
      "  [ 0.0000000e+00  1.8660319e-01  0.0000000e+00 ... -1.0005171e-02\n",
      "    5.9586577e-04  0.0000000e+00]\n",
      "  [ 0.0000000e+00  0.0000000e+00  0.0000000e+00 ...  0.0000000e+00\n",
      "    0.0000000e+00  0.0000000e+00]\n",
      "  ...\n",
      "  [-5.8155507e-04 -1.0005176e-02  0.0000000e+00 ...  1.6571855e-02\n",
      "    0.0000000e+00  0.0000000e+00]\n",
      "  [ 0.0000000e+00  5.9586763e-04  0.0000000e+00 ...  0.0000000e+00\n",
      "   -6.6048740e-03  0.0000000e+00]\n",
      "  [ 0.0000000e+00  0.0000000e+00  0.0000000e+00 ...  0.0000000e+00\n",
      "    0.0000000e+00  4.7834830e+00]]\n",
      "\n",
      " ...\n",
      "\n",
      " [[-2.3466256e-01  0.0000000e+00  0.0000000e+00 ... -4.0979418e-03\n",
      "    0.0000000e+00  0.0000000e+00]\n",
      "  [ 0.0000000e+00  3.4897253e-02  0.0000000e+00 ...  1.9412553e-03\n",
      "    1.0071881e-04  0.0000000e+00]\n",
      "  [ 0.0000000e+00  0.0000000e+00  0.0000000e+00 ...  0.0000000e+00\n",
      "    0.0000000e+00  0.0000000e+00]\n",
      "  ...\n",
      "  [-4.0979460e-03  1.9412544e-03  0.0000000e+00 ... -7.8967055e-03\n",
      "    0.0000000e+00  0.0000000e+00]\n",
      "  [ 0.0000000e+00  1.0071695e-04  0.0000000e+00 ...  0.0000000e+00\n",
      "    3.3954032e-02  0.0000000e+00]\n",
      "  [ 0.0000000e+00  0.0000000e+00  0.0000000e+00 ...  0.0000000e+00\n",
      "    0.0000000e+00 -4.6424165e+00]]\n",
      "\n",
      " [[-2.3466262e-01  0.0000000e+00  0.0000000e+00 ... -4.0979413e-03\n",
      "    0.0000000e+00  0.0000000e+00]\n",
      "  [ 0.0000000e+00 -1.7009683e-01  0.0000000e+00 ... -3.2394733e-03\n",
      "    1.0071881e-04  0.0000000e+00]\n",
      "  [ 0.0000000e+00  0.0000000e+00  0.0000000e+00 ...  0.0000000e+00\n",
      "    0.0000000e+00  0.0000000e+00]\n",
      "  ...\n",
      "  [-4.0979460e-03 -3.2394677e-03  0.0000000e+00 ... -1.4005477e-02\n",
      "    0.0000000e+00  0.0000000e+00]\n",
      "  [ 0.0000000e+00  1.0071695e-04  0.0000000e+00 ...  0.0000000e+00\n",
      "    2.4198303e-02  0.0000000e+00]\n",
      "  [ 0.0000000e+00  0.0000000e+00  0.0000000e+00 ...  0.0000000e+00\n",
      "    0.0000000e+00 -4.6287436e+00]]\n",
      "\n",
      " [[-2.5132301e-01  0.0000000e+00  0.0000000e+00 ...  9.6334703e-03\n",
      "    0.0000000e+00  0.0000000e+00]\n",
      "  [ 0.0000000e+00  1.3146316e-01  0.0000000e+00 ... -5.7034679e-03\n",
      "    5.9586577e-04  0.0000000e+00]\n",
      "  [ 0.0000000e+00  0.0000000e+00  0.0000000e+00 ...  0.0000000e+00\n",
      "    0.0000000e+00  0.0000000e+00]\n",
      "  ...\n",
      "  [ 9.6334666e-03 -5.7034642e-03  0.0000000e+00 ...  4.4273864e-02\n",
      "    0.0000000e+00  0.0000000e+00]\n",
      "  [ 0.0000000e+00  5.9586018e-04  0.0000000e+00 ...  0.0000000e+00\n",
      "    3.2392561e-02  0.0000000e+00]\n",
      "  [ 0.0000000e+00  0.0000000e+00  0.0000000e+00 ...  0.0000000e+00\n",
      "    0.0000000e+00  2.0032582e+00]]]\n"
     ]
    }
   ],
   "execution_count": 14
  },
  {
   "metadata": {},
   "cell_type": "code",
   "outputs": [],
   "execution_count": null,
   "source": "",
   "id": "c26f9652cff37f11"
  }
 ],
 "metadata": {
  "kernelspec": {
   "display_name": "Python 3",
   "language": "python",
   "name": "python3"
  },
  "language_info": {
   "codemirror_mode": {
    "name": "ipython",
    "version": 2
   },
   "file_extension": ".py",
   "mimetype": "text/x-python",
   "name": "python",
   "nbconvert_exporter": "python",
   "pygments_lexer": "ipython2",
   "version": "2.7.6"
  }
 },
 "nbformat": 4,
 "nbformat_minor": 5
}
