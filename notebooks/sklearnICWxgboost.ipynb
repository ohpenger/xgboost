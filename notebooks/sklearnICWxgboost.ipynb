{
 "cells": [
  {
   "metadata": {
    "ExecuteTime": {
     "end_time": "2024-09-24T08:16:20.384710Z",
     "start_time": "2024-09-24T08:16:20.381711Z"
    }
   },
   "cell_type": "code",
   "source": [
    "import numpy as np\n",
    "import pandas as pd\n",
    "import xgboost as xgb\n",
    "from sklearn.model_selection import train_test_split\n",
    "from sklearn.metrics import roc_auc_score,mean_squared_error\n",
    "from sklearn import datasets"
   ],
   "id": "b05e9d25199e1f98",
   "outputs": [],
   "execution_count": 9
  },
  {
   "metadata": {
    "ExecuteTime": {
     "end_time": "2024-09-24T08:11:22.935153Z",
     "start_time": "2024-09-24T08:11:22.861273Z"
    }
   },
   "cell_type": "code",
   "source": [
    "cancer = datasets.load_breast_cancer()\n",
    "X = cancer.data\n",
    "y = cancer.target\n",
    "X_train, X_test, y_train, y_test = train_test_split(X, y, test_size=0.2, random_state=0)\n",
    "dtrain = xgb.DMatrix(X_train, y_train)\n",
    "dtest = xgb.DMatrix(X_test, y_test)\n",
    "params = {\n",
    "    'objective': 'binary:logistic',\n",
    "    'booster': 'gbtree',\n",
    "    'eval_metric': 'auc',\n",
    "    'eta': 0.1,\n",
    "    'min_child_weight': 1,\n",
    "}\n",
    "watchlist = [(dtest, 'eval'), (dtrain, 'train')]\n",
    "num_round = 50"
   ],
   "id": "9f079f3ddfa47fab",
   "outputs": [],
   "execution_count": 2
  },
  {
   "metadata": {
    "ExecuteTime": {
     "end_time": "2024-09-24T08:11:23.952062Z",
     "start_time": "2024-09-24T08:11:23.846663Z"
    }
   },
   "cell_type": "code",
   "source": "bst = xgb.train(params,dtrain, num_round,watchlist)",
   "id": "5e788421e5058206",
   "outputs": [
    {
     "name": "stdout",
     "output_type": "stream",
     "text": [
      "[0]\teval-auc:0.99381\ttrain-auc:0.98800\n",
      "[1]\teval-auc:0.99381\ttrain-auc:0.99542\n",
      "[2]\teval-auc:0.99492\ttrain-auc:0.99555\n",
      "[3]\teval-auc:0.99460\ttrain-auc:0.99554\n",
      "[4]\teval-auc:0.99460\ttrain-auc:0.99565\n",
      "[5]\teval-auc:0.99428\ttrain-auc:0.99575\n",
      "[6]\teval-auc:0.99428\ttrain-auc:0.99590\n",
      "[7]\teval-auc:0.99428\ttrain-auc:0.99848\n",
      "[8]\teval-auc:0.99397\ttrain-auc:0.99853\n",
      "[9]\teval-auc:0.99365\ttrain-auc:0.99848\n",
      "[10]\teval-auc:0.99428\ttrain-auc:0.99883\n",
      "[11]\teval-auc:0.99460\ttrain-auc:0.99929\n",
      "[12]\teval-auc:0.99428\ttrain-auc:0.99931\n",
      "[13]\teval-auc:0.99428\ttrain-auc:0.99952\n",
      "[14]\teval-auc:0.99492\ttrain-auc:0.99964\n",
      "[15]\teval-auc:0.99428\ttrain-auc:0.99960\n",
      "[16]\teval-auc:0.99397\ttrain-auc:0.99971\n",
      "[17]\teval-auc:0.99428\ttrain-auc:0.99967\n",
      "[18]\teval-auc:0.99460\ttrain-auc:0.99967\n",
      "[19]\teval-auc:0.99492\ttrain-auc:0.99971\n",
      "[20]\teval-auc:0.99524\ttrain-auc:0.99975\n",
      "[21]\teval-auc:0.99555\ttrain-auc:0.99979\n",
      "[22]\teval-auc:0.99555\ttrain-auc:0.99981\n",
      "[23]\teval-auc:0.99524\ttrain-auc:0.99987\n",
      "[24]\teval-auc:0.99555\ttrain-auc:0.99985\n",
      "[25]\teval-auc:0.99555\ttrain-auc:0.99985\n",
      "[26]\teval-auc:0.99555\ttrain-auc:0.99992\n",
      "[27]\teval-auc:0.99619\ttrain-auc:0.99992\n",
      "[28]\teval-auc:0.99619\ttrain-auc:0.99994\n",
      "[29]\teval-auc:0.99619\ttrain-auc:0.99994\n",
      "[30]\teval-auc:0.99651\ttrain-auc:0.99996\n",
      "[31]\teval-auc:0.99587\ttrain-auc:0.99996\n",
      "[32]\teval-auc:0.99651\ttrain-auc:0.99996\n",
      "[33]\teval-auc:0.99651\ttrain-auc:1.00000\n",
      "[34]\teval-auc:0.99651\ttrain-auc:1.00000\n",
      "[35]\teval-auc:0.99651\ttrain-auc:1.00000\n",
      "[36]\teval-auc:0.99714\ttrain-auc:1.00000\n",
      "[37]\teval-auc:0.99714\ttrain-auc:1.00000\n",
      "[38]\teval-auc:0.99714\ttrain-auc:1.00000\n",
      "[39]\teval-auc:0.99746\ttrain-auc:1.00000\n",
      "[40]\teval-auc:0.99778\ttrain-auc:1.00000\n",
      "[41]\teval-auc:0.99778\ttrain-auc:1.00000\n",
      "[42]\teval-auc:0.99778\ttrain-auc:1.00000\n",
      "[43]\teval-auc:0.99778\ttrain-auc:1.00000\n",
      "[44]\teval-auc:0.99746\ttrain-auc:1.00000\n",
      "[45]\teval-auc:0.99746\ttrain-auc:1.00000\n",
      "[46]\teval-auc:0.99714\ttrain-auc:1.00000\n",
      "[47]\teval-auc:0.99714\ttrain-auc:1.00000\n",
      "[48]\teval-auc:0.99714\ttrain-auc:1.00000\n",
      "[49]\teval-auc:0.99714\ttrain-auc:1.00000\n"
     ]
    },
    {
     "name": "stderr",
     "output_type": "stream",
     "text": [
      "F:\\envs\\ML\\lib\\site-packages\\xgboost\\core.py:723: FutureWarning: Pass `evals` as keyword args.\n",
      "  warnings.warn(msg, FutureWarning)\n"
     ]
    }
   ],
   "execution_count": 3
  },
  {
   "metadata": {
    "ExecuteTime": {
     "end_time": "2024-09-24T08:11:46.934076Z",
     "start_time": "2024-09-24T08:11:46.927932Z"
    }
   },
   "cell_type": "code",
   "source": [
    "importance = bst.get_fscore()\n",
    "print(importance)"
   ],
   "id": "f953b597564c8770",
   "outputs": [
    {
     "name": "stdout",
     "output_type": "stream",
     "text": [
      "{'f0': 4.0, 'f1': 26.0, 'f4': 13.0, 'f5': 2.0, 'f6': 4.0, 'f7': 22.0, 'f8': 1.0, 'f9': 2.0, 'f10': 13.0, 'f12': 7.0, 'f13': 40.0, 'f14': 10.0, 'f15': 14.0, 'f16': 4.0, 'f17': 3.0, 'f18': 9.0, 'f19': 3.0, 'f20': 25.0, 'f21': 57.0, 'f22': 20.0, 'f23': 35.0, 'f24': 15.0, 'f25': 4.0, 'f26': 17.0, 'f27': 31.0, 'f28': 9.0, 'f29': 8.0}\n"
     ]
    }
   ],
   "execution_count": 4
  },
  {
   "metadata": {
    "ExecuteTime": {
     "end_time": "2024-09-24T08:16:24.477935Z",
     "start_time": "2024-09-24T08:16:24.470936Z"
    }
   },
   "cell_type": "code",
   "source": [
    "importance = sorted(importance.items(),key= lambda x : x[1], reverse=True)\n",
    "importance = pd.DataFrame(importance,columns=['feature','importance'])"
   ],
   "id": "f5424631ca4f62a6",
   "outputs": [],
   "execution_count": 10
  },
  {
   "metadata": {
    "ExecuteTime": {
     "end_time": "2024-09-24T08:16:32.473917Z",
     "start_time": "2024-09-24T08:16:32.468311Z"
    }
   },
   "cell_type": "code",
   "source": "print(importance)",
   "id": "6f36e614dc172377",
   "outputs": [
    {
     "name": "stdout",
     "output_type": "stream",
     "text": [
      "   feature  importance\n",
      "0      f21        57.0\n",
      "1      f13        40.0\n",
      "2      f23        35.0\n",
      "3      f27        31.0\n",
      "4       f1        26.0\n",
      "5      f20        25.0\n",
      "6       f7        22.0\n",
      "7      f22        20.0\n",
      "8      f26        17.0\n",
      "9      f24        15.0\n",
      "10     f15        14.0\n",
      "11      f4        13.0\n",
      "12     f10        13.0\n",
      "13     f14        10.0\n",
      "14     f18         9.0\n",
      "15     f28         9.0\n",
      "16     f29         8.0\n",
      "17     f12         7.0\n",
      "18      f0         4.0\n",
      "19      f6         4.0\n",
      "20     f16         4.0\n",
      "21     f25         4.0\n",
      "22     f17         3.0\n",
      "23     f19         3.0\n",
      "24      f5         2.0\n",
      "25      f9         2.0\n",
      "26      f8         1.0\n"
     ]
    }
   ],
   "execution_count": 11
  },
  {
   "metadata": {
    "ExecuteTime": {
     "end_time": "2024-09-24T08:28:46.776903Z",
     "start_time": "2024-09-24T08:28:46.772806Z"
    }
   },
   "cell_type": "code",
   "source": [
    "importance_gain = bst.get_score(importance_type='gain')\n",
    "importance_cover = bst.get_score(importance_type='cover')\n",
    "print(importance_cover)\n",
    "print(importance_gain)"
   ],
   "id": "ee7c045d7a91f0c1",
   "outputs": [
    {
     "name": "stdout",
     "output_type": "stream",
     "text": [
      "{'f0': 31.331314086914062, 'f1': 9.380462646484375, 'f4': 4.472620964050293, 'f5': 7.716960906982422, 'f6': 4.322600841522217, 'f7': 40.18156433105469, 'f8': 2.4339699745178223, 'f9': 2.8687117099761963, 'f10': 11.526849746704102, 'f12': 23.342348098754883, 'f13': 21.245330810546875, 'f14': 32.69927978515625, 'f15': 6.169063091278076, 'f16': 3.119030475616455, 'f17': 2.718057632446289, 'f18': 10.372382164001465, 'f19': 14.254237174987793, 'f20': 19.586702346801758, 'f21': 14.511909484863281, 'f22': 29.082584381103516, 'f23': 15.948540687561035, 'f24': 13.659621238708496, 'f25': 14.678604125976562, 'f26': 22.495100021362305, 'f27': 28.480792999267578, 'f28': 9.117016792297363, 'f29': 4.268739223480225}\n",
      "{'f0': 5.005335807800293, 'f1': 3.0115647315979004, 'f4': 1.3749351501464844, 'f5': 0.7457011938095093, 'f6': 0.4154798090457916, 'f7': 47.92652893066406, 'f8': 0.19219768047332764, 'f9': 0.9413580298423767, 'f10': 2.50227689743042, 'f12': 1.416028380393982, 'f13': 1.9964017868041992, 'f14': 0.5158529877662659, 'f15': 1.2155572175979614, 'f16': 0.8682380318641663, 'f17': 0.4570735692977905, 'f18': 1.375977635383606, 'f19': 2.051179885864258, 'f20': 4.4539899826049805, 'f21': 2.1663572788238525, 'f22': 18.556163787841797, 'f23': 4.147679805755615, 'f24': 1.5412297248840332, 'f25': 0.3484002947807312, 'f26': 6.123688220977783, 'f27': 25.00992202758789, 'f28': 0.6546387076377869, 'f29': 0.511273980140686}\n"
     ]
    }
   ],
   "execution_count": 12
  },
  {
   "metadata": {
    "ExecuteTime": {
     "end_time": "2024-09-24T08:40:53.163544Z",
     "start_time": "2024-09-24T08:40:52.918629Z"
    }
   },
   "cell_type": "code",
   "source": [
    "from matplotlib import pyplot as plt\n",
    "xgb.plot_importance(bst,height=0.5,importance_type='cover')"
   ],
   "id": "15bd7967c4a544bc",
   "outputs": [
    {
     "data": {
      "text/plain": [
       "<Axes: title={'center': 'Feature importance'}, xlabel='F score', ylabel='Features'>"
      ]
     },
     "execution_count": 16,
     "metadata": {},
     "output_type": "execute_result"
    },
    {
     "data": {
      "text/plain": [
       "<Figure size 640x480 with 1 Axes>"
      ],
      "image/png": "[encoded data removed]"
     },
     "metadata": {},
     "output_type": "display_data"
    }
   ],
   "execution_count": 16
  },
  {
   "metadata": {
    "ExecuteTime": {
     "end_time": "2024-09-24T09:09:11.857634Z",
     "start_time": "2024-09-24T09:09:11.807635Z"
    }
   },
   "cell_type": "code",
   "source": [
    "model = xgb.XGBClassifier(objective='binary:logistic',booster='gbtree',eval_metric='auc',learning_rate=0.1,n_estimators=50,max_depth=5\n",
    "                          , silent=False,random_state=0)\n",
    "model.fit(X_train,y_train)"
   ],
   "id": "b6a8f7944ebe1767",
   "outputs": [
    {
     "name": "stderr",
     "output_type": "stream",
     "text": [
      "F:\\envs\\ML\\lib\\site-packages\\xgboost\\core.py:158: UserWarning: [11:09:11] WARNING: D:\\bld\\xgboost-split_1724807710452\\work\\src\\learner.cc:740: \n",
      "Parameters: { \"silent\" } are not used.\n",
      "\n",
      "  warnings.warn(smsg, UserWarning)\n"
     ]
    },
    {
     "data": {
      "text/plain": [
       "XGBClassifier(base_score=None, booster='gbtree', callbacks=None,\n",
       "              colsample_bylevel=None, colsample_bynode=None,\n",
       "              colsample_bytree=None, device=None, early_stopping_rounds=None,\n",
       "              enable_categorical=False, eval_metric='auc', feature_types=None,\n",
       "              gamma=None, grow_policy=None, importance_type=None,\n",
       "              interaction_constraints=None, learning_rate=0.1, max_bin=None,\n",
       "              max_cat_threshold=None, max_cat_to_onehot=None,\n",
       "              max_delta_step=None, max_depth=5, max_leaves=None,\n",
       "              min_child_weight=None, missing=nan, monotone_constraints=None,\n",
       "              multi_strategy=None, n_estimators=50, n_jobs=None,\n",
       "              num_parallel_tree=None, random_state=0, ...)"
      ],
      "text/html": [
       "<style>#sk-container-id-2 {\n",
       "  /* Definition of color scheme common for light and dark mode */\n",
       "  --sklearn-color-text: black;\n",
       "  --sklearn-color-line: gray;\n",
       "  /* Definition of color scheme for unfitted estimators */\n",
       "  --sklearn-color-unfitted-level-0: #fff5e6;\n",
       "  --sklearn-color-unfitted-level-1: #f6e4d2;\n",
       "  --sklearn-color-unfitted-level-2: #ffe0b3;\n",
       "  --sklearn-color-unfitted-level-3: chocolate;\n",
       "  /* Definition of color scheme for fitted estimators */\n",
       "  --sklearn-color-fitted-level-0: #f0f8ff;\n",
       "  --sklearn-color-fitted-level-1: #d4ebff;\n",
       "  --sklearn-color-fitted-level-2: #b3dbfd;\n",
       "  --sklearn-color-fitted-level-3: cornflowerblue;\n",
       "\n",
       "  /* Specific color for light theme */\n",
       "  --sklearn-color-text-on-default-background: var(--sg-text-color, var(--theme-code-foreground, var(--jp-content-font-color1, black)));\n",
       "  --sklearn-color-background: var(--sg-background-color, var(--theme-background, var(--jp-layout-color0, white)));\n",
       "  --sklearn-color-border-box: var(--sg-text-color, var(--theme-code-foreground, var(--jp-content-font-color1, black)));\n",
       "  --sklearn-color-icon: #696969;\n",
       "\n",
       "  @media (prefers-color-scheme: dark) {\n",
       "    /* Redefinition of color scheme for dark theme */\n",
       "    --sklearn-color-text-on-default-background: var(--sg-text-color, var(--theme-code-foreground, var(--jp-content-font-color1, white)));\n",
       "    --sklearn-color-background: var(--sg-background-color, var(--theme-background, var(--jp-layout-color0, #111)));\n",
       "    --sklearn-color-border-box: var(--sg-text-color, var(--theme-code-foreground, var(--jp-content-font-color1, white)));\n",
       "    --sklearn-color-icon: #878787;\n",
       "  }\n",
       "}\n",
       "\n",
       "#sk-container-id-2 {\n",
       "  color: var(--sklearn-color-text);\n",
       "}\n",
       "\n",
       "#sk-container-id-2 pre {\n",
       "  padding: 0;\n",
       "}\n",
       "\n",
       "#sk-container-id-2 input.sk-hidden--visually {\n",
       "  border: 0;\n",
       "  clip: rect(1px 1px 1px 1px);\n",
       "  clip: rect(1px, 1px, 1px, 1px);\n",
       "  height: 1px;\n",
       "  margin: -1px;\n",
       "  overflow: hidden;\n",
       "  padding: 0;\n",
       "  position: absolute;\n",
       "  width: 1px;\n",
       "}\n",
       "\n",
       "#sk-container-id-2 div.sk-dashed-wrapped {\n",
       "  border: 1px dashed var(--sklearn-color-line);\n",
       "  margin: 0 0.4em 0.5em 0.4em;\n",
       "  box-sizing: border-box;\n",
       "  padding-bottom: 0.4em;\n",
       "  background-color: var(--sklearn-color-background);\n",
       "}\n",
       "\n",
       "#sk-container-id-2 div.sk-container {\n",
       "  /* jupyter's `normalize.less` sets `[hidden] { display: none; }`\n",
       "     but bootstrap.min.css set `[hidden] { display: none !important; }`\n",
       "     so we also need the `!important` here to be able to override the\n",
       "     default hidden behavior on the sphinx rendered scikit-learn.org.\n",
       "     See: https://github.com/scikit-learn/scikit-learn/issues/21755 */\n",
       "  display: inline-block !important;\n",
       "  position: relative;\n",
       "}\n",
       "\n",
       "#sk-container-id-2 div.sk-text-repr-fallback {\n",
       "  display: none;\n",
       "}\n",
       "\n",
       "div.sk-parallel-item,\n",
       "div.sk-serial,\n",
       "div.sk-item {\n",
       "  /* draw centered vertical line to link estimators */\n",
       "  background-image: linear-gradient(var(--sklearn-color-text-on-default-background), var(--sklearn-color-text-on-default-background));\n",
       "  background-size: 2px 100%;\n",
       "  background-repeat: no-repeat;\n",
       "  background-position: center center;\n",
       "}\n",
       "\n",
       "/* Parallel-specific style estimator block */\n",
       "\n",
       "#sk-container-id-2 div.sk-parallel-item::after {\n",
       "  content: \"\";\n",
       "  width: 100%;\n",
       "  border-bottom: 2px solid var(--sklearn-color-text-on-default-background);\n",
       "  flex-grow: 1;\n",
       "}\n",
       "\n",
       "#sk-container-id-2 div.sk-parallel {\n",
       "  display: flex;\n",
       "  align-items: stretch;\n",
       "  justify-content: center;\n",
       "  background-color: var(--sklearn-color-background);\n",
       "  position: relative;\n",
       "}\n",
       "\n",
       "#sk-container-id-2 div.sk-parallel-item {\n",
       "  display: flex;\n",
       "  flex-direction: column;\n",
       "}\n",
       "\n",
       "#sk-container-id-2 div.sk-parallel-item:first-child::after {\n",
       "  align-self: flex-end;\n",
       "  width: 50%;\n",
       "}\n",
       "\n",
       "#sk-container-id-2 div.sk-parallel-item:last-child::after {\n",
       "  align-self: flex-start;\n",
       "  width: 50%;\n",
       "}\n",
       "\n",
       "#sk-container-id-2 div.sk-parallel-item:only-child::after {\n",
       "  width: 0;\n",
       "}\n",
       "\n",
       "/* Serial-specific style estimator block */\n",
       "\n",
       "#sk-container-id-2 div.sk-serial {\n",
       "  display: flex;\n",
       "  flex-direction: column;\n",
       "  align-items: center;\n",
       "  background-color: var(--sklearn-color-background);\n",
       "  padding-right: 1em;\n",
       "  padding-left: 1em;\n",
       "}\n",
       "\n",
       "\n",
       "/* Toggleable style: style used for estimator/Pipeline/ColumnTransformer box that is\n",
       "clickable and can be expanded/collapsed.\n",
       "- Pipeline and ColumnTransformer use this feature and define the default style\n",
       "- Estimators will overwrite some part of the style using the `sk-estimator` class\n",
       "*/\n",
       "\n",
       "/* Pipeline and ColumnTransformer style (default) */\n",
       "\n",
       "#sk-container-id-2 div.sk-toggleable {\n",
       "  /* Default theme specific background. It is overwritten whether we have a\n",
       "  specific estimator or a Pipeline/ColumnTransformer */\n",
       "  background-color: var(--sklearn-color-background);\n",
       "}\n",
       "\n",
       "/* Toggleable label */\n",
       "#sk-container-id-2 label.sk-toggleable__label {\n",
       "  cursor: pointer;\n",
       "  display: block;\n",
       "  width: 100%;\n",
       "  margin-bottom: 0;\n",
       "  padding: 0.5em;\n",
       "  box-sizing: border-box;\n",
       "  text-align: center;\n",
       "}\n",
       "\n",
       "#sk-container-id-2 label.sk-toggleable__label-arrow:before {\n",
       "  /* Arrow on the left of the label */\n",
       "  content: \"▸\";\n",
       "  float: left;\n",
       "  margin-right: 0.25em;\n",
       "  color: var(--sklearn-color-icon);\n",
       "}\n",
       "\n",
       "#sk-container-id-2 label.sk-toggleable__label-arrow:hover:before {\n",
       "  color: var(--sklearn-color-text);\n",
       "}\n",
       "\n",
       "/* Toggleable content - dropdown */\n",
       "\n",
       "#sk-container-id-2 div.sk-toggleable__content {\n",
       "  max-height: 0;\n",
       "  max-width: 0;\n",
       "  overflow: hidden;\n",
       "  text-align: left;\n",
       "  /* unfitted */\n",
       "  background-color: var(--sklearn-color-unfitted-level-0);\n",
       "}\n",
       "\n",
       "#sk-container-id-2 div.sk-toggleable__content.fitted {\n",
       "  /* fitted */\n",
       "  background-color: var(--sklearn-color-fitted-level-0);\n",
       "}\n",
       "\n",
       "#sk-container-id-2 div.sk-toggleable__content pre {\n",
       "  margin: 0.2em;\n",
       "  border-radius: 0.25em;\n",
       "  color: var(--sklearn-color-text);\n",
       "  /* unfitted */\n",
       "  background-color: var(--sklearn-color-unfitted-level-0);\n",
       "}\n",
       "\n",
       "#sk-container-id-2 div.sk-toggleable__content.fitted pre {\n",
       "  /* unfitted */\n",
       "  background-color: var(--sklearn-color-fitted-level-0);\n",
       "}\n",
       "\n",
       "#sk-container-id-2 input.sk-toggleable__control:checked~div.sk-toggleable__content {\n",
       "  /* Expand drop-down */\n",
       "  max-height: 200px;\n",
       "  max-width: 100%;\n",
       "  overflow: auto;\n",
       "}\n",
       "\n",
       "#sk-container-id-2 input.sk-toggleable__control:checked~label.sk-toggleable__label-arrow:before {\n",
       "  content: \"▾\";\n",
       "}\n",
       "\n",
       "/* Pipeline/ColumnTransformer-specific style */\n",
       "\n",
       "#sk-container-id-2 div.sk-label input.sk-toggleable__control:checked~label.sk-toggleable__label {\n",
       "  color: var(--sklearn-color-text);\n",
       "  background-color: var(--sklearn-color-unfitted-level-2);\n",
       "}\n",
       "\n",
       "#sk-container-id-2 div.sk-label.fitted input.sk-toggleable__control:checked~label.sk-toggleable__label {\n",
       "  background-color: var(--sklearn-color-fitted-level-2);\n",
       "}\n",
       "\n",
       "/* Estimator-specific style */\n",
       "\n",
       "/* Colorize estimator box */\n",
       "#sk-container-id-2 div.sk-estimator input.sk-toggleable__control:checked~label.sk-toggleable__label {\n",
       "  /* unfitted */\n",
       "  background-color: var(--sklearn-color-unfitted-level-2);\n",
       "}\n",
       "\n",
       "#sk-container-id-2 div.sk-estimator.fitted input.sk-toggleable__control:checked~label.sk-toggleable__label {\n",
       "  /* fitted */\n",
       "  background-color: var(--sklearn-color-fitted-level-2);\n",
       "}\n",
       "\n",
       "#sk-container-id-2 div.sk-label label.sk-toggleable__label,\n",
       "#sk-container-id-2 div.sk-label label {\n",
       "  /* The background is the default theme color */\n",
       "  color: var(--sklearn-color-text-on-default-background);\n",
       "}\n",
       "\n",
       "/* On hover, darken the color of the background */\n",
       "#sk-container-id-2 div.sk-label:hover label.sk-toggleable__label {\n",
       "  color: var(--sklearn-color-text);\n",
       "  background-color: var(--sklearn-color-unfitted-level-2);\n",
       "}\n",
       "\n",
       "/* Label box, darken color on hover, fitted */\n",
       "#sk-container-id-2 div.sk-label.fitted:hover label.sk-toggleable__label.fitted {\n",
       "  color: var(--sklearn-color-text);\n",
       "  background-color: var(--sklearn-color-fitted-level-2);\n",
       "}\n",
       "\n",
       "/* Estimator label */\n",
       "\n",
       "#sk-container-id-2 div.sk-label label {\n",
       "  font-family: monospace;\n",
       "  font-weight: bold;\n",
       "  display: inline-block;\n",
       "  line-height: 1.2em;\n",
       "}\n",
       "\n",
       "#sk-container-id-2 div.sk-label-container {\n",
       "  text-align: center;\n",
       "}\n",
       "\n",
       "/* Estimator-specific */\n",
       "#sk-container-id-2 div.sk-estimator {\n",
       "  font-family: monospace;\n",
       "  border: 1px dotted var(--sklearn-color-border-box);\n",
       "  border-radius: 0.25em;\n",
       "  box-sizing: border-box;\n",
       "  margin-bottom: 0.5em;\n",
       "  /* unfitted */\n",
       "  background-color: var(--sklearn-color-unfitted-level-0);\n",
       "}\n",
       "\n",
       "#sk-container-id-2 div.sk-estimator.fitted {\n",
       "  /* fitted */\n",
       "  background-color: var(--sklearn-color-fitted-level-0);\n",
       "}\n",
       "\n",
       "/* on hover */\n",
       "#sk-container-id-2 div.sk-estimator:hover {\n",
       "  /* unfitted */\n",
       "  background-color: var(--sklearn-color-unfitted-level-2);\n",
       "}\n",
       "\n",
       "#sk-container-id-2 div.sk-estimator.fitted:hover {\n",
       "  /* fitted */\n",
       "  background-color: var(--sklearn-color-fitted-level-2);\n",
       "}\n",
       "\n",
       "/* Specification for estimator info (e.g. \"i\" and \"?\") */\n",
       "\n",
       "/* Common style for \"i\" and \"?\" */\n",
       "\n",
       ".sk-estimator-doc-link,\n",
       "a:link.sk-estimator-doc-link,\n",
       "a:visited.sk-estimator-doc-link {\n",
       "  float: right;\n",
       "  font-size: smaller;\n",
       "  line-height: 1em;\n",
       "  font-family: monospace;\n",
       "  background-color: var(--sklearn-color-background);\n",
       "  border-radius: 1em;\n",
       "  height: 1em;\n",
       "  width: 1em;\n",
       "  text-decoration: none !important;\n",
       "  margin-left: 1ex;\n",
       "  /* unfitted */\n",
       "  border: var(--sklearn-color-unfitted-level-1) 1pt solid;\n",
       "  color: var(--sklearn-color-unfitted-level-1);\n",
       "}\n",
       "\n",
       ".sk-estimator-doc-link.fitted,\n",
       "a:link.sk-estimator-doc-link.fitted,\n",
       "a:visited.sk-estimator-doc-link.fitted {\n",
       "  /* fitted */\n",
       "  border: var(--sklearn-color-fitted-level-1) 1pt solid;\n",
       "  color: var(--sklearn-color-fitted-level-1);\n",
       "}\n",
       "\n",
       "/* On hover */\n",
       "div.sk-estimator:hover .sk-estimator-doc-link:hover,\n",
       ".sk-estimator-doc-link:hover,\n",
       "div.sk-label-container:hover .sk-estimator-doc-link:hover,\n",
       ".sk-estimator-doc-link:hover {\n",
       "  /* unfitted */\n",
       "  background-color: var(--sklearn-color-unfitted-level-3);\n",
       "  color: var(--sklearn-color-background);\n",
       "  text-decoration: none;\n",
       "}\n",
       "\n",
       "div.sk-estimator.fitted:hover .sk-estimator-doc-link.fitted:hover,\n",
       ".sk-estimator-doc-link.fitted:hover,\n",
       "div.sk-label-container:hover .sk-estimator-doc-link.fitted:hover,\n",
       ".sk-estimator-doc-link.fitted:hover {\n",
       "  /* fitted */\n",
       "  background-color: var(--sklearn-color-fitted-level-3);\n",
       "  color: var(--sklearn-color-background);\n",
       "  text-decoration: none;\n",
       "}\n",
       "\n",
       "/* Span, style for the box shown on hovering the info icon */\n",
       ".sk-estimator-doc-link span {\n",
       "  display: none;\n",
       "  z-index: 9999;\n",
       "  position: relative;\n",
       "  font-weight: normal;\n",
       "  right: .2ex;\n",
       "  padding: .5ex;\n",
       "  margin: .5ex;\n",
       "  width: min-content;\n",
       "  min-width: 20ex;\n",
       "  max-width: 50ex;\n",
       "  color: var(--sklearn-color-text);\n",
       "  box-shadow: 2pt 2pt 4pt #999;\n",
       "  /* unfitted */\n",
       "  background: var(--sklearn-color-unfitted-level-0);\n",
       "  border: .5pt solid var(--sklearn-color-unfitted-level-3);\n",
       "}\n",
       "\n",
       ".sk-estimator-doc-link.fitted span {\n",
       "  /* fitted */\n",
       "  background: var(--sklearn-color-fitted-level-0);\n",
       "  border: var(--sklearn-color-fitted-level-3);\n",
       "}\n",
       "\n",
       ".sk-estimator-doc-link:hover span {\n",
       "  display: block;\n",
       "}\n",
       "\n",
       "/* \"?\"-specific style due to the `<a>` HTML tag */\n",
       "\n",
       "#sk-container-id-2 a.estimator_doc_link {\n",
       "  float: right;\n",
       "  font-size: 1rem;\n",
       "  line-height: 1em;\n",
       "  font-family: monospace;\n",
       "  background-color: var(--sklearn-color-background);\n",
       "  border-radius: 1rem;\n",
       "  height: 1rem;\n",
       "  width: 1rem;\n",
       "  text-decoration: none;\n",
       "  /* unfitted */\n",
       "  color: var(--sklearn-color-unfitted-level-1);\n",
       "  border: var(--sklearn-color-unfitted-level-1) 1pt solid;\n",
       "}\n",
       "\n",
       "#sk-container-id-2 a.estimator_doc_link.fitted {\n",
       "  /* fitted */\n",
       "  border: var(--sklearn-color-fitted-level-1) 1pt solid;\n",
       "  color: var(--sklearn-color-fitted-level-1);\n",
       "}\n",
       "\n",
       "/* On hover */\n",
       "#sk-container-id-2 a.estimator_doc_link:hover {\n",
       "  /* unfitted */\n",
       "  background-color: var(--sklearn-color-unfitted-level-3);\n",
       "  color: var(--sklearn-color-background);\n",
       "  text-decoration: none;\n",
       "}\n",
       "\n",
       "#sk-container-id-2 a.estimator_doc_link.fitted:hover {\n",
       "  /* fitted */\n",
       "  background-color: var(--sklearn-color-fitted-level-3);\n",
       "}\n",
       "</style><div id=\"sk-container-id-2\" class=\"sk-top-container\"><div class=\"sk-text-repr-fallback\"><pre>XGBClassifier(base_score=None, booster=&#x27;gbtree&#x27;, callbacks=None,\n",
       "              colsample_bylevel=None, colsample_bynode=None,\n",
       "              colsample_bytree=None, device=None, early_stopping_rounds=None,\n",
       "              enable_categorical=False, eval_metric=&#x27;auc&#x27;, feature_types=None,\n",
       "              gamma=None, grow_policy=None, importance_type=None,\n",
       "              interaction_constraints=None, learning_rate=0.1, max_bin=None,\n",
       "              max_cat_threshold=None, max_cat_to_onehot=None,\n",
       "              max_delta_step=None, max_depth=5, max_leaves=None,\n",
       "              min_child_weight=None, missing=nan, monotone_constraints=None,\n",
       "              multi_strategy=None, n_estimators=50, n_jobs=None,\n",
       "              num_parallel_tree=None, random_state=0, ...)</pre><b>In a Jupyter environment, please rerun this cell to show the HTML representation or trust the notebook. <br />On GitHub, the HTML representation is unable to render, please try loading this page with nbviewer.org.</b></div><div class=\"sk-container\" hidden><div class=\"sk-item\"><div class=\"sk-estimator fitted sk-toggleable\"><input class=\"sk-toggleable__control sk-hidden--visually\" id=\"sk-estimator-id-2\" type=\"checkbox\" checked><label for=\"sk-estimator-id-2\" class=\"sk-toggleable__label fitted sk-toggleable__label-arrow fitted\">&nbsp;XGBClassifier<span class=\"sk-estimator-doc-link fitted\">i<span>Fitted</span></span></label><div class=\"sk-toggleable__content fitted\"><pre>XGBClassifier(base_score=None, booster=&#x27;gbtree&#x27;, callbacks=None,\n",
       "              colsample_bylevel=None, colsample_bynode=None,\n",
       "              colsample_bytree=None, device=None, early_stopping_rounds=None,\n",
       "              enable_categorical=False, eval_metric=&#x27;auc&#x27;, feature_types=None,\n",
       "              gamma=None, grow_policy=None, importance_type=None,\n",
       "              interaction_constraints=None, learning_rate=0.1, max_bin=None,\n",
       "              max_cat_threshold=None, max_cat_to_onehot=None,\n",
       "              max_delta_step=None, max_depth=5, max_leaves=None,\n",
       "              min_child_weight=None, missing=nan, monotone_constraints=None,\n",
       "              multi_strategy=None, n_estimators=50, n_jobs=None,\n",
       "              num_parallel_tree=None, random_state=0, ...)</pre></div> </div></div></div></div>"
      ]
     },
     "execution_count": 27,
     "metadata": {},
     "output_type": "execute_result"
    }
   ],
   "execution_count": 27
  },
  {
   "metadata": {
    "ExecuteTime": {
     "end_time": "2024-09-24T08:58:27.125453Z",
     "start_time": "2024-09-24T08:58:27.118456Z"
    }
   },
   "cell_type": "code",
   "source": [
    "y_pred = model.predict(X_test)\n",
    "rocauc = roc_auc_score(y_test,y_pred)\n",
    "print(rocauc)\n"
   ],
   "id": "76e252f769cc6780",
   "outputs": [
    {
     "name": "stdout",
     "output_type": "stream",
     "text": [
      "0.9669736424261671\n",
      "[0 1 1 1 1 1 1 1 1 1 1 1 1 1 1 0 1 0 0 0 0 0 1 1 0 1 1 0 1 0 1 0 1 0 1 0 1\n",
      " 0 1 0 0 1 0 1 1 0 1 1 1 0 0 0 0 1 1 1 1 1 1 0 0 0 1 1 0 1 0 0 0 1 1 0 1 0\n",
      " 0 1 1 1 1 1 0 0 0 1 0 1 1 1 0 0 1 0 1 0 1 1 0 1 1 1 1 1 1 1 0 1 0 1 0 0 1\n",
      " 0 0 1]\n"
     ]
    }
   ],
   "execution_count": 22
  },
  {
   "metadata": {
    "ExecuteTime": {
     "end_time": "2024-09-24T09:02:42.765398Z",
     "start_time": "2024-09-24T09:02:42.753389Z"
    }
   },
   "cell_type": "code",
   "source": [
    "importances = model.feature_importances_\n",
    "print(importance)"
   ],
   "id": "e57b371cd89284d5",
   "outputs": [
    {
     "name": "stdout",
     "output_type": "stream",
     "text": [
      "   feature  importance\n",
      "0      f21        57.0\n",
      "1      f13        40.0\n",
      "2      f23        35.0\n",
      "3      f27        31.0\n",
      "4       f1        26.0\n",
      "5      f20        25.0\n",
      "6       f7        22.0\n",
      "7      f22        20.0\n",
      "8      f26        17.0\n",
      "9      f24        15.0\n",
      "10     f15        14.0\n",
      "11      f4        13.0\n",
      "12     f10        13.0\n",
      "13     f14        10.0\n",
      "14     f18         9.0\n",
      "15     f28         9.0\n",
      "16     f29         8.0\n",
      "17     f12         7.0\n",
      "18      f0         4.0\n",
      "19      f6         4.0\n",
      "20     f16         4.0\n",
      "21     f25         4.0\n",
      "22     f17         3.0\n",
      "23     f19         3.0\n",
      "24      f5         2.0\n",
      "25      f9         2.0\n",
      "26      f8         1.0\n"
     ]
    }
   ],
   "execution_count": 24
  },
  {
   "metadata": {
    "ExecuteTime": {
     "end_time": "2024-09-24T09:07:06.404591Z",
     "start_time": "2024-09-24T09:07:06.399542Z"
    }
   },
   "cell_type": "code",
   "source": [
    "thresholds = []\n",
    "for i in importances:\n",
    "    if i not in thresholds:\n",
    "        thresholds.append(i)\n",
    "print(thresholds)"
   ],
   "id": "5686e118f34ca7f8",
   "outputs": [
    {
     "name": "stdout",
     "output_type": "stream",
     "text": [
      "[np.float32(0.036932927), np.float32(0.022221467), np.float32(0.0), np.float32(0.010145249), np.float32(0.005502314), np.float32(0.0030657055), np.float32(0.353636), np.float32(0.0014181711), np.float32(0.006946009), np.float32(0.018463578), np.float32(0.010448464), np.float32(0.014730872), np.float32(0.0038063303), np.float32(0.0089692455), np.float32(0.0064064777), np.float32(0.0033726138), np.float32(0.010152942), np.float32(0.015135064), np.float32(0.032864705), np.float32(0.015984925), np.float32(0.13692057), np.float32(0.03060453), np.float32(0.011372289), np.float32(0.002570745), np.float32(0.045184925), np.float32(0.18454099), np.float32(0.0048303897), np.float32(0.003772543)]\n"
     ]
    }
   ],
   "execution_count": 25
  },
  {
   "metadata": {
    "ExecuteTime": {
     "end_time": "2024-09-24T09:07:38.198671Z",
     "start_time": "2024-09-24T09:07:38.194696Z"
    }
   },
   "cell_type": "code",
   "source": "thresholds = sorted(thresholds)",
   "id": "edca372c2e667bf8",
   "outputs": [],
   "execution_count": 26
  },
  {
   "metadata": {
    "ExecuteTime": {
     "end_time": "2024-09-24T09:29:13.232591Z",
     "start_time": "2024-09-24T09:29:12.153090Z"
    }
   },
   "cell_type": "code",
   "source": [
    "from sklearn.feature_selection import SelectFromModel\n",
    "for threshold in thresholds:\n",
    "    selection = SelectFromModel(model, threshold=threshold,prefit=True)\n",
    "    print(selection.get_support(True))\n",
    "    selected_X_train = selection.transform(X_train)\n",
    "    selected_X_test = selection.transform(X_test)\n",
    "    model2 = xgb.XGBClassifier(objective='binary:logistic',booster='gbtree',eval_metric='auc',max_depth=5,learning_rate=0.1,n_estimators =50)\n",
    "    model2.fit(selected_X_train,y_train)\n",
    "    y_pred = model2.predict(selected_X_test)\n",
    "    rocauc = roc_auc_score(y_test,y_pred)\n",
    "    print(str(threshold) + '    '+ str(selected_X_train.shape[1]) + '    ' + str(rocauc))"
   ],
   "id": "f2af84e8b8ad3051",
   "outputs": [
    {
     "name": "stdout",
     "output_type": "stream",
     "text": [
      "[ 0  1  2  3  4  5  6  7  8  9 10 11 12 13 14 15 16 17 18 19 20 21 22 23\n",
      " 24 25 26 27 28 29]\n",
      "0.0    30    0.9669736424261671\n",
      "[ 0  1  4  5  6  7  8  9 10 12 13 14 15 16 17 18 19 20 21 22 23 24 25 26\n",
      " 27 28 29]\n",
      "0.0014181711    27    0.9669736424261671\n",
      "[ 0  1  4  5  6  7  9 10 12 13 14 15 16 17 18 19 20 21 22 23 24 25 26 27\n",
      " 28 29]\n",
      "0.002570745    26    0.9669736424261671\n",
      "[ 0  1  4  5  6  7  9 10 12 13 14 15 16 17 18 19 20 21 22 23 24 26 27 28\n",
      " 29]\n",
      "0.0030657055    25    0.9744363289933311\n",
      "[ 0  1  4  5  7  9 10 12 13 14 15 16 17 18 19 20 21 22 23 24 26 27 28 29]\n",
      "0.0033726138    24    0.9850746268656716\n",
      "[ 0  1  4  5  7  9 10 12 13 14 15 16 18 19 20 21 22 23 24 26 27 28 29]\n",
      "0.003772543    23    0.9850746268656716\n",
      "[ 0  1  4  5  7  9 10 12 13 14 15 16 18 19 20 21 22 23 24 26 27 28]\n",
      "0.0038063303    22    0.9744363289933311\n",
      "[ 0  1  4  5  7  9 10 12 13 15 16 18 19 20 21 22 23 24 26 27 28]\n",
      "0.0048303897    21    0.9850746268656716\n",
      "[ 0  1  4  5  7  9 10 12 13 15 16 18 19 20 21 22 23 24 26 27]\n",
      "0.005502314    20    0.9850746268656716\n",
      "[ 0  1  4  7  9 10 12 13 15 16 18 19 20 21 22 23 24 26 27]\n",
      "0.0064064777    19    0.9744363289933311\n",
      "[ 0  1  4  7  9 10 12 13 15 18 19 20 21 22 23 24 26 27]\n",
      "0.006946009    18    0.9776119402985075\n",
      "[ 0  1  4  7 10 12 13 15 18 19 20 21 22 23 24 26 27]\n",
      "0.0089692455    17    0.9669736424261671\n",
      "[ 0  1  4  7 10 12 13 18 19 20 21 22 23 24 26 27]\n",
      "0.010145249    16    0.9744363289933311\n",
      "[ 0  1  7 10 12 13 18 19 20 21 22 23 24 26 27]\n",
      "0.010152942    15    0.9850746268656716\n",
      "[ 0  1  7 10 12 13 19 20 21 22 23 24 26 27]\n",
      "0.010448464    14    0.9776119402985075\n",
      "[ 0  1  7 10 13 19 20 21 22 23 24 26 27]\n",
      "0.011372289    13    0.9776119402985075\n",
      "[ 0  1  7 10 13 19 20 21 22 23 26 27]\n",
      "0.014730872    12    0.9669736424261671\n",
      "[ 0  1  7 10 19 20 21 22 23 26 27]\n",
      "0.015135064    11    0.9776119402985075\n",
      "[ 0  1  7 10 20 21 22 23 26 27]\n",
      "0.015984925    10    0.9850746268656716\n",
      "[ 0  1  7 10 20 22 23 26 27]\n",
      "0.018463578    9    0.9776119402985075\n",
      "[ 0  1  7 20 22 23 26 27]\n",
      "0.022221467    8    0.9850746268656716\n",
      "[ 0  7 20 22 23 26 27]\n",
      "0.03060453    7    0.9488726579866624\n",
      "[ 0  7 20 22 26 27]\n",
      "0.032864705    6    0.9456970466814862\n",
      "[ 0  7 22 26 27]\n",
      "0.036932927    5    0.9275960622419815\n",
      "[ 7 22 26 27]\n",
      "0.045184925    4    0.9307716735471578\n",
      "[ 7 22 27]\n",
      "0.13692057    3    0.9531597332486503\n",
      "[ 7 27]\n",
      "0.18454099    2    0.9031438551921245\n",
      "[7]\n",
      "0.353636    1    0.8945697046681486\n"
     ]
    }
   ],
   "execution_count": 33
  },
  {
   "metadata": {
    "ExecuteTime": {
     "end_time": "2024-09-24T09:35:18.642881Z",
     "start_time": "2024-09-24T09:35:18.611092Z"
    }
   },
   "cell_type": "code",
   "source": [
    "pred_contrib = model.predict(X_test,pred_contribs=True)\n",
    "print(pred_contrib)"
   ],
   "id": "2f5b56520b825825",
   "outputs": [
    {
     "ename": "TypeError",
     "evalue": "predict() got an unexpected keyword argument 'pred_contribs'",
     "output_type": "error",
     "traceback": [
      "\u001B[1;31m---------------------------------------------------------------------------\u001B[0m",
      "\u001B[1;31mTypeError\u001B[0m                                 Traceback (most recent call last)",
      "Cell \u001B[1;32mIn[37], line 1\u001B[0m\n\u001B[1;32m----> 1\u001B[0m pred_contrib \u001B[38;5;241m=\u001B[39m \u001B[43mmodel\u001B[49m\u001B[38;5;241;43m.\u001B[39;49m\u001B[43mpredict\u001B[49m\u001B[43m(\u001B[49m\u001B[43mX_test\u001B[49m\u001B[43m,\u001B[49m\u001B[43mpred_contribs\u001B[49m\u001B[38;5;241;43m=\u001B[39;49m\u001B[38;5;28;43;01mTrue\u001B[39;49;00m\u001B[43m)\u001B[49m\n\u001B[0;32m      2\u001B[0m \u001B[38;5;28mprint\u001B[39m(pred_contrib)\n",
      "\u001B[1;31mTypeError\u001B[0m: predict() got an unexpected keyword argument 'pred_contribs'"
     ]
    }
   ],
   "execution_count": 37
  },
  {
   "metadata": {
    "ExecuteTime": {
     "end_time": "2024-09-24T09:25:12.866771Z",
     "start_time": "2024-09-24T09:25:12.855687Z"
    }
   },
   "cell_type": "code",
   "source": "",
   "id": "8abf5e818080fe23",
   "outputs": [],
   "execution_count": 30
  }
 ],
 "metadata": {
  "kernelspec": {
   "display_name": "Python 3",
   "language": "python",
   "name": "python3"
  },
  "language_info": {
   "codemirror_mode": {
    "name": "ipython",
    "version": 2
   },
   "file_extension": ".py",
   "mimetype": "text/x-python",
   "name": "python",
   "nbconvert_exporter": "python",
   "pygments_lexer": "ipython2",
   "version": "2.7.6"
  }
 },
 "nbformat": 4,
 "nbformat_minor": 5
}
